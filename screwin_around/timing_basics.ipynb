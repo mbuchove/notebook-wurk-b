{
 "cells": [
  {
   "cell_type": "code",
   "execution_count": 2,
   "metadata": {
    "collapsed": false
   },
   "outputs": [],
   "source": [
    "from timeit import timeit\n"
   ]
  },
  {
   "cell_type": "code",
   "execution_count": 3,
   "metadata": {
    "collapsed": false
   },
   "outputs": [
    {
     "name": "stdout",
     "output_type": "stream",
     "text": [
      "The slowest run took 16.53 times longer than the fastest. This could mean that an intermediate result is being cached \n",
      "10000000 loops, best of 3: 68.5 ns per loop\n",
      "10000000 loops, best of 3: 75.7 ns per loop\n",
      "10000000 loops, best of 3: 40.8 ns per loop\n"
     ]
    }
   ],
   "source": [
    "tst_lst = [5, 5, 2]\n",
    "%timeit tst_lst[1]\n",
    "\n",
    "tst_dct = dict()\n",
    "tst_dct[0] = 5\n",
    "tst_dct[3] = 5\n",
    "tst_dct[5] = 2\n",
    "%timeit tst_dct[3]\n",
    "\n",
    "x = 5\n",
    "%timeit x\n"
   ]
  }
 ],
 "metadata": {
  "kernelspec": {
   "display_name": "Python 3",
   "language": "python",
   "name": "python3"
  },
  "language_info": {
   "codemirror_mode": {
    "name": "ipython",
    "version": 3
   },
   "file_extension": ".py",
   "mimetype": "text/x-python",
   "name": "python",
   "nbconvert_exporter": "python",
   "pygments_lexer": "ipython3",
   "version": "3.5.1"
  }
 },
 "nbformat": 4,
 "nbformat_minor": 0
}
