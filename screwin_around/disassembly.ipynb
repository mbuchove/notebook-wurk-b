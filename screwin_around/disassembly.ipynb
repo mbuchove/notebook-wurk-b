{
 "cells": [
  {
   "cell_type": "code",
   "execution_count": 4,
   "metadata": {
    "collapsed": false
   },
   "outputs": [],
   "source": [
    "import dis\n",
    "import math\n"
   ]
  },
  {
   "cell_type": "code",
   "execution_count": 7,
   "metadata": {
    "collapsed": false
   },
   "outputs": [
    {
     "name": "stdout",
     "output_type": "stream",
     "text": [
      "  2           0 LOAD_CONST               1 (0)\n",
      "              3 STORE_FAST               1 (x)\n",
      "\n",
      "  3           6 SETUP_LOOP              30 (to 39)\n",
      "              9 LOAD_GLOBAL              0 (range)\n",
      "             12 LOAD_FAST                0 (n)\n",
      "             15 CALL_FUNCTION            1 (1 positional, 0 keyword pair)\n",
      "             18 GET_ITER\n",
      "        >>   19 FOR_ITER                16 (to 38)\n",
      "             22 STORE_FAST               2 (i)\n",
      "\n",
      "  4          25 LOAD_FAST                1 (x)\n",
      "             28 LOAD_FAST                2 (i)\n",
      "             31 INPLACE_ADD\n",
      "             32 STORE_FAST               1 (x)\n",
      "             35 JUMP_ABSOLUTE           19\n",
      "        >>   38 POP_BLOCK\n",
      "\n",
      "  5     >>   39 LOAD_FAST                1 (x)\n",
      "             42 RETURN_VALUE\n"
     ]
    }
   ],
   "source": [
    "def func(n):\n",
    "    x = 0\n",
    "    for i in range(n):\n",
    "        x += i\n",
    "    return x \n",
    "\n",
    "dis.dis(func)\n"
   ]
  }
 ],
 "metadata": {
  "kernelspec": {
   "display_name": "Python 3",
   "language": "python",
   "name": "python3"
  },
  "language_info": {
   "codemirror_mode": {
    "name": "ipython",
    "version": 3
   },
   "file_extension": ".py",
   "mimetype": "text/x-python",
   "name": "python",
   "nbconvert_exporter": "python",
   "pygments_lexer": "ipython3",
   "version": "3.5.1"
  }
 },
 "nbformat": 4,
 "nbformat_minor": 0
}
