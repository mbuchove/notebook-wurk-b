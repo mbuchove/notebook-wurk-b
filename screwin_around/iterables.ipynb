{
 "cells": [
  {
   "cell_type": "code",
   "execution_count": 2,
   "metadata": {
    "collapsed": true
   },
   "outputs": [],
   "source": [
    "def window_slide(it, size=2):\n",
    "    mem = [None] * size\n",
    "    for i, each in enumerate(it):\n",
    "        mem[i % size] = each\n",
    "        if i >= size - 1:\n",
    "            yield mem[(i + 1) % size:] + mem[:(i + 1) % size]"
   ]
  },
  {
   "cell_type": "code",
   "execution_count": 6,
   "metadata": {
    "collapsed": false
   },
   "outputs": [
    {
     "name": "stdout",
     "output_type": "stream",
     "text": [
      "[1, 3, 2]\n",
      "[3, 2, 9]\n",
      "[2, 9, 7]\n"
     ]
    }
   ],
   "source": [
    "gen = window_slide((1,3,2,9,7), 3)\n",
    "for i in gen:\n",
    "    print(i)"
   ]
  },
  {
   "cell_type": "code",
   "execution_count": 9,
   "metadata": {
    "collapsed": false
   },
   "outputs": [
    {
     "name": "stdout",
     "output_type": "stream",
     "text": [
      "1\n",
      "1\n"
     ]
    }
   ],
   "source": [
    "mat = [[1, 1], [0, 0]]\n",
    "it = iter(mat)\n",
    "for i in next(it, []):\n",
    "    print(i)"
   ]
  },
  {
   "cell_type": "code",
   "execution_count": 12,
   "metadata": {
    "collapsed": false
   },
   "outputs": [
    {
     "name": "stdout",
     "output_type": "stream",
     "text": [
      "1\n"
     ]
    }
   ],
   "source": [
    "print(1) if True else print(0)"
   ]
  },
  {
   "cell_type": "code",
   "execution_count": 11,
   "metadata": {
    "collapsed": false
   },
   "outputs": [
    {
     "name": "stdout",
     "output_type": "stream",
     "text": [
      "True\n",
      "2\n",
      "1\n"
     ]
    }
   ],
   "source": [
    "print(1==1)\n",
    "print(1+True)\n",
    "print(1+False)"
   ]
  },
  {
   "cell_type": "code",
   "execution_count": 20,
   "metadata": {
    "collapsed": false
   },
   "outputs": [
    {
     "data": {
      "text/plain": [
       "12"
      ]
     },
     "execution_count": 20,
     "metadata": {},
     "output_type": "execute_result"
    }
   ],
   "source": [
    "from functools import reduce \n",
    "from operator import mul\n",
    "\n",
    "\n",
    "reduce(mul, (2, 3, 2))"
   ]
  },
  {
   "cell_type": "code",
   "execution_count": 40,
   "metadata": {
    "collapsed": false
   },
   "outputs": [
    {
     "name": "stdout",
     "output_type": "stream",
     "text": [
      "False\n",
      "[[1, 0, 1, 0], [0, 1, 0, 1]]\n",
      "1\n",
      "0\n",
      "1\n"
     ]
    }
   ],
   "source": [
    "def __s2m(s):\n",
    "    return [list(map(int, line.split()))\n",
    "            for line in s.splitlines() if line.strip()]\n",
    "\n",
    "print(bool(\"\"))\n",
    "\n",
    "mp = __s2m(\"\"\"1 0 1 0\n",
    "            0 1 0 1\"\"\")\n",
    "\n",
    "print(list(mp))\n",
    "\n",
    "mp = map(int, \"\"\"1 0 1\"\"\".split())\n",
    "for x in mp:\n",
    "    print(x)"
   ]
  }
 ],
 "metadata": {
  "kernelspec": {
   "display_name": "Python 3",
   "language": "python",
   "name": "python3"
  },
  "language_info": {
   "codemirror_mode": {
    "name": "ipython",
    "version": 3
   },
   "file_extension": ".py",
   "mimetype": "text/x-python",
   "name": "python",
   "nbconvert_exporter": "python",
   "pygments_lexer": "ipython3",
   "version": "3.5.1"
  }
 },
 "nbformat": 4,
 "nbformat_minor": 0
}
