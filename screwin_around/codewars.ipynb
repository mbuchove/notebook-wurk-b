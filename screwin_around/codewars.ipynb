{
 "cells": [
  {
   "cell_type": "code",
   "execution_count": null,
   "metadata": {
    "collapsed": true
   },
   "outputs": [],
   "source": [
    "import math\n"
   ]
  },
  {
   "cell_type": "code",
   "execution_count": null,
   "metadata": {
    "collapsed": false
   },
   "outputs": [],
   "source": [
    "def bruteforce(N):\n",
    "    s = str(math.factorial(N))\n",
    "    n = 0 \n",
    "    for c in reversed(list(s)):\n",
    "        if c == '0':\n",
    "            n += 1\n",
    "        else:\n",
    "            break\n",
    "    return n\n",
    "\n",
    "def zeros(n):\n",
    "\n",
    "    div = 5\n",
    "    n_zeros = 0\n",
    "    while div <= n:\n",
    "        n_zeros += int((n-n%div)/div)\n",
    "        div *= 5\n",
    "    return n_zeros\n",
    "\n",
    "        \n",
    "n = 25\n",
    "print(bruteforce(n))\n",
    "print(zeros(n))\n",
    "print(math.factorial(n))"
   ]
  },
  {
   "cell_type": "code",
   "execution_count": null,
   "metadata": {
    "collapsed": true
   },
   "outputs": [],
   "source": [
    "from timeit import timeit"
   ]
  },
  {
   "cell_type": "code",
   "execution_count": null,
   "metadata": {
    "collapsed": true
   },
   "outputs": [],
   "source": [
    "def zeros1(n):\n",
    "\n",
    "    div = 5\n",
    "    n_zeros = 0\n",
    "    while div <= n:\n",
    "        n_zeros += int((n-n%div)/div)\n",
    "        div *= 5\n",
    "    return n_zeros\n",
    "\n",
    "def zeros2(n):\n",
    "\n",
    "    div = 5\n",
    "    n_zeros = 0\n",
    "    while div <= n:\n",
    "        n_zeros += (n-n%div)/div\n",
    "        div *= 5\n",
    "    return int(n_zeros)\n"
   ]
  },
  {
   "cell_type": "code",
   "execution_count": null,
   "metadata": {
    "collapsed": false
   },
   "outputs": [],
   "source": [
    "n = 50000\n",
    "%timeit zeros1(50000)\n",
    "%timeit zeros2(50000)"
   ]
  },
  {
   "cell_type": "code",
   "execution_count": 27,
   "metadata": {
    "collapsed": true
   },
   "outputs": [],
   "source": [
    "class PaginationHelper:\n",
    "\n",
    "    # The constructor takes in an array of items and a integer indicating\n",
    "    # how many items fit within a single page\n",
    "    def __init__(self, collection, items_per_page):\n",
    "        self.collection = collection\n",
    "        self.items_per_page = items_per_page\n",
    "  \n",
    "    # returns the number of items within the entire collection\n",
    "    def item_count(self):\n",
    "        return len(self.collection)\n",
    "  \n",
    "    # returns the number of pages\n",
    "    def page_count(self):\n",
    "        ic = PaginationHelper.item_count(self)\n",
    "        if ic % self.items_per_page == 0:\n",
    "            return ic // self.items_per_page \n",
    "        else:\n",
    "            return (ic - ic % self.items_per_page) // self.items_per_page + 1\n",
    "\n",
    "    # returns the number of items on the current page. page_index is zero based\n",
    "    # this method should return -1 for page_index values that are out of range\n",
    "    def page_item_count(self, page_index):\n",
    "        ic = PaginationHelper.item_count(self)\n",
    "        pc = PaginationHelper.page_count(self)\n",
    "        if page_index < pc - 1:\n",
    "            return self.items_per_page\n",
    "        elif page_index == pc - 1:\n",
    "            return ic - self.items_per_page * (pc - 1)\n",
    "        else: # page_index >= pc\n",
    "            return - 1            \n",
    "  \n",
    "    # determines what page an item is on. Zero based indexes.\n",
    "    # this method should return -1 for item_index values that are out of range\n",
    "    def page_index(self, item_index):\n",
    "        if item_index < PaginationHelper.item_count(self) or item_index < 0:\n",
    "            return ( item_index - item_index % self.items_per_page ) // self.items_per_page \n",
    "        else:\n",
    "            return - 1 \n"
   ]
  },
  {
   "cell_type": "code",
   "execution_count": 14,
   "metadata": {
    "collapsed": true
   },
   "outputs": [],
   "source": [
    "def printandtype(obj):\n",
    "    print(type(obj))\n",
    "    print(obj)\n"
   ]
  },
  {
   "cell_type": "code",
   "execution_count": 24,
   "metadata": {
    "collapsed": false
   },
   "outputs": [
    {
     "name": "stdout",
     "output_type": "stream",
     "text": [
      "<class 'int'>\n",
      "3\n"
     ]
    }
   ],
   "source": [
    "p1 = PaginationHelper(['a', 'b', 'c', 'd', 'e', 'f', 'g', 'h'], 3)\n",
    "printandtype(p1.page_index(7))"
   ]
  }
 ],
 "metadata": {
  "kernelspec": {
   "display_name": "Python 3",
   "language": "python",
   "name": "python3"
  },
  "language_info": {
   "codemirror_mode": {
    "name": "ipython",
    "version": 3
   },
   "file_extension": ".py",
   "mimetype": "text/x-python",
   "name": "python",
   "nbconvert_exporter": "python",
   "pygments_lexer": "ipython3",
   "version": "3.5.1"
  }
 },
 "nbformat": 4,
 "nbformat_minor": 0
}
