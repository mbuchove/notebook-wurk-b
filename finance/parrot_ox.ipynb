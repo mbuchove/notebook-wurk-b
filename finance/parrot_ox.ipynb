{
 "cells": [
  {
   "cell_type": "code",
   "execution_count": 1,
   "metadata": {
    "collapsed": false
   },
   "outputs": [
    {
     "ename": "ImportError",
     "evalue": "No module named numpy",
     "output_type": "error",
     "traceback": [
      "\u001b[0;31m---------------------------------------------------------------------------\u001b[0m",
      "\u001b[0;31mImportError\u001b[0m                               Traceback (most recent call last)",
      "\u001b[0;32m<ipython-input-1-ad45ab85d81b>\u001b[0m in \u001b[0;36m<module>\u001b[0;34m()\u001b[0m\n\u001b[0;32m----> 1\u001b[0;31m \u001b[0;32mimport\u001b[0m \u001b[0mnumpy\u001b[0m \u001b[0;32mas\u001b[0m \u001b[0mnp\u001b[0m\u001b[0;34m\u001b[0m\u001b[0m\n\u001b[0m\u001b[1;32m      2\u001b[0m \u001b[0;32mfrom\u001b[0m \u001b[0menum\u001b[0m \u001b[0;32mimport\u001b[0m \u001b[0mEnum\u001b[0m\u001b[0;34m\u001b[0m\u001b[0m\n\u001b[1;32m      3\u001b[0m \u001b[0;32mfrom\u001b[0m \u001b[0mmatplotlib\u001b[0m \u001b[0;32mimport\u001b[0m \u001b[0mpyplot\u001b[0m \u001b[0;32mas\u001b[0m \u001b[0mplt\u001b[0m\u001b[0;34m\u001b[0m\u001b[0m\n",
      "\u001b[0;31mImportError\u001b[0m: No module named numpy"
     ]
    }
   ],
   "source": [
    "import numpy as np\n",
    "from enum import Enum\n",
    "from matplotlib import pyplot as plt\n"
   ]
  },
  {
   "cell_type": "markdown",
   "metadata": {},
   "source": [
    "<h2> Boy or Girl Paradox </h2>"
   ]
  },
  {
   "cell_type": "code",
   "execution_count": 2,
   "metadata": {
    "collapsed": false
   },
   "outputs": [],
   "source": [
    "class gender(Enum):\n",
    "    male = 1\n",
    "    female = 2\n",
    "\n",
    "class dayofweek(Enum):\n",
    "    Sunday = 1\n",
    "    Monday = 2\n",
    "    Tuesday = 3\n",
    "    Wednesday = 4 \n",
    "    Thursday = 5 \n",
    "    Friday = 6 \n",
    "    Saturday = 7 \n",
    "    \n",
    "class child():\n",
    "    def __init__(self, gender, birth_day):\n",
    "        self.gender = gender\n",
    "        self.birth_day = birth_day \n",
    "            \n",
    "class fam_2p():\n",
    "    def __init__(self, younger_sibling, older_sibling):\n",
    "        self.young = younger_sibling\n",
    "        self.old = older_sibling\n",
    "    "
   ]
  },
  {
   "cell_type": "code",
   "execution_count": 3,
   "metadata": {
    "collapsed": false
   },
   "outputs": [],
   "source": [
    "N = 1000000\n",
    "fams = [] \n",
    "for i in range(0, N):\n",
    "    youngen = child(gender(np.random.randint(1,3)), dayofweek(np.random.randint(1,8)))\n",
    "    oldmen = child(gender(np.random.randint(1,3)), dayofweek(np.random.randint(1,8)))\n",
    "    fams.append(fam_2p(youngen, oldmen))\n",
    "    "
   ]
  },
  {
   "cell_type": "code",
   "execution_count": 4,
   "metadata": {
    "collapsed": false
   },
   "outputs": [
    {
     "name": "stdout",
     "output_type": "stream",
     "text": [
      "0\n",
      "0\n",
      "0\n",
      "0\n",
      "0\n"
     ]
    }
   ],
   "source": [
    "fams_atleast1boy = []\n",
    "fams_youngerisboy = []\n",
    "fams_atleast1boytuesday = []\n",
    "for fam in fams:\n",
    "    if fam.young.gender == gender.male:\n",
    "        fams_youngerisboy.append(fam)\n",
    "        fams_atleast1boy.append(fam)\n",
    "        if fam.young.birth_day == dayofweek.Tuesday:\n",
    "            fams_atleast1boytuesday.append(fam)\n",
    "    elif fam.old.gender == gender.male:\n",
    "        fams_atleast1boy.append(fam)\n",
    "        if fam.old.birth_day == dayofweek.Tuesday:\n",
    "            fams_atleast1boytuesday.append(fam)\n",
    "    \n",
    "print(len(fams_youngerisboy) / len(fams))\n",
    "print(len(fams_atleast1boy) / len(fams))\n",
    "        \n",
    "num_fams_bothboys = 0 \n",
    "for fam in fams_youngerisboy:\n",
    "    if fam.old.gender == gender.male:\n",
    "        num_fams_bothboys += 1\n",
    "print(num_fams_bothboys / len(fams_youngerisboy))\n",
    "\n",
    "num_fams_bothboys = 0 \n",
    "for fam in fams_atleast1boy:\n",
    "    if fam.young.gender == gender.male and fam.old.gender == gender.male:\n",
    "        num_fams_bothboys += 1\n",
    "print(num_fams_bothboys / len(fams_atleast1boy))\n",
    "\n",
    "num_fams_bothboys = 0\n",
    "for fam in fams_atleast1boytuesday:\n",
    "    if fam.young.gender == gender.male and fam.old.gender == gender.male:\n",
    "        num_fams_bothboys += 1\n",
    "print(num_fams_bothboys / len(fams_atleast1boytuesday))\n",
    "\n"
   ]
  },
  {
   "cell_type": "markdown",
   "metadata": {},
   "source": [
    "<h2> Draw til 0 </h2>"
   ]
  },
  {
   "cell_type": "code",
   "execution_count": 5,
   "metadata": {
    "collapsed": true
   },
   "outputs": [],
   "source": [
    "def draw_til_zero(N):\n",
    "    \"\"\"picks a number between 0 and N-1 with equal probabibility \\\n",
    "    then repeats with the number drawn until reaching zero \\\n",
    "    returns the number of iterations this takes\"\"\"\n",
    "    num_draws = 0 \n",
    "    n = N\n",
    "    while n > 0:\n",
    "        n = np.random.randint(0, n)\n",
    "        num_draws += 1\n",
    "    return num_draws\n",
    "\n",
    "def expectation_val(func, args, num_trials):\n",
    "    total = 0\n",
    "    n = 0\n",
    "    while n < num_trials:\n",
    "        total += func(*args)\n",
    "        n += 1\n",
    "    return total / num_trials\n",
    "\n",
    "def harmonic_sum_simple(n):\n",
    "    sum = 0 \n",
    "    for k in range(1, n+1):\n",
    "        sum += 1/k\n",
    "    return sum\n"
   ]
  },
  {
   "cell_type": "code",
   "execution_count": 6,
   "metadata": {
    "collapsed": false
   },
   "outputs": [
    {
     "name": "stdout",
     "output_type": "stream",
     "text": [
      "1\n",
      "5\n"
     ]
    }
   ],
   "source": [
    "N = 100\n",
    "print(harmonic_sum_simple(N))\n",
    "print(expectation_val(draw_til_zero, (N,), 10000))"
   ]
  },
  {
   "cell_type": "markdown",
   "metadata": {},
   "source": [
    "testing variable scope"
   ]
  },
  {
   "cell_type": "code",
   "execution_count": 7,
   "metadata": {
    "collapsed": false
   },
   "outputs": [
    {
     "name": "stdout",
     "output_type": "stream",
     "text": [
      "5\n"
     ]
    },
    {
     "ename": "NameError",
     "evalue": "name 'n' is not defined",
     "output_type": "error",
     "traceback": [
      "\u001b[1;31m---------------------------------------------------------------------------\u001b[0m",
      "\u001b[1;31mNameError\u001b[0m                                 Traceback (most recent call last)",
      "\u001b[1;32m<ipython-input-7-a9bac9f46631>\u001b[0m in \u001b[0;36m<module>\u001b[1;34m()\u001b[0m\n\u001b[0;32m      3\u001b[0m \u001b[1;33m\u001b[0m\u001b[0m\n\u001b[0;32m      4\u001b[0m \u001b[1;32mprint\u001b[0m\u001b[1;33m(\u001b[0m\u001b[0minscope\u001b[0m\u001b[1;33m)\u001b[0m\u001b[1;33m\u001b[0m\u001b[0m\n\u001b[1;32m----> 5\u001b[1;33m \u001b[1;32mprint\u001b[0m\u001b[1;33m(\u001b[0m\u001b[0mn\u001b[0m\u001b[1;33m)\u001b[0m\u001b[1;33m\u001b[0m\u001b[0m\n\u001b[0m",
      "\u001b[1;31mNameError\u001b[0m: name 'n' is not defined"
     ]
    }
   ],
   "source": [
    "if True:\n",
    "    inscope = 5\n",
    "    \n",
    "print(inscope)\n",
    "print(n)"
   ]
  },
  {
   "cell_type": "markdown",
   "metadata": {},
   "source": [
    "<h1>Boy or Girl Paradox II</h1>"
   ]
  },
  {
   "cell_type": "code",
   "execution_count": 2,
   "metadata": {
    "collapsed": false
   },
   "outputs": [
    {
     "data": {
      "text/plain": [
       "['BB', 'BG', 'GB', 'GG']"
      ]
     },
     "execution_count": 2,
     "metadata": {},
     "output_type": "execute_result"
    }
   ],
   "source": [
    "import itertools\n",
    "from fractions import Fraction\n",
    "from __future__ import print_function\n",
    "\n",
    "sex = 'BG'\n",
    "\n",
    "def product(*variables):\n",
    "    return map(''.join, itertools.product(*variables))\n",
    "\n",
    "two_kids = product(sex, sex)\n",
    "\n",
    "two_kids"
   ]
  },
  {
   "cell_type": "code",
   "execution_count": 17,
   "metadata": {
    "collapsed": false
   },
   "outputs": [
    {
     "name": "stdout",
     "output_type": "stream",
     "text": [
      "('B', 'B')\n",
      "('B', 'G')\n"
     ]
    }
   ],
   "source": [
    "g = itertools.product(sex, sex)\n",
    "print(next(g))\n",
    "print(next(g))\n",
    "str.join?\n",
    "map?"
   ]
  },
  {
   "cell_type": "code",
   "execution_count": 12,
   "metadata": {
    "collapsed": false
   },
   "outputs": [
    {
     "name": "stdout",
     "output_type": "stream",
     "text": [
      "1/3\n"
     ]
    }
   ],
   "source": [
    "# at least one boy \n",
    "one_boy = [s for s in two_kids if 'B' in s] \n",
    "\n",
    "def two_boys(s): return s.count('B') == 2\n",
    "\n",
    "def condP(predicate, event):\n",
    "    '''Conditional probability: P(predicate(s) | s in event)\n",
    "    The proportion of states in event for which predicate is true.'''\n",
    "    pred = [s for s in event if predicate(s)]\n",
    "    return Fraction(len(pred), len(event))\n",
    "\n",
    "print(condP(two_boys, one_boy))"
   ]
  },
  {
   "cell_type": "code",
   "execution_count": 13,
   "metadata": {
    "collapsed": false
   },
   "outputs": [
    {
     "name": "stdout",
     "output_type": "stream",
     "text": [
      "13/27\n"
     ]
    }
   ],
   "source": [
    "day = 'SMTWRFA'\n",
    "#Thurs = R and Sat = A\n",
    "\n",
    "two_kids_bday = product(sex, day, sex, day)\n",
    "\n",
    "boy_tuesday = [s for s in two_kids_bday if 'BT' in s]\n",
    "\n",
    "print(condP(two_boys, boy_tuesday))"
   ]
  },
  {
   "cell_type": "code",
   "execution_count": null,
   "metadata": {
    "collapsed": true
   },
   "outputs": [],
   "source": []
  }
 ],
 "metadata": {
  "kernelspec": {
   "display_name": "Python 2",
   "language": "python",
   "name": "python2"
  },
  "language_info": {
   "codemirror_mode": {
    "name": "ipython",
    "version": 2
   },
   "file_extension": ".py",
   "mimetype": "text/x-python",
   "name": "python",
   "nbconvert_exporter": "python",
   "pygments_lexer": "ipython2",
   "version": "2.7.11"
  }
 },
 "nbformat": 4,
 "nbformat_minor": 0
}
