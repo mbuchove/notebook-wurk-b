{
 "cells": [
  {
   "cell_type": "code",
   "execution_count": 20,
   "metadata": {
    "collapsed": true
   },
   "outputs": [],
   "source": [
    "import numpy as np\n",
    "from enum import Enum\n",
    "from matplotlib import pyplot as plt\n"
   ]
  },
  {
   "cell_type": "markdown",
   "metadata": {},
   "source": [
    "<h2> Boy or Girl Paradox </h2>"
   ]
  },
  {
   "cell_type": "code",
   "execution_count": 36,
   "metadata": {
    "collapsed": false
   },
   "outputs": [],
   "source": [
    "class gender(Enum):\n",
    "    male = 1\n",
    "    female = 2\n",
    "\n",
    "class dayofweek(Enum):\n",
    "    Sunday = 1\n",
    "    Monday = 2\n",
    "    Tuesday = 3\n",
    "    Wednesday = 4 \n",
    "    Thursday = 5 \n",
    "    Friday = 6 \n",
    "    Saturday = 7 \n",
    "    \n",
    "class child():\n",
    "    def __init__(self, gender, birth_day):\n",
    "        self.gender = gender\n",
    "        self.birth_day = birth_day \n",
    "            \n",
    "class fam_2p():\n",
    "    def __init__(self, younger_sibling, older_sibling):\n",
    "        self.young = younger_sibling\n",
    "        self.old = older_sibling\n",
    "    "
   ]
  },
  {
   "cell_type": "code",
   "execution_count": 96,
   "metadata": {
    "collapsed": false
   },
   "outputs": [],
   "source": [
    "N = 1000000\n",
    "fams = [] \n",
    "for i in range(0, N):\n",
    "    youngen = child(gender(np.random.randint(1,3)), dayofweek(np.random.randint(1,8)))\n",
    "    oldmen = child(gender(np.random.randint(1,3)), dayofweek(np.random.randint(1,8)))\n",
    "    fams.append(fam_2p(youngen, oldmen))\n",
    "    "
   ]
  },
  {
   "cell_type": "code",
   "execution_count": 99,
   "metadata": {
    "collapsed": false
   },
   "outputs": [
    {
     "name": "stdout",
     "output_type": "stream",
     "text": [
      "0.49988\n",
      "0.749424\n",
      "0.5000600144034568\n",
      "0.3335494993488332\n",
      "0.33441739973162365\n"
     ]
    }
   ],
   "source": [
    "fams_atleast1boy = []\n",
    "fams_youngerisboy = []\n",
    "fams_atleast1boytuesday = []\n",
    "for fam in fams:\n",
    "    if fam.young.gender == gender.male:\n",
    "        fams_youngerisboy.append(fam)\n",
    "        fams_atleast1boy.append(fam)\n",
    "        if fam.young.birth_day == dayofweek.Tuesday:\n",
    "            fams_atleast1boytuesday.append(fam)\n",
    "    elif fam.old.gender == gender.male:\n",
    "        fams_atleast1boy.append(fam)\n",
    "        if fam.old.birth_day == dayofweek.Tuesday:\n",
    "            fams_atleast1boytuesday.append(fam)\n",
    "    \n",
    "print(len(fams_youngerisboy) / len(fams))\n",
    "print(len(fams_atleast1boy) / len(fams))\n",
    "        \n",
    "num_fams_bothboys = 0 \n",
    "for fam in fams_youngerisboy:\n",
    "    if fam.old.gender == gender.male:\n",
    "        num_fams_bothboys += 1\n",
    "print(num_fams_bothboys / len(fams_youngerisboy))\n",
    "\n",
    "num_fams_bothboys = 0 \n",
    "for fam in fams_atleast1boy:\n",
    "    if fam.young.gender == gender.male and fam.old.gender == gender.male:\n",
    "        num_fams_bothboys += 1\n",
    "print(num_fams_bothboys / len(fams_atleast1boy))\n",
    "\n",
    "num_fams_bothboys = 0\n",
    "for fam in fams_atleast1boytuesday:\n",
    "    if fam.young.gender == gender.male and fam.old.gender == gender.male:\n",
    "        num_fams_bothboys += 1\n",
    "print(num_fams_bothboys / len(fams_atleast1boytuesday))\n",
    "\n"
   ]
  },
  {
   "cell_type": "markdown",
   "metadata": {},
   "source": [
    "<h2> Draw til 0 </h2>"
   ]
  },
  {
   "cell_type": "code",
   "execution_count": 27,
   "metadata": {
    "collapsed": true
   },
   "outputs": [],
   "source": [
    "def draw_til_zero(N):\n",
    "    \"\"\"picks a number between 0 and N-1 with equal probabibility \\\n",
    "    then repeats with the number drawn until reaching zero \\\n",
    "    returns the number of iterations this takes\"\"\"\n",
    "    num_draws = 0 \n",
    "    n = N\n",
    "    while n > 0:\n",
    "        n = np.random.randint(0, n)\n",
    "        num_draws += 1\n",
    "    return num_draws\n",
    "\n",
    "def expectation_val(func, args, num_trials):\n",
    "    total = 0\n",
    "    n = 0\n",
    "    while n < num_trials:\n",
    "        total += func(*args)\n",
    "        n += 1\n",
    "    return total / num_trials\n",
    "\n",
    "def harmonic_sum_simple(n):\n",
    "    sum = 0 \n",
    "    for k in range(1, n+1):\n",
    "        sum += 1/k\n",
    "    return sum\n"
   ]
  },
  {
   "cell_type": "code",
   "execution_count": 98,
   "metadata": {
    "collapsed": false
   },
   "outputs": [
    {
     "name": "stdout",
     "output_type": "stream",
     "text": [
      "5.187377517639621\n",
      "5.1829\n"
     ]
    }
   ],
   "source": [
    "N = 100\n",
    "print(harmonic_sum_simple(N))\n",
    "print(expectation_val(draw_til_zero, (N,), 10000))"
   ]
  },
  {
   "cell_type": "markdown",
   "metadata": {},
   "source": [
    "testing variable scope"
   ]
  },
  {
   "cell_type": "code",
   "execution_count": 35,
   "metadata": {
    "collapsed": false
   },
   "outputs": [
    {
     "name": "stdout",
     "output_type": "stream",
     "text": [
      "5\n"
     ]
    },
    {
     "ename": "NameError",
     "evalue": "name 'n' is not defined",
     "output_type": "error",
     "traceback": [
      "\u001b[0;31m---------------------------------------------------------------------------\u001b[0m",
      "\u001b[0;31mNameError\u001b[0m                                 Traceback (most recent call last)",
      "\u001b[0;32m<ipython-input-35-a9bac9f46631>\u001b[0m in \u001b[0;36m<module>\u001b[0;34m()\u001b[0m\n\u001b[1;32m      3\u001b[0m \u001b[0;34m\u001b[0m\u001b[0m\n\u001b[1;32m      4\u001b[0m \u001b[0mprint\u001b[0m\u001b[0;34m(\u001b[0m\u001b[0minscope\u001b[0m\u001b[0;34m)\u001b[0m\u001b[0;34m\u001b[0m\u001b[0m\n\u001b[0;32m----> 5\u001b[0;31m \u001b[0mprint\u001b[0m\u001b[0;34m(\u001b[0m\u001b[0mn\u001b[0m\u001b[0;34m)\u001b[0m\u001b[0;34m\u001b[0m\u001b[0m\n\u001b[0m",
      "\u001b[0;31mNameError\u001b[0m: name 'n' is not defined"
     ]
    }
   ],
   "source": [
    "if True:\n",
    "    inscope = 5\n",
    "    \n",
    "print(inscope)\n",
    "print(n)"
   ]
  }
 ],
 "metadata": {
  "kernelspec": {
   "display_name": "Python 3",
   "language": "python",
   "name": "python3"
  },
  "language_info": {
   "codemirror_mode": {
    "name": "ipython",
    "version": 3
   },
   "file_extension": ".py",
   "mimetype": "text/x-python",
   "name": "python",
   "nbconvert_exporter": "python",
   "pygments_lexer": "ipython3",
   "version": "3.5.1"
  }
 },
 "nbformat": 4,
 "nbformat_minor": 0
}
