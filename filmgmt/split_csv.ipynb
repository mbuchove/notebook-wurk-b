{
 "cells": [
  {
   "cell_type": "code",
   "execution_count": 39,
   "metadata": {
    "collapsed": true
   },
   "outputs": [],
   "source": [
    "import csv\n",
    "import re\n",
    "# import csv and regex modules"
   ]
  },
  {
   "cell_type": "code",
   "execution_count": 49,
   "metadata": {
    "collapsed": false
   },
   "outputs": [
    {
     "name": "stdout",
     "output_type": "stream",
     "text": [
      "../../Downloads/astro3_lo_2c.csv\n"
     ]
    }
   ],
   "source": [
    "basename = \"../../Downloads/astro3_lo_2c.csv\"\n",
    "m = re.search('(?=).*.csv', basename)\n",
    "print(m.group(0))"
   ]
  },
  {
   "cell_type": "code",
   "execution_count": 50,
   "metadata": {
    "collapsed": false
   },
   "outputs": [
    {
     "name": "stdout",
     "output_type": "stream",
     "text": [
      "['', '', '', '', '', '', '', '', '']\n",
      "['Lab 1', 'Lab 2', 'Lab 3', 'Lab 4', 'Lab 5', 'Lab 6', 'Lab 7', 'Lab 8', 'Total']\n",
      "['25', '', '', '', '', '', '', '', '']\n",
      "['24', '25', '25', '23', '24', '24', '23.5', '24', '192.5']\n",
      "['25', '22', '25', '23', '25', '25', '24.5', '23', '192.5']\n",
      "['22', '25', '23.5', '24', '22', '23', '23', '24', '186.5']\n",
      "['', '', '', '', '', '', '', '', '0']\n",
      "['25', '22', '20', '24', '25', '25', '24', '5', '170']\n",
      "['24', '24', '25', 'MU', '24', '25', '24', '25', '171']\n",
      "['25', '25', '25', '23', '24', '25', '23.5', '22.5', '193']\n",
      "['25', '24', '23', '24.5', '23', '24.5', '24.5', '25', '193.5']\n",
      "['25', '25', '24', '25', '25', '25', '25', '23', '197']\n",
      "['', '', '', '', '', '', '', '', '0']\n",
      "['25', '24', '25', '23', '25', '24.5', '24', '24', '194.5']\n",
      "['25', '25', '24', '24', '24', '24', '25', '22', '193']\n",
      "['25', '25', '25', '25', '25', '25', '25', '25', '200']\n",
      "['25', '', '', '', 'mu', '', '', '', '25']\n",
      "['25', '25', '25', '24', '25', '23.5', '25', '25', '197.5']\n",
      "['25', '25', '25', '23', '24', '25', '25', '23.5', '195.5']\n",
      "['24', '25', '25', '24', '22', '23', '22', '', '165']\n",
      "['', '', '', '', '', '', '', '', '0']\n",
      "['25', '25', '25', '24', '25', '20', '24', '24', '192']\n",
      "['25', '25', '25', '25', '25', '25', '23', '22.5', '195.5']\n",
      "['25', '25', '25', '24', '24', '24', '24', '22', '193']\n",
      "['24.5', '25', '25', '23', '24', '25', '24', '25', '195.5']\n",
      "['25', '25', '24', '23', '24', '25', '23', '25', '194']\n",
      "['25', '24', '24.5', '25', '24', '25', '24.5', '24.5', '196.5']\n",
      "['25', '25', '23.5', '24', '25', '25', '24', '24.5', '196']\n",
      "['', '', '', '', '', '', '', '', '0']\n",
      "['25', '25', '25', '24', '23', '25', '24', '25', '196']\n",
      "['25', '25', '23', '23', '25', '25', '24.5', '25', '195.5']\n",
      "['25', '25', '23', '23', '23', '24.5', '24', '23', '190.5']\n",
      "['25', '25', '23', '22', '25', '25', '25', '78', '248']\n"
     ]
    }
   ],
   "source": [
    "\n",
    "\n",
    "with open(basename) as filein:\n",
    "    reader = csv.reader(filein, delimiter='\\t', skipinitialspace = False) #\n",
    "\n",
    "    uids = []\n",
    "    names = []\n",
    "    scores = []\n",
    "    for row in reader:\n",
    "        print(row[2:])\n",
    "        uids.append(row[0])\n",
    "        names.append(row[1])\n",
    "        scores.append(row[2:])\n",
    "        \n",
    "    for i in range(8):\n",
    "        filename = \"../../Downloads/astro3_py_2c\"+str(i+1)+\".csv\"\n",
    "        with open(filename, 'w') as fileout:                            \n",
    "            writer = csv.writer(fileout, delimiter='\\t')\n",
    "            for j in range(len(uids)):\n",
    "                linestr = uids[j]+'\\t'+names[j]+'\\t'+scores[j][i]\n",
    "                writer.writerow([uids[j], names[j], scores[j][i]])\n",
    "\n"
   ]
  },
  {
   "cell_type": "code",
   "execution_count": 25,
   "metadata": {
    "collapsed": false
   },
   "outputs": [
    {
     "ename": "ValueError",
     "evalue": "I/O operation on closed file.",
     "output_type": "error",
     "traceback": [
      "\u001b[0;31m---------------------------------------------------------------------------\u001b[0m",
      "\u001b[0;31mValueError\u001b[0m                                Traceback (most recent call last)",
      "\u001b[0;32m<ipython-input-25-b2996c23800c>\u001b[0m in \u001b[0;36m<module>\u001b[0;34m()\u001b[0m\n\u001b[0;32m----> 1\u001b[0;31m \u001b[0;32mfor\u001b[0m \u001b[0mrow\u001b[0m \u001b[0;32min\u001b[0m \u001b[0mreader\u001b[0m\u001b[0;34m:\u001b[0m\u001b[0;34m\u001b[0m\u001b[0m\n\u001b[0m\u001b[1;32m      2\u001b[0m     \u001b[0mprint\u001b[0m\u001b[0;34m(\u001b[0m\u001b[0mrow\u001b[0m\u001b[0;34m)\u001b[0m\u001b[0;34m\u001b[0m\u001b[0m\n",
      "\u001b[0;31mValueError\u001b[0m: I/O operation on closed file."
     ]
    }
   ],
   "source": [
    "for row in reader:\n",
    "    print(row)\n",
    "    \n",
    "        #xs, ys = zip(*reader)\n",
    "    #print(reader)\n",
    "    #zipped = zip(*reader)\n",
    "    #print(next(zipped))\n",
    "    #print(list(zipped)[0])\n",
    "    \n",
    "    #print(xs)\n",
    "#print(ys)"
   ]
  },
  {
   "cell_type": "code",
   "execution_count": 30,
   "metadata": {
    "collapsed": true
   },
   "outputs": [],
   "source": [
    "csv.writer?"
   ]
  },
  {
   "cell_type": "code",
   "execution_count": 32,
   "metadata": {
    "collapsed": false
   },
   "outputs": [
    {
     "ename": "SyntaxError",
     "evalue": "invalid syntax (<ipython-input-32-fba6c82bc7d8>, line 1)",
     "output_type": "error",
     "traceback": [
      "\u001b[0;36m  File \u001b[0;32m\"<ipython-input-32-fba6c82bc7d8>\"\u001b[0;36m, line \u001b[0;32m1\u001b[0m\n\u001b[0;31m    file h = file('')\u001b[0m\n\u001b[0m         ^\u001b[0m\n\u001b[0;31mSyntaxError\u001b[0m\u001b[0;31m:\u001b[0m invalid syntax\n"
     ]
    }
   ],
   "source": [
    "file h = file('')"
   ]
  },
  {
   "cell_type": "code",
   "execution_count": 60,
   "metadata": {
    "collapsed": true
   },
   "outputs": [],
   "source": []
  },
  {
   "cell_type": "code",
   "execution_count": 62,
   "metadata": {
    "collapsed": false
   },
   "outputs": [
    {
     "name": "stdout",
     "output_type": "stream",
     "text": [
      "[[1, 2, 3], [2, 3, 4], [3, 2, 1]]\n"
     ]
    }
   ],
   "source": []
  }
 ],
 "metadata": {
  "kernelspec": {
   "display_name": "Python 3",
   "language": "python",
   "name": "python3"
  },
  "language_info": {
   "codemirror_mode": {
    "name": "ipython",
    "version": 3
   },
   "file_extension": ".py",
   "mimetype": "text/x-python",
   "name": "python",
   "nbconvert_exporter": "python",
   "pygments_lexer": "ipython3",
   "version": "3.5.1"
  }
 },
 "nbformat": 4,
 "nbformat_minor": 0
}
