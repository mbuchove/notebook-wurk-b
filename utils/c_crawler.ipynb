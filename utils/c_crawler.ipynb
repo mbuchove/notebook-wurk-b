{
 "cells": [
  {
   "cell_type": "code",
   "execution_count": 7,
   "metadata": {
    "collapsed": true
   },
   "outputs": [],
   "source": [
    "#from os import path\n",
    "import re\n",
    "import requests\n",
    "from bs4 import BeautifulSoup\n"
   ]
  },
  {
   "cell_type": "code",
   "execution_count": 8,
   "metadata": {
    "collapsed": true
   },
   "outputs": [],
   "source": [
    "# publication year to check\n",
    "year = 2011\n",
    "#year = 2010"
   ]
  },
  {
   "cell_type": "code",
   "execution_count": 9,
   "metadata": {
    "collapsed": false
   },
   "outputs": [
    {
     "name": "stdout",
     "output_type": "stream",
     "text": [
      "http://fermi.gsfc.nasa.gov/ssc/library/pubs/\n"
     ]
    }
   ],
   "source": [
    "if year == 2011:\n",
    "    start_page = \"http://fermi.gsfc.nasa.gov/ssc/library/pubs/articles.html\"\n",
    "elif year == 2010:\n",
    "    start_page = \"http://fermi.gsfc.nasa.gov/ssc/library/pubs/2010\"\n",
    "regex = re.compile(r'.*/')\n",
    "match = regex.match(start_page)\n",
    "if year == 2011: \n",
    "    base = match.group(0)\n",
    "elif year = 2010:\n",
    "    base = start_page + '/'\n",
    "print(base)"
   ]
  },
  {
   "cell_type": "code",
   "execution_count": 10,
   "metadata": {
    "collapsed": false
   },
   "outputs": [],
   "source": [
    "\n",
    "response = requests.get(start_page)\n",
    "\n",
    "#print(response.text)\n",
    "\n",
    "soup = BeautifulSoup(response.text, 'lxml')\n"
   ]
  },
  {
   "cell_type": "code",
   "execution_count": 16,
   "metadata": {
    "collapsed": false
   },
   "outputs": [
    {
     "name": "stdout",
     "output_type": "stream",
     "text": [
      "bubbles are the remnants of a large-scale wide-angle outflow from Sgr A<sup>*</sup>, the\n",
      "but bright accretion event on to Sgr A<sup>*</sup> if it happened concurrently with the\n",
      "into stars, while the rest accreted onto Sgr A<sup>*</sup>. One interpretation of this is a\n",
      "reduced star formation efficiency inside the Sgr A<sup>*</sup> accretion disc due to\n",
      "http://arXiv.org/abs/1104.5443\n",
      "50&deg; above and below the galactic centre, which presumably originated in\n",
      "http://arXiv.org/abs/1104.3585\n",
      "</div>\n",
      "http://arXiv.org/abs/1103.4545\n",
      "</div>\n",
      "http://arXiv.org/abs/1103.2128\n"
     ]
    }
   ],
   "source": [
    "if year == 2011:\n",
    "    page_pattern = r'2011/'\n",
    "elif year == 2010:\n",
    "    page_pattern = r'2010-'\n",
    "sgr_pattern = r'.*sgr\\sa.*'\n",
    "sgr_regex = re.compile(sgr_pattern, re.IGNORECASE)\n",
    "\n",
    "# for some reason this doesn't seem to match galactic centre ?\n",
    "gc_pattern = r'.*galactic\\scent.*'\n",
    "\n",
    "gc_regex = re.compile(gc_pattern, re.IGNORECASE)\n",
    "ref_regex = re.compile(r'.*href=\"(.+?)\".*')\n",
    "\n",
    "find_ref = False\n",
    "for link in soup.find_all('a'):\n",
    "    path_str = link.get('href')\n",
    "    if re.match(page_pattern, path_str):\n",
    "        link_url = base + path_str\n",
    "        page = requests.get(link_url)\n",
    "        #print(link_url)\n",
    "        for line in (page.text).split('\\n'):\n",
    "            if sgr_regex.match(line) or gc_regex.match(line):\n",
    "                print(line)\n",
    "                find_ref = True\n",
    "            if find_ref and ref_regex.match(line):\n",
    "                match = ref_regex.search(line)\n",
    "                print(match.group(1))\n",
    "                find_ref = False\n",
    "        "
   ]
  },
  {
   "cell_type": "code",
   "execution_count": 12,
   "metadata": {
    "collapsed": false
   },
   "outputs": [
    {
     "name": "stdout",
     "output_type": "stream",
     "text": [
      "yo\n"
     ]
    }
   ],
   "source": [
    "tst_string = 'gyih frenk go'\n",
    "if re.match(r'.*frenk.*',tst_string):\n",
    "    print('yo')"
   ]
  },
  {
   "cell_type": "code",
   "execution_count": 13,
   "metadata": {
    "collapsed": true
   },
   "outputs": [],
   "source": [
    "#next_link = soup.find('a', id='next-link').get('href')\n"
   ]
  }
 ],
 "metadata": {
  "kernelspec": {
   "display_name": "Python 3",
   "language": "python",
   "name": "python3"
  },
  "language_info": {
   "codemirror_mode": {
    "name": "ipython",
    "version": 3
   },
   "file_extension": ".py",
   "mimetype": "text/x-python",
   "name": "python",
   "nbconvert_exporter": "python",
   "pygments_lexer": "ipython3",
   "version": "3.5.1"
  }
 },
 "nbformat": 4,
 "nbformat_minor": 0
}
