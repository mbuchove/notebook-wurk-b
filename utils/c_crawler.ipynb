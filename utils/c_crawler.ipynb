{
 "cells": [
  {
   "cell_type": "code",
   "execution_count": 19,
   "metadata": {
    "collapsed": true
   },
   "outputs": [],
   "source": [
    "#from os import path\n",
    "import re\n",
    "import requests\n",
    "from bs4 import BeautifulSoup\n"
   ]
  },
  {
   "cell_type": "code",
   "execution_count": 30,
   "metadata": {
    "collapsed": false
   },
   "outputs": [
    {
     "name": "stdout",
     "output_type": "stream",
     "text": [
      "http://fermi.gsfc.nasa.gov/ssc/library/pubs/\n"
     ]
    }
   ],
   "source": [
    "start_page = \"http://fermi.gsfc.nasa.gov/ssc/library/pubs/articles.html\"\n",
    "regex = re.compile(r'.*/')\n",
    "match = regex.match(start_page)\n",
    "base = match.group(0)\n",
    "print(base)"
   ]
  },
  {
   "cell_type": "code",
   "execution_count": 17,
   "metadata": {
    "collapsed": false
   },
   "outputs": [],
   "source": [
    "\n",
    "response = requests.get(start_page)\n",
    "\n",
    "#print(response.text)\n",
    "\n",
    "soup = BeautifulSoup(response.text, 'lxml')\n"
   ]
  },
  {
   "cell_type": "code",
   "execution_count": 48,
   "metadata": {
    "collapsed": false
   },
   "outputs": [
    {
     "name": "stdout",
     "output_type": "stream",
     "text": [
      "http://fermi.gsfc.nasa.gov/ssc/library/pubs/2011/2011-07-11_articles.html\n",
      "http://fermi.gsfc.nasa.gov/ssc/library/pubs/2011/2011-07-04_articles.html\n",
      "http://fermi.gsfc.nasa.gov/ssc/library/pubs/2011/2011-06-27_articles.html\n",
      "http://fermi.gsfc.nasa.gov/ssc/library/pubs/2011/2011-06-20_articles.html\n",
      "http://fermi.gsfc.nasa.gov/ssc/library/pubs/2011/2011-06-13_articles.html\n",
      "http://fermi.gsfc.nasa.gov/ssc/library/pubs/2011/2011-06-06_articles.html\n",
      "http://fermi.gsfc.nasa.gov/ssc/library/pubs/2011/2011-05-30_articles.html\n",
      "http://fermi.gsfc.nasa.gov/ssc/library/pubs/2011/2011-05-23_articles.html\n",
      "http://fermi.gsfc.nasa.gov/ssc/library/pubs/2011/2011-05-16_articles.html\n",
      "http://fermi.gsfc.nasa.gov/ssc/library/pubs/2011/2011-05-09_articles.html\n",
      "http://fermi.gsfc.nasa.gov/ssc/library/pubs/2011/2011-05-02_articles.html\n",
      "http://fermi.gsfc.nasa.gov/ssc/library/pubs/2011/2011-04-25_articles.html\n",
      "bubbles are the remnants of a large-scale wide-angle outflow from Sgr A<sup>*</sup>, the\n",
      "but bright accretion event on to Sgr A<sup>*</sup> if it happened concurrently with the\n",
      "into stars, while the rest accreted onto Sgr A<sup>*</sup>. One interpretation of this is a\n",
      "reduced star formation efficiency inside the Sgr A<sup>*</sup> accretion disc due to\n",
      "http://fermi.gsfc.nasa.gov/ssc/library/pubs/2011/2011-04-18_articles.html\n",
      "http://fermi.gsfc.nasa.gov/ssc/library/pubs/2011/2011-04-11_articles.html\n",
      "http://fermi.gsfc.nasa.gov/ssc/library/pubs/2011/2011-04-04_articles.html\n",
      "http://fermi.gsfc.nasa.gov/ssc/library/pubs/2011/2011-03-28_articles.html\n",
      "http://fermi.gsfc.nasa.gov/ssc/library/pubs/2011/2011-03-21_articles.html\n",
      "http://fermi.gsfc.nasa.gov/ssc/library/pubs/2011/2011-03-14_articles.html\n",
      "http://fermi.gsfc.nasa.gov/ssc/library/pubs/2011/2011-03-07_articles.html\n",
      "</div>\n",
      "http://fermi.gsfc.nasa.gov/ssc/library/pubs/2011/2011-02-28_articles.html\n",
      "http://fermi.gsfc.nasa.gov/ssc/library/pubs/2011/2011-02-21_articles.html\n",
      "http://fermi.gsfc.nasa.gov/ssc/library/pubs/2011/2011-02-14_articles.html\n",
      "http://fermi.gsfc.nasa.gov/ssc/library/pubs/2011/2011-02-07_articles.html\n",
      "http://fermi.gsfc.nasa.gov/ssc/library/pubs/2011/2011-01-24_articles.html\n",
      "http://fermi.gsfc.nasa.gov/ssc/library/pubs/2011/2011-01-17_articles.html\n",
      "http://fermi.gsfc.nasa.gov/ssc/library/pubs/2011/2011-01-10_articles.html\n",
      "http://fermi.gsfc.nasa.gov/ssc/library/pubs/2011/2011-01-03_articles.html\n"
     ]
    }
   ],
   "source": [
    "page_pattern = r'2011/'\n",
    "sgr_pattern = r'.*sgr\\sa.*'\n",
    "sgr_regex = re.compile(sgr_pattern, re.IGNORECASE)\n",
    "\n",
    "for link in soup.find_all('a'):\n",
    "    path_str = link.get('href')\n",
    "    if re.match(page_pattern, path_str):\n",
    "        link_url = base + path_str\n",
    "        page = requests.get(link_url)\n",
    "        #print(link_url)\n",
    "        for line in (page.text).split('\\n'):\n",
    "            if sgr_regex.match(line):\n",
    "                print(line)\n",
    "        "
   ]
  },
  {
   "cell_type": "code",
   "execution_count": 44,
   "metadata": {
    "collapsed": false
   },
   "outputs": [
    {
     "name": "stdout",
     "output_type": "stream",
     "text": [
      "yo\n"
     ]
    }
   ],
   "source": [
    "tst_string = 'gyih frenk go'\n",
    "if re.match(r'.*frenk.*',tst_string):\n",
    "    print('yo')"
   ]
  },
  {
   "cell_type": "code",
   "execution_count": null,
   "metadata": {
    "collapsed": true
   },
   "outputs": [],
   "source": [
    "#next_link = soup.find('a', id='next-link').get('href')\n"
   ]
  }
 ],
 "metadata": {
  "kernelspec": {
   "display_name": "Python 3",
   "language": "python",
   "name": "python3"
  },
  "language_info": {
   "codemirror_mode": {
    "name": "ipython",
    "version": 3
   },
   "file_extension": ".py",
   "mimetype": "text/x-python",
   "name": "python",
   "nbconvert_exporter": "python",
   "pygments_lexer": "ipython3",
   "version": "3.5.1"
  }
 },
 "nbformat": 4,
 "nbformat_minor": 0
}
