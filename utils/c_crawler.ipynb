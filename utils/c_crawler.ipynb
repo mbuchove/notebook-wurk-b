{
 "cells": [
  {
   "cell_type": "code",
   "execution_count": 59,
   "metadata": {
    "collapsed": true
   },
   "outputs": [],
   "source": [
    "#from os import path\n",
    "import re\n",
    "import requests\n",
    "from bs4 import BeautifulSoup\n"
   ]
  },
  {
   "cell_type": "code",
   "execution_count": 68,
   "metadata": {
    "collapsed": false
   },
   "outputs": [
    {
     "name": "stdout",
     "output_type": "stream",
     "text": [
      "http://fermi.gsfc.nasa.gov/ssc/library/pubs/\n"
     ]
    }
   ],
   "source": [
    "start_page = \"http://fermi.gsfc.nasa.gov/ssc/library/pubs/articles.html\"\n",
    "#start_page = \"http://fermi.gsfc.nasa.gov/ssc/library/pubs/2010\"\n",
    "regex = re.compile(r'.*/')\n",
    "match = regex.match(start_page)\n",
    "base = match.group(0)\n",
    "#base = start_page\n",
    "print(base)"
   ]
  },
  {
   "cell_type": "code",
   "execution_count": 69,
   "metadata": {
    "collapsed": false
   },
   "outputs": [],
   "source": [
    "\n",
    "response = requests.get(start_page)\n",
    "\n",
    "#print(response.text)\n",
    "\n",
    "soup = BeautifulSoup(response.text, 'lxml')\n"
   ]
  },
  {
   "cell_type": "code",
   "execution_count": 77,
   "metadata": {
    "collapsed": false
   },
   "outputs": [
    {
     "name": "stdout",
     "output_type": "stream",
     "text": [
      "<strong>Title:</strong> Dark Matter and Synchrotron Emission from Galactic Center Radio  Filaments<br>\n",
      "The inner degrees of the Galactic center contain a large population of\n",
      "http://arXiv.org/abs/1106.5493\n",
      "the gamma ray spectrum observed from the Galactic Center by the <i>Fermi Gamma Ray\n",
      "http://arXiv.org/abs/1106.3583\n",
      "studies of the Galactic center and globular clusters.\n",
      "http://arXiv.org/abs/1106.4813\n",
      "\n",
      "but bright accretion event on to Sgr A<sup>*</sup> if it happened concurrently with the\n",
      "into stars, while the rest accreted onto Sgr A<sup>*</sup>. One interpretation of this is a\n",
      "reduced star formation efficiency inside the Sgr A<sup>*</sup> accretion disc due to\n",
      "http://arXiv.org/abs/1104.5443\n",
      "</div>\n",
      "http://arXiv.org/abs/1103.6091\n",
      "</div>\n",
      "http://arXiv.org/abs/1103.2128\n",
      "</div>\n",
      "http://arXiv.org/abs/1103.0819\n",
      "</div>\n",
      "http://arXiv.org/abs/1102.5292\n",
      "\n",
      "http://arXiv.org/abs/1101.4404\n",
      "<strong>Title:</strong> On the Galactic Center being the main source of Galactic Cosmic Rays evidenced by recent cosmic rays and gamma rays observations<br>\n",
      "There had been many studies on the possibility that the Galactic Center (GC)\n",
      "http://arXiv.org/abs/1101.5192\n"
     ]
    }
   ],
   "source": [
    "page_pattern = r'2011/'\n",
    "#page_pattern = r'2010-'\n",
    "sgr_pattern = r'.*sgr\\sa.*'\n",
    "sgr_regex = re.compile(sgr_pattern, re.IGNORECASE)\n",
    "gc_pattern = r'.*galactic\\scenter.*'\n",
    "gc_regex = re.compile(gc_pattern, re.IGNORECASE)\n",
    "ref_regex = re.compile(r'.*href=\"(.+?)\".*')\n",
    "\n",
    "find_ref = False\n",
    "for link in soup.find_all('a'):\n",
    "    path_str = link.get('href')\n",
    "    if re.match(page_pattern, path_str):\n",
    "        link_url = base + path_str\n",
    "        page = requests.get(link_url)\n",
    "        #print(link_url)\n",
    "        for line in (page.text).split('\\n'):\n",
    "            if sgr_regex.match(line) or gc_regex.match(line):\n",
    "                print(line)\n",
    "                find_ref = True\n",
    "            if find_ref and ref_regex.match(line):\n",
    "                match = ref_regex.search(line)\n",
    "                print(match.group(1))\n",
    "                find_ref = False\n",
    "        "
   ]
  },
  {
   "cell_type": "code",
   "execution_count": 63,
   "metadata": {
    "collapsed": false
   },
   "outputs": [
    {
     "name": "stdout",
     "output_type": "stream",
     "text": [
      "yo\n"
     ]
    }
   ],
   "source": [
    "tst_string = 'gyih frenk go'\n",
    "if re.match(r'.*frenk.*',tst_string):\n",
    "    print('yo')"
   ]
  },
  {
   "cell_type": "code",
   "execution_count": 64,
   "metadata": {
    "collapsed": true
   },
   "outputs": [],
   "source": [
    "#next_link = soup.find('a', id='next-link').get('href')\n"
   ]
  }
 ],
 "metadata": {
  "kernelspec": {
   "display_name": "Python 3",
   "language": "python",
   "name": "python3"
  },
  "language_info": {
   "codemirror_mode": {
    "name": "ipython",
    "version": 3
   },
   "file_extension": ".py",
   "mimetype": "text/x-python",
   "name": "python",
   "nbconvert_exporter": "python",
   "pygments_lexer": "ipython3",
   "version": "3.5.1"
  }
 },
 "nbformat": 4,
 "nbformat_minor": 0
}
