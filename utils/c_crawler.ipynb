{
 "cells": [
  {
   "cell_type": "code",
   "execution_count": 2,
   "metadata": {
    "collapsed": true
   },
   "outputs": [],
   "source": [
    "#from os import path\n",
    "import re\n",
    "import requests\n",
    "from bs4 import BeautifulSoup\n"
   ]
  },
  {
   "cell_type": "code",
   "execution_count": 9,
   "metadata": {
    "collapsed": false
   },
   "outputs": [
    {
     "name": "stdout",
     "output_type": "stream",
     "text": [
      "http://fermi.gsfc.nasa.gov/ssc/library/pubs/2010/\n"
     ]
    }
   ],
   "source": [
    "#start_page = \"http://fermi.gsfc.nasa.gov/ssc/library/pubs/articles.html\"\n",
    "start_page = \"http://fermi.gsfc.nasa.gov/ssc/library/pubs/2010\"\n",
    "regex = re.compile(r'.*/')\n",
    "match = regex.match(start_page)\n",
    "#base = match.group(0)\n",
    "base = start_page + '/'\n",
    "print(base)"
   ]
  },
  {
   "cell_type": "code",
   "execution_count": 10,
   "metadata": {
    "collapsed": false
   },
   "outputs": [],
   "source": [
    "\n",
    "response = requests.get(start_page)\n",
    "\n",
    "#print(response.text)\n",
    "\n",
    "soup = BeautifulSoup(response.text, 'lxml')\n"
   ]
  },
  {
   "cell_type": "code",
   "execution_count": 11,
   "metadata": {
    "collapsed": false
   },
   "outputs": [
    {
     "name": "stdout",
     "output_type": "stream",
     "text": [
      "<strong>Title:</strong> A comment on the emission from the Galactic Center as seen by the <i>Fermi</i>  telescope<br>\n",
      "<i>&gamma;</i>-ray emission from the Galactic Center region contains an excess compared\n",
      "the previous works) spectrum of the point source at the Galactic Center assumed\n",
      "http://arXiv.org/abs/1012.5839\n",
      "annihilation channels, with gamma-ray observations from the Galactic Center.\n",
      "http://arXiv.org/abs/1012.0217\n",
      "</div>\n",
      "http://arXiv.org/abs/1011.5753\n",
      "</div>\n",
      "http://arXiv.org/abs/1011.4498\n",
      "\n",
      "http://arXiv.org/abs/1011.1499\n",
      "\n",
      "Galactic Center itself.\n",
      "http://arXiv.org/abs/1011.0210\n",
      "\n",
      "http://arXiv.org/abs/1010.5652\n",
      "</div>\n",
      "http://dx.doi.org/10.1088/0004-637X/723/1/277\n",
      "\n",
      "http://arXiv.org/abs/1009.5383\n",
      "\n",
      "http://arXiv.org/abs/1009.2630\n",
      "\n",
      "http://arXiv.org/abs/1008.2658\n",
      "\n",
      "energy injection in the Galactic center, such as past accretion events onto the\n",
      "http://arXiv.org/abs/1005.5480\n",
      "\n",
      "http://arXiv.org/abs/1005.5001\n"
     ]
    }
   ],
   "source": [
    "#page_pattern = r'2011/'\n",
    "page_pattern = r'2010-'\n",
    "sgr_pattern = r'.*sgr\\sa.*'\n",
    "sgr_regex = re.compile(sgr_pattern, re.IGNORECASE)\n",
    "gc_pattern = r'.*galactic\\scenter.*'\n",
    "gc_regex = re.compile(gc_pattern, re.IGNORECASE)\n",
    "ref_regex = re.compile(r'.*href=\"(.+?)\".*')\n",
    "\n",
    "find_ref = False\n",
    "for link in soup.find_all('a'):\n",
    "    path_str = link.get('href')\n",
    "    if re.match(page_pattern, path_str):\n",
    "        link_url = base + path_str\n",
    "        page = requests.get(link_url)\n",
    "        #print(link_url)\n",
    "        for line in (page.text).split('\\n'):\n",
    "            if sgr_regex.match(line) or gc_regex.match(line):\n",
    "                print(line)\n",
    "                find_ref = True\n",
    "            if find_ref and ref_regex.match(line):\n",
    "                match = ref_regex.search(line)\n",
    "                print(match.group(1))\n",
    "                find_ref = False\n",
    "        "
   ]
  },
  {
   "cell_type": "code",
   "execution_count": 6,
   "metadata": {
    "collapsed": false
   },
   "outputs": [
    {
     "name": "stdout",
     "output_type": "stream",
     "text": [
      "yo\n"
     ]
    }
   ],
   "source": [
    "tst_string = 'gyih frenk go'\n",
    "if re.match(r'.*frenk.*',tst_string):\n",
    "    print('yo')"
   ]
  },
  {
   "cell_type": "code",
   "execution_count": 7,
   "metadata": {
    "collapsed": true
   },
   "outputs": [],
   "source": [
    "#next_link = soup.find('a', id='next-link').get('href')\n"
   ]
  }
 ],
 "metadata": {
  "kernelspec": {
   "display_name": "Python 3",
   "language": "python",
   "name": "python3"
  },
  "language_info": {
   "codemirror_mode": {
    "name": "ipython",
    "version": 3
   },
   "file_extension": ".py",
   "mimetype": "text/x-python",
   "name": "python",
   "nbconvert_exporter": "python",
   "pygments_lexer": "ipython3",
   "version": "3.5.1"
  }
 },
 "nbformat": 4,
 "nbformat_minor": 0
}
