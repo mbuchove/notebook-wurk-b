{
 "cells": [
  {
   "cell_type": "code",
   "execution_count": 78,
   "metadata": {
    "collapsed": false
   },
   "outputs": [],
   "source": [
    "def answer(str_S):\n",
    "    \"\"\"returns the last time that there will be number of zombits represented by str_S\n",
    "    str_S will represent an integer less than or equal to 10**25\"\"\"\n",
    "    \n",
    "    # the even numbers and odd numbers increase monotonically\n",
    "    # so numbers are not repeated unless one occurrence is even and the other odd\n",
    "    # even numbers always greater than either adjacent odd, so later occurrence is the odd time\n",
    "\n",
    "    class tab:\n",
    "        \"\"\"holds values between calls to recursive function R(m,d)\"\"\"\n",
    "        # here store the indices rather than the value \n",
    "        min_num_above_S_even = None\n",
    "        min_num_above_S_odd = None\n",
    "        max_num_below_S_even = None\n",
    "        max_num_below_S_odd = None\n",
    "\n",
    "        n_even = None\n",
    "        n_odd = None\n",
    "        # no need to store odd\n",
    "    \n",
    "    \n",
    "    def R(m, d):\n",
    "        \"\"\"works recursively backward through R using a dictionary to cache terms\n",
    "        m - the index of R to return\n",
    "        d - the dictionary to store R terms \"\"\"\n",
    "\n",
    "        if m in d: # don't calculate terms already found \n",
    "            return d[m]\n",
    "        else:\n",
    "            if m % 2 == 1: # odd\n",
    "                n = long((m - 1) / 2)\n",
    "                Rm = R(n-1, d) + R(n, d) + 1\n",
    "\n",
    "                if Rm == S:\n",
    "                    # if you've found an occurrence, this is the latest, so set n_odd\n",
    "                    tab.n_odd = m\n",
    "                elif Rm > S and (not tab.min_num_above_S_odd or Rm < d[tab.min_num_above_S_odd]):\n",
    "                    tab.min_num_above_S_odd = m\n",
    "                elif Rm < S and (not tab.max_num_below_S_odd or Rm > d[tab.max_num_below_S_odd]):\n",
    "                    tab.max_num_below_S_odd = m\n",
    "                    \n",
    "            else: # even\n",
    "                n = long(m / 2)\n",
    "                Rm = R(n, d) + R(n+1, d) + n\n",
    "\n",
    "                if Rm == S:\n",
    "                    tab.n_even = m\n",
    "                elif Rm > S and (not tab.min_num_above_S_even or Rm < d[tab.min_num_above_S_even]):\n",
    "                    tab.min_num_above_S_even = m\n",
    "                elif Rm < S and (not tab.max_num_below_S_even or Rm > d[tab.max_num_below_S_even]):\n",
    "                    tab.max_num_below_S_even = m\n",
    "\n",
    "            d[m] = Rm # set it in dictionary \n",
    "            return Rm # also return value \n",
    "\n",
    "        \n",
    "    S = long(str_S) # long can store the whole number\n",
    "    start_point = S + 2 # time always less than or equal to number of zombits - 1\n",
    "    \n",
    "    # initialize dictionary of R terms \n",
    "    R_dict = dict()\n",
    "    R_dict[0] = 1\n",
    "    R_dict[1] = 1\n",
    "    R_dict[2] = 2\n",
    "    \n",
    "    # run a first \n",
    "    R(start_point, R_dict)\n",
    "        \n",
    "    # search through odds first for match \n",
    "    if tab.n_odd:\n",
    "        return str(tab.n_odd)\n",
    "    lower = 0\n",
    "    upper = start_point\n",
    "    while lower <= upper - 2: # and not odd_found: # loop until match found then break \n",
    "        if tab.n_odd:\n",
    "            return str(tab.n_odd)\n",
    "        middle = long((lower+upper)//2)\n",
    "        if middle % 2 == 0:\n",
    "            middle += 1\n",
    "        \n",
    "        if R(middle, R_dict) == S:\n",
    "            return str(middle)\n",
    "        else:\n",
    "            if S < R(middle, R_dict):\n",
    "                upper = middle - 1\n",
    "            else:\n",
    "                lower = middle + 1\n",
    "    # end search for odd match \n",
    "\n",
    "    \n",
    "    if tab.n_even:\n",
    "        return str(tab.n_even)\n",
    "    else: # then search through evens for match  \n",
    "        lower = 0\n",
    "        upper = start_point\n",
    "        while lower <= upper - 2: # loop until match found then break \n",
    "            if tab.n_even:\n",
    "                return str(tab.n_even)\n",
    "\n",
    "            middle = long((lower+upper)//2)\n",
    "            if middle % 2 == 1:\n",
    "                middle -= 1\n",
    "\n",
    "            if R(middle, R_dict) == S:\n",
    "                return str(middle)\n",
    "            else:\n",
    "                if S < R(middle, R_dict):\n",
    "                    upper = middle - 1\n",
    "                else:\n",
    "                    lower = middle + 1\n",
    "    # end search through evens \n",
    "             \n",
    "    # if nothing was found, return \"None\"\n",
    "    return \"None\"    \n",
    "    "
   ]
  },
  {
   "cell_type": "code",
   "execution_count": 79,
   "metadata": {
    "collapsed": false
   },
   "outputs": [
    {
     "name": "stdout",
     "output_type": "stream",
     "text": [
      "4\n",
      "passed test 1\n",
      "passed test 2\n"
     ]
    }
   ],
   "source": [
    "str_S1 = \"7\"\n",
    "a1 = answer(str_S1)\n",
    "print(a1)\n",
    "if a1 == \"4\":\n",
    "    print(\"passed test 1\")\n",
    "else:\n",
    "    print(\"failed test 1\")\n",
    "\n",
    "str_S2 = \"100\"\n",
    "if answer(str_S2) == \"None\":\n",
    "    print(\"passed test 2\")\n",
    "else:\n",
    "    print(\"failed test 2\")"
   ]
  },
  {
   "cell_type": "code",
   "execution_count": 80,
   "metadata": {
    "collapsed": false
   },
   "outputs": [
    {
     "name": "stdout",
     "output_type": "stream",
     "text": [
      "None\n"
     ]
    }
   ],
   "source": [
    "str_S3 = \"10000000000\"\n",
    "print(answer(str_S3))\n",
    "\n"
   ]
  },
  {
   "cell_type": "code",
   "execution_count": 53,
   "metadata": {
    "collapsed": true
   },
   "outputs": [],
   "source": [
    "def rec(num):\n",
    "    \n",
    "    def R(m, d):\n",
    "        if m in d:\n",
    "            return d[m]\n",
    "        else:\n",
    "            if m % 2 == 0:\n",
    "                n = long(m / 2)\n",
    "                Rm = R(n, d) + R(n+1, d) + n\n",
    "            else:\n",
    "                n = long((m - 1) / 2)\n",
    "                Rm = R(n-1, d) + R(n, d) + 1\n",
    "            d[m] = Rm\n",
    "            return Rm \n",
    "    \n",
    "    R_dict = dict()\n",
    "    R_dict[0] = 1\n",
    "    R_dict[1] = 1\n",
    "    R_dict[2] = 2\n",
    "\n",
    "    return R(num, R_dict)        \n",
    "    "
   ]
  },
  {
   "cell_type": "code",
   "execution_count": 81,
   "metadata": {
    "collapsed": false
   },
   "outputs": [
    {
     "name": "stdout",
     "output_type": "stream",
     "text": [
      "1673266643723936065\n",
      "114321577879234793\n",
      "None\n"
     ]
    }
   ],
   "source": [
    "print(rec(114321577879234793))\n",
    "print(answer(\"1673266643723936065\"))\n",
    "\n",
    "print(answer(\"78954729572\"))"
   ]
  },
  {
   "cell_type": "code",
   "execution_count": null,
   "metadata": {
    "collapsed": true
   },
   "outputs": [],
   "source": [
    "def simple(m):\n",
    "    if m == 0:\n",
    "        return 1\n",
    "    elif m == 1:\n",
    "        return 1\n",
    "    elif m == 2:\n",
    "        return 2\n",
    "    elif m % 2 == 0:\n",
    "        n = int(m / 2)\n",
    "        return R(n) + R(n+1) + n\n",
    "    else:\n",
    "        n = int((m - 1) / 2)\n",
    "        return R(n-1) + R(n) + 1\n",
    "        "
   ]
  },
  {
   "cell_type": "code",
   "execution_count": null,
   "metadata": {
    "collapsed": false
   },
   "outputs": [],
   "source": [
    "\n",
    "# non-function loop\n",
    "diff = []\n",
    "R = [1,] # 0\n",
    "R.append(1) # 1 \n",
    "R.append(2) # 2 \n",
    "R.append(R[0]+R[1]+1)\n",
    "n = 2\n",
    "while n < 51:\n",
    "    R.append(R[n]+R[n+1]+n)\n",
    "    print(\"{0}\\t{1}\".format(2*n,R[-1]))\n",
    "    R.append(R[n-1]+R[n]+1)\n",
    "    diff.append(R[-1]-R[-3])\n",
    "    print(\"{0}\\t{1}\".format(2*n+1,R[-1]))\n",
    "    n += 1\n",
    "    "
   ]
  },
  {
   "cell_type": "code",
   "execution_count": null,
   "metadata": {
    "collapsed": true
   },
   "outputs": [],
   "source": [
    "from matplotlib import pyplot as plt\n",
    "%matplotlib inline\n",
    "\n",
    "\n",
    "#print(R.filter(lambda x: x%2==0, input_list))\n",
    "#plt.plot(range(0,2*n,2),R[::2])\n",
    "#plt.plot(range(1,2*n,2),R[1::2])\n",
    "#plt.plot(range(2*n),R)\n",
    "print(len(diff))\n",
    "plt.plot(range(len(diff)),diff)\n",
    "print(R[-1]/n)"
   ]
  },
  {
   "cell_type": "code",
   "execution_count": 4,
   "metadata": {
    "collapsed": true
   },
   "outputs": [],
   "source": []
  },
  {
   "cell_type": "code",
   "execution_count": 21,
   "metadata": {
    "collapsed": false
   },
   "outputs": [
    {
     "name": "stdout",
     "output_type": "stream",
     "text": [
      "9\n"
     ]
    }
   ],
   "source": [
    "\n",
    "alist = list(range(0,100,2))\n",
    "\n",
    "lookfor = 18\n",
    "\n",
    "lower = 0\n",
    "upper = len(alist)-1\n",
    "found = False\n",
    "index = 0\n",
    "while lower <= upper - 2: # and not odd_found: # loop until match found then break \n",
    "    middle = long((lower+upper)//2)\n",
    "    if middle % 2 == 0:\n",
    "        middle += 1\n",
    "\n",
    "    if alist[middle] == lookfor:\n",
    "        index = middle\n",
    "        break\n",
    "\n",
    "    if lookfor < alist[middle]:\n",
    "        upper = middle - 1\n",
    "    else:\n",
    "        lower = middle + 1\n",
    "        \n",
    "print(index)"
   ]
  }
 ],
 "metadata": {
  "kernelspec": {
   "display_name": "Python 2",
   "language": "python",
   "name": "python2"
  },
  "language_info": {
   "codemirror_mode": {
    "name": "ipython",
    "version": 2
   },
   "file_extension": ".py",
   "mimetype": "text/x-python",
   "name": "python",
   "nbconvert_exporter": "python",
   "pygments_lexer": "ipython2",
   "version": "2.7.11"
  }
 },
 "nbformat": 4,
 "nbformat_minor": 0
}
