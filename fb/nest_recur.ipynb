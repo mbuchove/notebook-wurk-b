{
 "cells": [
  {
   "cell_type": "code",
   "execution_count": null,
   "metadata": {
    "collapsed": false
   },
   "outputs": [],
   "source": [
    "import zombit_recursion"
   ]
  },
  {
   "cell_type": "code",
   "execution_count": null,
   "metadata": {
    "collapsed": false
   },
   "outputs": [],
   "source": [
    "str_S1 = \"7\"\n",
    "a1 = answer(str_S1)\n",
    "print(a1)\n",
    "if a1 == \"4\":\n",
    "    print(\"passed test 1\")\n",
    "else:\n",
    "    print(\"failed test 1\")\n",
    "\n",
    "str_S2 = \"100\"\n",
    "if answer(str_S2) == \"None\":\n",
    "    print(\"passed test 2\")\n",
    "else:\n",
    "    print(\"failed test 2\")"
   ]
  },
  {
   "cell_type": "code",
   "execution_count": null,
   "metadata": {
    "collapsed": true
   },
   "outputs": [],
   "source": [
    "from timeit import timeit \n"
   ]
  },
  {
   "cell_type": "code",
   "execution_count": null,
   "metadata": {
    "collapsed": false
   },
   "outputs": [],
   "source": [
    "%timeit answer(\"10000000000\")\n",
    "\n"
   ]
  },
  {
   "cell_type": "code",
   "execution_count": null,
   "metadata": {
    "collapsed": true
   },
   "outputs": [],
   "source": [
    "def rec(num):\n",
    "    \n",
    "    def R(m, d):\n",
    "        if m in d:\n",
    "            return d[m]\n",
    "        else:\n",
    "            if m % 2 == 0:\n",
    "                n = long(m / 2)\n",
    "                Rm = R(n, d) + R(n+1, d) + n\n",
    "            else:\n",
    "                n = long((m - 1) / 2)\n",
    "                Rm = R(n-1, d) + R(n, d) + 1\n",
    "            d[m] = Rm\n",
    "            return Rm \n",
    "    \n",
    "    R_dict = dict()\n",
    "    R_dict[0] = 1\n",
    "    R_dict[1] = 1\n",
    "    R_dict[2] = 2\n",
    "\n",
    "    return R(num, R_dict)        \n",
    "    "
   ]
  },
  {
   "cell_type": "code",
   "execution_count": null,
   "metadata": {
    "collapsed": false
   },
   "outputs": [],
   "source": [
    "def test_answer(n):\n",
    "    S_n = str(rec(n)) # num of bunnies at n \n",
    "    n_out = answer(S_n) # \n",
    "    print(n)\n",
    "    if n_out == str(n):\n",
    "        print(\"test passed\")\n",
    "    else:\n",
    "        S_n_out = str(rec(int(n_out)))\n",
    "        print(\"test failed\")\n",
    "        print(S_n)\n",
    "        print(n_out)\n",
    "        print(S_n_out)\n",
    "        "
   ]
  },
  {
   "cell_type": "code",
   "execution_count": null,
   "metadata": {
    "collapsed": false
   },
   "outputs": [],
   "source": [
    "for i in range(50):\n",
    "    test_answer(i)\n",
    "    \n"
   ]
  },
  {
   "cell_type": "code",
   "execution_count": null,
   "metadata": {
    "collapsed": true
   },
   "outputs": [],
   "source": [
    "def simple(m):\n",
    "    if m == 0:\n",
    "        return 1\n",
    "    elif m == 1:\n",
    "        return 1\n",
    "    elif m == 2:\n",
    "        return 2\n",
    "    elif m % 2 == 0:\n",
    "        n = int(m / 2)\n",
    "        return R(n) + R(n+1) + n\n",
    "    else:\n",
    "        n = int((m - 1) / 2)\n",
    "        return R(n-1) + R(n) + 1\n",
    "        "
   ]
  },
  {
   "cell_type": "code",
   "execution_count": null,
   "metadata": {
    "collapsed": false
   },
   "outputs": [],
   "source": [
    "\n",
    "# non-function loop\n",
    "diff = []\n",
    "R = [1,] # 0\n",
    "R.append(1) # 1 \n",
    "R.append(2) # 2 \n",
    "R.append(R[0]+R[1]+1)\n",
    "n = 2\n",
    "while n < 51:\n",
    "    R.append(R[n]+R[n+1]+n)\n",
    "    print(\"{0}\\t{1}\".format(2*n,R[-1]))\n",
    "    R.append(R[n-1]+R[n]+1)\n",
    "    diff.append(R[-1]-R[-3])\n",
    "    print(\"{0}\\t{1}\".format(2*n+1,R[-1]))\n",
    "    n += 1\n",
    "    "
   ]
  },
  {
   "cell_type": "code",
   "execution_count": null,
   "metadata": {
    "collapsed": true
   },
   "outputs": [],
   "source": [
    "from matplotlib import pyplot as plt\n",
    "%matplotlib inline\n",
    "\n",
    "\n",
    "#print(R.filter(lambda x: x%2==0, input_list))\n",
    "#plt.plot(range(0,2*n,2),R[::2])\n",
    "#plt.plot(range(1,2*n,2),R[1::2])\n",
    "#plt.plot(range(2*n),R)\n",
    "print(len(diff))\n",
    "plt.plot(range(len(diff)),diff)\n",
    "print(R[-1]/n)"
   ]
  },
  {
   "cell_type": "code",
   "execution_count": null,
   "metadata": {
    "collapsed": true
   },
   "outputs": [],
   "source": []
  },
  {
   "cell_type": "code",
   "execution_count": null,
   "metadata": {
    "collapsed": false
   },
   "outputs": [],
   "source": [
    "\n",
    "alist = list(range(0,100,2))\n",
    "\n",
    "lookfor = 18\n",
    "\n",
    "lower = 0\n",
    "upper = len(alist)-1\n",
    "found = False\n",
    "index = 0\n",
    "while lower <= upper - 2: # and not odd_found: # loop until match found then break \n",
    "    middle = long((lower+upper)//2)\n",
    "    if middle % 2 == 0:\n",
    "        middle += 1\n",
    "\n",
    "    if alist[middle] == lookfor:\n",
    "        index = middle\n",
    "        break\n",
    "\n",
    "    if lookfor < alist[middle]:\n",
    "        upper = middle - 1\n",
    "    else:\n",
    "        lower = middle + 1\n",
    "        \n",
    "print(index)"
   ]
  }
 ],
 "metadata": {
  "kernelspec": {
   "display_name": "Python 2.7 (Anaconda)",
   "language": "python",
   "name": "python2"
  },
  "language_info": {
   "codemirror_mode": {
    "name": "ipython",
    "version": 2
   },
   "file_extension": ".py",
   "mimetype": "text/x-python",
   "name": "python",
   "nbconvert_exporter": "python",
   "pygments_lexer": "ipython2",
   "version": "2.7.13"
  }
 },
 "nbformat": 4,
 "nbformat_minor": 0
}
