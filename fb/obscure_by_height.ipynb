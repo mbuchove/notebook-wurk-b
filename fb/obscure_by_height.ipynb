{
 "cells": [
  {
   "cell_type": "code",
   "execution_count": null,
   "metadata": {
    "collapsed": false
   },
   "outputs": [],
   "source": [
    "import obscure_by_height\n",
    "from timeit import timeit"
   ]
  },
  {
   "cell_type": "code",
   "execution_count": null,
   "metadata": {
    "collapsed": false
   },
   "outputs": [],
   "source": [
    "def bruteforce(x, y, n): #, printout\n",
    "    \"\"\"full iteration of above problem\"\"\"\n",
    "    from itertools import permutations\n",
    "    rabbits = list(range(1, n+1))\n",
    "    success_count = 0 \n",
    "    for perm in permutations(rabbits):\n",
    "        height_max = 0 \n",
    "        x_count = 0\n",
    "        for rabbit in perm:\n",
    "            if rabbit > height_max:\n",
    "                height_max = rabbit\n",
    "                x_count += 1\n",
    "            \n",
    "        height_max = 0 \n",
    "        y_count = 0 \n",
    "        for rabbit in reversed(perm):\n",
    "            if rabbit > height_max:\n",
    "                height_max = rabbit\n",
    "                y_count += 1\n",
    "        \n",
    "        if x_count == x and y_count == y:\n",
    "            success_count += 1\n",
    "            for rabbit in perm:\n",
    "                pass\n",
    "                #print(\"x\"*rabbit)\n",
    "            #print()\n",
    "            \n",
    "    return str(success_count)\n",
    "    \n",
    "    "
   ]
  },
  {
   "cell_type": "code",
   "execution_count": null,
   "metadata": {
    "collapsed": false
   },
   "outputs": [],
   "source": [
    "args = (1, 2, 40)\n",
    "print(answer(*args))\n",
    "print(bruteforce(*args))\n",
    "\n"
   ]
  },
  {
   "cell_type": "code",
   "execution_count": null,
   "metadata": {
    "collapsed": false
   },
   "outputs": [],
   "source": [
    "for n in range(3, 12):\n",
    "    for x in range(1, n+1):\n",
    "        for y in range(1, n+1):\n",
    "            bf = bruteforce(x, y, n)\n",
    "            a = answer(x, y, n)\n",
    "            if a != bf:\n",
    "                print x, y, n \n",
    "                print \"failed test!\"\n",
    "            else:\n",
    "                print x, y, n, \"passed!\"\n",
    "\n"
   ]
  },
  {
   "cell_type": "code",
   "execution_count": null,
   "metadata": {
    "collapsed": false
   },
   "outputs": [],
   "source": [
    "from timeit import timeit\n",
    "\n",
    "%timeit -n 1 answer(*args)\n"
   ]
  },
  {
   "cell_type": "code",
   "execution_count": null,
   "metadata": {
    "collapsed": false
   },
   "outputs": [],
   "source": [
    "import fractions\n",
    "print(fractions.Fraction(274.0/120))\n",
    "\n",
    "print(factfract(8,5))"
   ]
  },
  {
   "cell_type": "code",
   "execution_count": null,
   "metadata": {
    "collapsed": false
   },
   "outputs": [],
   "source": [
    "import math\n",
    "print(type(math.factorial(40)))\n",
    "\n",
    "def factorial_fraction(num, den):\n",
    "    \"\"\"returns reduced factorial of num/den without performing full multiplication\"\"\"\n",
    "    product = 1\n",
    "    for n in range(den, num):\n",
    "        product *= n+1\n",
    "    return product\n",
    "\n",
    "def factorial_fraction2(num, den):\n",
    "    \"\"\"same thing using mathlib\"\"\"\n",
    "    return math.factorial(num) // math.factorial(den)\n",
    "\n",
    "args = (50, 30)\n",
    "\n",
    "%timeit factorial_fraction(*args)\n",
    "%timeit factorial_fraction2(*args)\n",
    "\n",
    "%timeit factorial_fraction(50, 1)\n",
    "%timeit math.factorial(50)\n"
   ]
  },
  {
   "cell_type": "code",
   "execution_count": null,
   "metadata": {
    "collapsed": false
   },
   "outputs": [],
   "source": [
    "if answer(2, 2, 3) == \"2\":\n",
    "    print(\"test 1 passed\")\n",
    "else:\n",
    "    print(\"test 1 failed\")\n",
    "    \n",
    "if answer(1, 2, 6) == \"24\":\n",
    "    print(\"test 1 passed\")\n",
    "else:\n",
    "    print(\"test 1 failed\")\n"
   ]
  },
  {
   "cell_type": "code",
   "execution_count": null,
   "metadata": {
    "collapsed": true
   },
   "outputs": [],
   "source": [
    "        #if nx < x:\n",
    "         #   print \"zero\"\n",
    "        # #   return 0\n",
    "\n",
    "                #    print x, nx, \"one\"\n",
    "        #    if nx < 1:\n",
    "        #        return 0\n",
    "        #    else:\n"
   ]
  }
 ],
 "metadata": {
  "kernelspec": {
   "display_name": "Python 2.7 (Anaconda)",
   "language": "python",
   "name": "python2"
  },
  "language_info": {
   "codemirror_mode": {
    "name": "ipython",
    "version": 2
   },
   "file_extension": ".py",
   "mimetype": "text/x-python",
   "name": "python",
   "nbconvert_exporter": "python",
   "pygments_lexer": "ipython2",
   "version": "2.7.13"
  }
 },
 "nbformat": 4,
 "nbformat_minor": 0
}
