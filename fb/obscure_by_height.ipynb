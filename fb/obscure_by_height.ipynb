{
 "cells": [
  {
   "cell_type": "code",
   "execution_count": null,
   "metadata": {
    "collapsed": true
   },
   "outputs": [],
   "source": [
    "def answer(x, y, n):\n",
    "    \"\"\"n is number of individuals of unique heights, 3 <= n <= 40 \n",
    "    return the number of ways to arrange n individuals in a line such that\n",
    "    x are visible from one side and y are visible from the other, 1 <= x,y <= n\"\"\"\n",
    "    \n",
    "    # you can't see past the tallest one, so the only rabbit both guards can see is the tallest\n",
    "    if x + y > n + 1:\n",
    "        return \"0\"\n",
    "    \n",
    "    \n",
    "    \n",
    "    \n",
    "    \n",
    "    return str(N)"
   ]
  },
  {
   "cell_type": "code",
   "execution_count": null,
   "metadata": {
    "collapsed": true
   },
   "outputs": [],
   "source": [
    "if answer(2, 2, 3) == \"2\":\n",
    "    print(\"test 1 passed\")\n",
    "else:\n",
    "    print(\"test 1 failed\")\n",
    "    \n",
    "if answer(1, 2, 6) == \"24\":\n",
    "    print(\"test 1 passed\")\n",
    "else:\n",
    "    print(\"test 1 failed\")\n"
   ]
  }
 ],
 "metadata": {
  "kernelspec": {
   "display_name": "Python 2",
   "language": "python",
   "name": "python2"
  },
  "language_info": {
   "codemirror_mode": {
    "name": "ipython",
    "version": 2
   },
   "file_extension": ".py",
   "mimetype": "text/x-python",
   "name": "python",
   "nbconvert_exporter": "python",
   "pygments_lexer": "ipython2",
   "version": "2.7.11"
  }
 },
 "nbformat": 4,
 "nbformat_minor": 0
}
