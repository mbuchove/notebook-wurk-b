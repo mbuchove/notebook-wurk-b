{
 "cells": [
  {
   "cell_type": "code",
   "execution_count": null,
   "metadata": {
    "collapsed": true
   },
   "outputs": [],
   "source": [
    "from timeit import timeit"
   ]
  },
  {
   "cell_type": "code",
   "execution_count": null,
   "metadata": {
    "collapsed": false
   },
   "outputs": [],
   "source": [
    "def answer(x, y, n):\n",
    "    \"\"\"n is number of individuals of unique heights, 3 <= n <= 40 \n",
    "    return the number of ways to arrange n individuals in a line such that\n",
    "    x are visible from one side and y are visible from the other, 1 <= x,y <= n\"\"\"\n",
    "    \n",
    "    # you can't see past the tallest one, so the only rabbit both guards can see is the tallest\n",
    "    if x + y > n + 1:\n",
    "        return \"0\"\n",
    "    \n",
    "    import math # for faster factorial \n",
    "    # like n choose k without the (n-k)! term in the denominator \n",
    "    def factorial_fraction(num, den):\n",
    "        \"\"\"returns reduced factorial of num/den without performing full multiplication\"\"\"\n",
    "        product = 1\n",
    "        for n in range(den, num):\n",
    "            product *= n+1\n",
    "        return product\n",
    "\n",
    "    def choose(n, k):\n",
    "        \"\"\"calculates n choose k\"\"\"\n",
    "        if 0 <= k <= n:\n",
    "            nfact = 1\n",
    "            kfact = 1\n",
    "            for t in xrange(1, min(k, n - k) + 1):\n",
    "                nfact *= n\n",
    "                kfact *= t\n",
    "                n -= 1\n",
    "            return long(nfact // kfact)\n",
    "        else:\n",
    "            return 0\n",
    "\n",
    "    \n",
    "    class recurs_dict:\n",
    "        \"\"\"holds dictionary so recursions not repeated\"\"\"\n",
    "        rd = dict()\n",
    "    # typically would just use my cache decorator to memorize \n",
    "    \n",
    "    #@cache\n",
    "    def recurs(x, nx):\n",
    "        \"\"\"recursively perform half of problem\n",
    "        this problem is symmetric, so the same function can be used for y\n",
    "        as long as the indices are called correctly\"\"\"\n",
    "\n",
    "        if x < 1: # this is the terminating case\n",
    "            # return 1 instead of 0 because number of other possible combinations are being multiplied by this number\n",
    "            return 1\n",
    "        elif (x, nx) in recurs_dict.rd:\n",
    "            return recurs_dict.rd[(x, nx)]\n",
    "        elif x == 1:\n",
    "            #total =  factorial_fraction(nx-1, 1) # denominator of 1 makes this just a factorial \n",
    "            total = math.factorial(nx-1) # this implementation is faster because it calls a C subroutine, tested \n",
    "            recurs_dict.rd[(x, nx)] = total\n",
    "            return total\n",
    "        else:\n",
    "            total = 0\n",
    "            for x1 in range(x, nx+1): # iterate over all potential positions x1 for the tallest bunny\n",
    "                # for each position, we can look at the same problem for all the pieces to the west (east) of tallest\n",
    "                # the number remaining to be visible from this side is now x - 1\n",
    "                # all nx - x1 to the far side of the tallest will not be visible, and can be arranged any way \n",
    "                total += recurs(x-1, x1-1) * factorial_fraction(nx-1, x1-1)\n",
    "            recurs_dict.rd[(x, nx)] = total\n",
    "            return total\n",
    "        # end def recurs(x, nx)\n",
    "        \n",
    "    # initialize count of combinations \n",
    "    combinations = 0 \n",
    "\n",
    "    # iterate over possible placements of the tallest bunny\n",
    "    # multiply the ways the right could be arranged by the number of ways the left could be arranged\n",
    "    # they're independent because you can't see over the \n",
    "    for i in range(x, n-y+2):\n",
    "        # if guard is only supposed to see 1 from either side, the tallest one must be on that end \n",
    "        if not (x == 1 and i != 1) and not (y == 1 and i != n):\n",
    "            combinations += recurs(x-1, i-1) * recurs(y-1, n-i) * choose(n-1, i-1)\n",
    "        \n",
    "    # return the number of possible combinations as a string\n",
    "    return str(combinations)\n",
    "# end answer(x, y, n) \n",
    "\n",
    "\n",
    "%timeit -n 100 answer(1, 20, 40)"
   ]
  },
  {
   "cell_type": "code",
   "execution_count": null,
   "metadata": {
    "collapsed": false
   },
   "outputs": [],
   "source": [
    "def bruteforce(x, y, n): #, printout\n",
    "    \"\"\"full iteration of above problem\"\"\"\n",
    "    from itertools import permutations\n",
    "    rabbits = list(range(1, n+1))\n",
    "    success_count = 0 \n",
    "    for perm in permutations(rabbits):\n",
    "        height_max = 0 \n",
    "        x_count = 0\n",
    "        for rabbit in perm:\n",
    "            if rabbit > height_max:\n",
    "                height_max = rabbit\n",
    "                x_count += 1\n",
    "            \n",
    "        height_max = 0 \n",
    "        y_count = 0 \n",
    "        for rabbit in reversed(perm):\n",
    "            if rabbit > height_max:\n",
    "                height_max = rabbit\n",
    "                y_count += 1\n",
    "        \n",
    "        if x_count == x and y_count == y:\n",
    "            success_count += 1\n",
    "            for rabbit in perm:\n",
    "                pass\n",
    "                #print(\"x\"*rabbit)\n",
    "            #print()\n",
    "            \n",
    "    return str(success_count)\n",
    "    \n",
    "    "
   ]
  },
  {
   "cell_type": "code",
   "execution_count": null,
   "metadata": {
    "collapsed": false
   },
   "outputs": [],
   "source": [
    "args = (1, 2, 40)\n",
    "print(answer(*args))\n",
    "print(bruteforce(*args))\n",
    "\n"
   ]
  },
  {
   "cell_type": "code",
   "execution_count": null,
   "metadata": {
    "collapsed": false
   },
   "outputs": [],
   "source": [
    "for n in range(3, 12):\n",
    "    for x in range(1, n+1):\n",
    "        for y in range(1, n+1):\n",
    "            bf = bruteforce(x, y, n)\n",
    "            a = answer(x, y, n)\n",
    "            if a != bf:\n",
    "                print x, y, n \n",
    "                print \"failed test!\"\n",
    "            else:\n",
    "                print x, y, n, \"passed!\"\n",
    "\n"
   ]
  },
  {
   "cell_type": "code",
   "execution_count": null,
   "metadata": {
    "collapsed": false
   },
   "outputs": [],
   "source": [
    "from timeit import timeit\n",
    "\n",
    "%timeit -n 1 answer(*args)\n"
   ]
  },
  {
   "cell_type": "code",
   "execution_count": null,
   "metadata": {
    "collapsed": false
   },
   "outputs": [],
   "source": [
    "import fractions\n",
    "print(fractions.Fraction(274.0/120))\n",
    "\n",
    "print(factfract(8,5))"
   ]
  },
  {
   "cell_type": "code",
   "execution_count": null,
   "metadata": {
    "collapsed": false
   },
   "outputs": [],
   "source": [
    "import math\n",
    "print(type(math.factorial(40)))\n",
    "\n",
    "def factorial_fraction(num, den):\n",
    "    \"\"\"returns reduced factorial of num/den without performing full multiplication\"\"\"\n",
    "    product = 1\n",
    "    for n in range(den, num):\n",
    "        product *= n+1\n",
    "    return product\n",
    "\n",
    "def factorial_fraction2(num, den):\n",
    "    \"\"\"same thing using mathlib\"\"\"\n",
    "    return math.factorial(num) // math.factorial(den)\n",
    "\n",
    "args = (50, 30)\n",
    "\n",
    "%timeit factorial_fraction(*args)\n",
    "%timeit factorial_fraction2(*args)\n",
    "\n",
    "%timeit factorial_fraction(50, 1)\n",
    "%timeit math.factorial(50)\n"
   ]
  },
  {
   "cell_type": "code",
   "execution_count": null,
   "metadata": {
    "collapsed": false
   },
   "outputs": [],
   "source": [
    "if answer(2, 2, 3) == \"2\":\n",
    "    print(\"test 1 passed\")\n",
    "else:\n",
    "    print(\"test 1 failed\")\n",
    "    \n",
    "if answer(1, 2, 6) == \"24\":\n",
    "    print(\"test 1 passed\")\n",
    "else:\n",
    "    print(\"test 1 failed\")\n"
   ]
  },
  {
   "cell_type": "code",
   "execution_count": null,
   "metadata": {
    "collapsed": true
   },
   "outputs": [],
   "source": [
    "        #if nx < x:\n",
    "         #   print \"zero\"\n",
    "        # #   return 0\n",
    "\n",
    "                #    print x, nx, \"one\"\n",
    "        #    if nx < 1:\n",
    "        #        return 0\n",
    "        #    else:\n"
   ]
  }
 ],
 "metadata": {
  "kernelspec": {
   "display_name": "Python 2",
   "language": "python",
   "name": "python2"
  },
  "language_info": {
   "codemirror_mode": {
    "name": "ipython",
    "version": 2
   },
   "file_extension": ".py",
   "mimetype": "text/x-python",
   "name": "python",
   "nbconvert_exporter": "python",
   "pygments_lexer": "ipython2",
   "version": "2.7.11"
  }
 },
 "nbformat": 4,
 "nbformat_minor": 0
}
