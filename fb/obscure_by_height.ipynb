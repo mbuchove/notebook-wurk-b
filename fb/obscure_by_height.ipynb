{
 "cells": [
  {
   "cell_type": "code",
   "execution_count": 5,
   "metadata": {
    "collapsed": true
   },
   "outputs": [],
   "source": [
    "def answer(x, y, n):\n",
    "    \"\"\"n is number of individuals of unique heights, 3 <= n <= 40 \n",
    "    return the number of ways to arrange n individuals in a line such that\n",
    "    x are visible from one side and y are visible from the other, 1 <= x,y <= n\"\"\"\n",
    "    \n",
    "    # you can't see past the tallest one, so the only rabbit both guards can see is the tallest\n",
    "    if x + y > n + 1:\n",
    "        return \"0\"\n",
    "    \n",
    "    \n",
    "    # section is invisible if anything to the left and right is bigger, permutations of any invisible section is\n",
    "    # math.factorial(n_obsc)\n",
    "    # if stepping from left to right, height of obscured \n",
    "    \n",
    "    import math\n",
    "    def rs(y, ny): # ny must be greater than 0?\n",
    "        \"\"\"number of ways to arrange right side when there are ny to right of tallest bunny\n",
    "        and y must be visible\"\"\"\n",
    "        \n",
    "        if ny == 0:\n",
    "            if y == 1:\n",
    "                return 1\n",
    "            else:\n",
    "                return 0 \n",
    "        elif y == 1 and ny != 0:\n",
    "            return 0\n",
    "        elif y == ny + 1: # have to see all ny plus the tallest, can only order them by reverse height\n",
    "            return 1\n",
    "        elif y == 2: # check again ny != 0 \n",
    "            return math.factorial(ny-1)\n",
    "        else:\n",
    "            total = 0\n",
    "            for j in range(1, ny):\n",
    "                total += rs(y-1, ny-j)\n",
    "            return total\n",
    "            \n",
    "        \n",
    "    if x == 1:\n",
    "        right = rs(y, n)\n",
    "    else:\n",
    "        right = \"temp\"\n",
    "    \n",
    "    return str(right)"
   ]
  },
  {
   "cell_type": "code",
   "execution_count": null,
   "metadata": {
    "collapsed": true
   },
   "outputs": [],
   "source": [
    "if answer(2, 2, 3) == \"2\":\n",
    "    print(\"test 1 passed\")\n",
    "else:\n",
    "    print(\"test 1 failed\")\n",
    "    \n",
    "if answer(1, 2, 6) == \"24\":\n",
    "    print(\"test 1 passed\")\n",
    "else:\n",
    "    print(\"test 1 failed\")\n"
   ]
  },
  {
   "cell_type": "code",
   "execution_count": 58,
   "metadata": {
    "collapsed": false
   },
   "outputs": [
    {
     "name": "stdout",
     "output_type": "stream",
     "text": [
      "17\n",
      "11\n"
     ]
    }
   ],
   "source": [
    "print(answer(1, 4, 6))\n",
    "print(bruteforce(2, 4))\n"
   ]
  },
  {
   "cell_type": "code",
   "execution_count": 87,
   "metadata": {
    "collapsed": false
   },
   "outputs": [],
   "source": [
    "def bruteforce(y, ny): #, printout\n",
    "    \"\"\"full iteration of above problem\"\"\"\n",
    "    from itertools import permutations\n",
    "    rabbits = list(range(1, ny+1))\n",
    "    success_count = 0 \n",
    "    for perm in permutations(rabbits):\n",
    "        height_max = 0 \n",
    "        vis_count = 0\n",
    "        for rabbit in perm:\n",
    "            if rabbit > height_max:\n",
    "                height_max = rabbit\n",
    "                vis_count += 1\n",
    "        if vis_count == y:\n",
    "            success_count += 1\n",
    "            for rabbit in perm:\n",
    "                pass\n",
    "                #print(\"x\"*rabbit)\n",
    "            #print()\n",
    "            \n",
    "    return success_count\n",
    "    \n",
    "    "
   ]
  },
  {
   "cell_type": "code",
   "execution_count": 88,
   "metadata": {
    "collapsed": true
   },
   "outputs": [],
   "source": [
    "def recurs(x, nx):\n",
    "    \"\"\"recursively perform half of problem\"\"\"\n",
    "        \n",
    "    #print x, nx\n",
    "\n",
    "        \n",
    "    if x == 1:\n",
    "        return math.factorial(nx-1)\n",
    "    else:\n",
    "        total = 0\n",
    "        for x1 in range(x, nx+1):\n",
    "            total += recurs(x-1, x1-1) * math.factorial(nx-1) / math.factorial(x1-1)\n",
    "        return total\n",
    "        \n",
    "def xnx(x, nx):\n",
    "    \"\"\"\"\"\"\n",
    "    pass"
   ]
  },
  {
   "cell_type": "code",
   "execution_count": 90,
   "metadata": {
    "collapsed": false
   },
   "outputs": [
    {
     "name": "stdout",
     "output_type": "stream",
     "text": [
      "1624\n",
      "1624\n"
     ]
    }
   ],
   "source": [
    "print(recurs(3,7))\n",
    "print(bruteforce(3,7))"
   ]
  },
  {
   "cell_type": "code",
   "execution_count": 33,
   "metadata": {
    "collapsed": false
   },
   "outputs": [
    {
     "name": "stdout",
     "output_type": "stream",
     "text": [
      "1285402393645329/562949953421312\n",
      "2758454771764429/1125899906842624\n"
     ]
    }
   ],
   "source": [
    "import fractions\n",
    "print(fractions.Fraction(274.0/120))\n",
    "print(fractions.Fraction(1764./720.))"
   ]
  },
  {
   "cell_type": "code",
   "execution_count": 49,
   "metadata": {
    "collapsed": false
   },
   "outputs": [
    {
     "name": "stdout",
     "output_type": "stream",
     "text": [
      "<type 'long'>\n"
     ]
    }
   ],
   "source": [
    "import math\n",
    "print(type(math.factorial(40)))\n"
   ]
  }
 ],
 "metadata": {
  "kernelspec": {
   "display_name": "Python 2",
   "language": "python",
   "name": "python2"
  },
  "language_info": {
   "codemirror_mode": {
    "name": "ipython",
    "version": 2
   },
   "file_extension": ".py",
   "mimetype": "text/x-python",
   "name": "python",
   "nbconvert_exporter": "python",
   "pygments_lexer": "ipython2",
   "version": "2.7.11"
  }
 },
 "nbformat": 4,
 "nbformat_minor": 0
}
