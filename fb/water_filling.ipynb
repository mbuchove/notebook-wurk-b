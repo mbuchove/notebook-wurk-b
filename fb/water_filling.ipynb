{
 "cells": [
  {
   "cell_type": "code",
   "execution_count": 68,
   "metadata": {
    "collapsed": true
   },
   "outputs": [],
   "source": [
    "def answer0(heights):\n",
    "    \"\"\"returns the units of water collected given heights of hutches\"\"\"\n",
    "    hlen = len(heights)\n",
    "    if hlen < 2:\n",
    "        return 0\n",
    "    \n",
    "    water_filled = 0\n",
    "    max_left = 0\n",
    "    max_right = max(heights)\n",
    "    for i in range(hlen):\n",
    "        if heights[i] == max_right and i+1 < hlen:\n",
    "            max_right = max(heights[i+1:])\n",
    "        min_wall = min((max_left, max_right))\n",
    "        if min_wall > heights[i]:\n",
    "            water_filled += min_wall - heights[i]\n",
    "        if heights[i] > max_left:\n",
    "            max_left = heights[i]\n",
    "    \n",
    "    return water_filled\n",
    "    "
   ]
  },
  {
   "cell_type": "code",
   "execution_count": 65,
   "metadata": {
    "collapsed": false
   },
   "outputs": [],
   "source": [
    "def answer(heights):\n",
    "    \"\"\"returns the units of water collected given heights of hutches\"\"\"\n",
    "    hlen = len(heights)\n",
    "    if hlen < 2:\n",
    "        return 0\n",
    "\n",
    "    max_right = 0\n",
    "    change_list = []\n",
    "    for i in range(hlen-1, -1, -1):\n",
    "        if heights[i] > max_right:\n",
    "            max_right = heights[i]\n",
    "            type(change_list.insert( 0, heights[i] ))\n",
    "\n",
    "    max_right = change_list.pop(0)\n",
    "    max_left = 0\n",
    "    water_filled = 0\n",
    "    for i in range(hlen-1):\n",
    "        if heights[i] == max_right and i+1 < hlen:\n",
    "             max_right = change_list.pop(0)\n",
    "        min_wall = min((max_left, max_right))\n",
    "        if min_wall > heights[i]:\n",
    "            water_filled += min_wall - heights[i]\n",
    "        if heights[i] > max_left:\n",
    "            max_left = heights[i]\n",
    "\n",
    "    return water_filled\n"
   ]
  },
  {
   "cell_type": "code",
   "execution_count": 66,
   "metadata": {
    "collapsed": false
   },
   "outputs": [
    {
     "name": "stdout",
     "output_type": "stream",
     "text": [
      "5\n"
     ]
    }
   ],
   "source": [
    "heights1 = [1, 4, 2, 5, 1, 2, 3]\n",
    "print(answer(heights1))"
   ]
  },
  {
   "cell_type": "code",
   "execution_count": 23,
   "metadata": {
    "collapsed": false
   },
   "outputs": [
    {
     "name": "stdout",
     "output_type": "stream",
     "text": [
      "0\n"
     ]
    }
   ],
   "source": [
    "heights2 = [1, 2, 3, 2, 1]\n",
    "print(answer(heights2))"
   ]
  },
  {
   "cell_type": "code",
   "execution_count": 24,
   "metadata": {
    "collapsed": true
   },
   "outputs": [],
   "source": [
    "from timeit import timeit\n",
    "import random"
   ]
  },
  {
   "cell_type": "code",
   "execution_count": 36,
   "metadata": {
    "collapsed": true
   },
   "outputs": [],
   "source": [
    "\n",
    "def test_rand(num_hutches):\n",
    "    rand_heights = []\n",
    "    for i in range(num_hutches):\n",
    "        rand_heights.append(random.randint(0, num_hutches))\n",
    "    #%timeit answer(rand_heights)\n",
    "    #print(answer(rand_heights))\n",
    "    return rand_heights\n",
    "    "
   ]
  },
  {
   "cell_type": "code",
   "execution_count": 67,
   "metadata": {
    "collapsed": false
   },
   "outputs": [
    {
     "name": "stdout",
     "output_type": "stream",
     "text": [
      "100000 loops, best of 3: 7.31 µs per loop\n"
     ]
    }
   ],
   "source": [
    "%timeit answer(heights1)"
   ]
  },
  {
   "cell_type": "code",
   "execution_count": 69,
   "metadata": {
    "collapsed": false
   },
   "outputs": [
    {
     "name": "stdout",
     "output_type": "stream",
     "text": [
      "The slowest run took 4.06 times longer than the fastest. This could mean that an intermediate result is being cached \n",
      "100000 loops, best of 3: 6.05 µs per loop\n"
     ]
    }
   ],
   "source": [
    "%timeit answer0(heights1)"
   ]
  },
  {
   "cell_type": "code",
   "execution_count": 71,
   "metadata": {
    "collapsed": false
   },
   "outputs": [
    {
     "name": "stdout",
     "output_type": "stream",
     "text": [
      "100 loops, best of 3: 6.54 ms per loop\n",
      "100 loops, best of 3: 7.09 ms per loop\n"
     ]
    }
   ],
   "source": [
    "rand_heights = test_rand(9000)\n",
    "\n",
    "%timeit answer0(rand_heights)\n",
    "%timeit answer(rand_heights)"
   ]
  },
  {
   "cell_type": "code",
   "execution_count": null,
   "metadata": {
    "collapsed": true
   },
   "outputs": [],
   "source": [
    "#print(min_wall)\n",
    "\n",
    "#print(max(heights2[5:]))"
   ]
  }
 ],
 "metadata": {
  "kernelspec": {
   "display_name": "Python 3",
   "language": "python",
   "name": "python3"
  },
  "language_info": {
   "codemirror_mode": {
    "name": "ipython",
    "version": 3
   },
   "file_extension": ".py",
   "mimetype": "text/x-python",
   "name": "python",
   "nbconvert_exporter": "python",
   "pygments_lexer": "ipython3",
   "version": "3.5.1"
  }
 },
 "nbformat": 4,
 "nbformat_minor": 0
}
