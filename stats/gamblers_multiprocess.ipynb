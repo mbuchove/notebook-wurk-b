{
 "cells": [
  {
   "cell_type": "code",
   "execution_count": 12,
   "metadata": {
    "collapsed": true
   },
   "outputs": [],
   "source": [
    "import numpy as np\n",
    "import multiprocessing\n"
   ]
  },
  {
   "cell_type": "code",
   "execution_count": 13,
   "metadata": {
    "collapsed": false
   },
   "outputs": [
    {
     "name": "stdout",
     "output_type": "stream",
     "text": [
      "0.10898436447864746\n",
      "0.9538677974900066\n",
      "0.04613220250999339\n"
     ]
    }
   ],
   "source": [
    "u1 = np.random.uniform() #0., 1.\n",
    "print(u1)\n",
    "u2 = np.random.uniform(u1, 1.0)\n",
    "print(u2)\n",
    "u3 = 1.0 - u2\n",
    "print(u3)\n"
   ]
  },
  {
   "cell_type": "markdown",
   "metadata": {},
   "source": [
    "$$\\left<u_3\\right> = \\frac{1}{1-0}\\int_0^1{du_1}\\frac{1}{1-u_1}\\int_{u_1}^1{du_2}\\frac{1}{1-u_2}\\int_{u_2}^1{u_3}{du_3}$$\n",
    "\n",
    "\\begin{eqnarray}\n",
    "&=& \\frac{1}{2}\n",
    "\\end{eqnarray}"
   ]
  },
  {
   "cell_type": "markdown",
   "metadata": {},
   "source": [
    "\\begin{eqnarray}\n",
    "&=& \\frac{1}{2}\\int_0^1{du_1}\\frac{1}{1-u_1}\\int_{u_1}^1{du_2}\\frac{1}{1-u_2}\\left(1^2-u_2^2\\right) \n",
    "&=& \\frac{1}{2}\\int_0^1{du_1}\\frac{1}{1-u_1}\\int_{u_1}^1{du_2}\\left(1+u_2\\right) \n",
    "\n",
    "\\end{eqnarray}"
   ]
  },
  {
   "cell_type": "code",
   "execution_count": 14,
   "metadata": {
    "collapsed": false
   },
   "outputs": [
    {
     "name": "stdout",
     "output_type": "stream",
     "text": [
      "0.7499946183666184\n"
     ]
    }
   ],
   "source": [
    "def break_stick_exp(n)\n",
    "N = 10000000\n",
    "lmax_tot = 0.\n",
    "for i in range(0, N):\n",
    "    u1 = np.random.uniform() #0., 1.\n",
    "    l1 = u1\n",
    "    l2 = 1.0 - u1\n",
    "    l = [l1, l2]\n",
    "    lmax_tot += max(l)\n",
    "    \n",
    "    \n",
    "print(lmax_tot/N)"
   ]
  },
  {
   "cell_type": "code",
   "execution_count": 29,
   "metadata": {
    "collapsed": false
   },
   "outputs": [
    {
     "name": "stdout",
     "output_type": "stream",
     "text": [
      "0.6110801070519539\n"
     ]
    }
   ],
   "source": [
    "N = 10000000\n",
    "lmax_tot = 0.\n",
    "for i in range(0, N):\n",
    "    u1 = np.random.uniform() \n",
    "    u2 = np.random.uniform()\n",
    "    l1 = min([u1,u2])\n",
    "    l3 = 1. - max([u1,u2])\n",
    "    l2 = 1. - l3 - l1\n",
    "    l = [l1, l2, l3]\n",
    "    lmax_tot += max(l)\n",
    "    \n",
    "    \n",
    "print(lmax_tot/N)"
   ]
  },
  {
   "cell_type": "code",
   "execution_count": null,
   "metadata": {
    "collapsed": false
   },
   "outputs": [],
   "source": [
    "import dis\n",
    "dis.disco(func.__code__) "
   ]
  },
  {
   "cell_type": "code",
   "execution_count": null,
   "metadata": {
    "collapsed": true
   },
   "outputs": [],
   "source": [
    "def harmonic_n(n):\n",
    "    sm = 0 \n",
    "    for i in range(n):\n",
    "        sm += 1/(i+1)\n",
    "    return sm \n",
    "        "
   ]
  },
  {
   "cell_type": "code",
   "execution_count": null,
   "metadata": {
    "collapsed": false
   },
   "outputs": [],
   "source": [
    "print(harmonic_n(5)/5)"
   ]
  }
 ],
 "metadata": {
  "kernelspec": {
   "display_name": "Python 3",
   "language": "python",
   "name": "python3"
  },
  "language_info": {
   "codemirror_mode": {
    "name": "ipython",
    "version": 3
   },
   "file_extension": ".py",
   "mimetype": "text/x-python",
   "name": "python",
   "nbconvert_exporter": "python",
   "pygments_lexer": "ipython3",
   "version": "3.5.1"
  }
 },
 "nbformat": 4,
 "nbformat_minor": 0
}
