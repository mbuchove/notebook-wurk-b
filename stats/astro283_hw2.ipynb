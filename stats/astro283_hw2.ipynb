{
 "cells": [
  {
   "cell_type": "markdown",
   "metadata": {},
   "source": [
    "<h1> Homework 2 </h1>\n",
    "Matt Buchovecky  \n",
    "Astro 283"
   ]
  },
  {
   "cell_type": "code",
   "execution_count": 177,
   "metadata": {
    "collapsed": false
   },
   "outputs": [],
   "source": [
    "from scipy import random, optimize, std\n",
    "from matplotlib import pyplot\n",
    "%matplotlib inline\n",
    "import numpy\n",
    "import csv "
   ]
  },
  {
   "cell_type": "markdown",
   "metadata": {},
   "source": [
    "Set of measurements $\\left\\{Y_{k}\\right\\}$  \n",
    "at known locations $\\left\\{X_{k}\\right\\}$  \n",
    "Gaussian uncertainty $\\sigma=1.0$  \n",
    "$p=30\\%$ chance of adding constant factor $5.0$  \n",
    "fit a line $y=a_{0}+a_{1}x$  "
   ]
  },
  {
   "cell_type": "markdown",
   "metadata": {},
   "source": [
    "we want to find the parameters of the above function that will maximize the measured data given the known points  \n",
    "$p\\left(\\vec{z}\\bigr|\\left\\{Y_{k},X_{k},\\sigma_{k}\\right\\}\\right) \\propto p\\left(\\left\\{Y_{k}\\right\\}\\bigr|\\vec{a},\\left\\{X_{k},\\sigma_{k}\\right\\}\\right)p\\left(\\vec{a}\\bigr|\\left\\{\\sigma_{k}\\right\\}\\right)$  \n",
    "\n",
    "we will assume a uniform or mostly flat prior, ignore the probability of the measurements, and drop the $\\sigma$  and $X$ terms, so the likelihood will dominate, and we want to maximize  \n",
    "$p\\left(\\vec{a}\\bigr|\\left\\{Y_{k}\\right\\}\\right) \\propto p\\left(\\left\\{Y_{k}\\right\\}\\bigr|\\vec{a},\\right)$  \n",
    "\n",
    "if the data measurements are independent, then the probability density is separable:  \n",
    "$p\\left(\\vec{a}\\bigr|\\left\\{Y_{k}\\right\\}\\right) \\propto \\prod_{k}p\\left(y_{k}|\\vec{a}\\right)$  \n",
    "\n",
    "But instead of the standard standalone gaussian distribution, for each data point, we have two mutually exclusive cases. They can be added because they are disjoint, and since they form an exhaustive set, the sum of their probabilities, integrated over the whole parameter space, should equal 1. Since we're just doing a maximization we don't care about normalization, but this means we can write the likelihood for each data point as:  \n",
    "$p\\left(\\vec{a}\\bigr|y_{k}\\right) \\propto\\left(1-p\\right)\\exp{\\left[-\\frac{\\left(y_{k}-\\left(a_{0}+a_{1}x_{k}\\right)\\right)^{2}}{2\\sigma^{2}}\\right]}+p\\exp{\\left[-\\frac{\\left(y_{k}-\\left(5+a_{0}+a_{1}x_{k}\\right)\\right)^{2}}{2\\sigma^{2}}\\right]}$\n"
   ]
  },
  {
   "cell_type": "markdown",
   "metadata": {},
   "source": [
    "<h3>Initialize variables and read in the data</h3>"
   ]
  },
  {
   "cell_type": "code",
   "execution_count": 178,
   "metadata": {
    "collapsed": false
   },
   "outputs": [
    {
     "name": "stdout",
     "output_type": "stream",
     "text": [
      "[ 3.  8.  9.]\n",
      "[ 8.95041659  7.0608713   9.17988634]\n"
     ]
    }
   ],
   "source": [
    "sigma_meas = 1.0 # standard deviation of measurements \n",
    "p_err = 0.30 # probability of experimental mistake occurring\n",
    "err_add = 5.0 # additive increase error \n",
    "\n",
    "reader = csv.reader(open('hw2prob1-data.txt','rt'), delimiter = ' ')\n",
    "\n",
    "x_data = [ ]\n",
    "y_data = [ ]\n",
    "\n",
    "for row in reader:\n",
    "    if len(row) == 0:\n",
    "        continue\n",
    "    try:\n",
    "        float(row[0]) and float(row[1]) and x_data.append(float(row[0]))\n",
    "        y_data.append(float(row[1]))\n",
    "    except ValueError:\n",
    "        continue\n",
    "    \n",
    "    \n",
    "x_data = numpy.asarray(x_data)\n",
    "y_data = numpy.asarray(y_data)\n",
    "print(x_data)\n",
    "print(y_data)"
   ]
  },
  {
   "cell_type": "markdown",
   "metadata": {},
   "source": [
    "<h3>Define the negative of the posterior, as defined above. This is the function to be minimized</h3>"
   ]
  },
  {
   "cell_type": "code",
   "execution_count": 79,
   "metadata": {
    "collapsed": true
   },
   "outputs": [],
   "source": [
    "def negative_posterior(a, x, y, sigma, p):\n",
    "    prob = -1 \n",
    "    for k in range(0, len(x)):\n",
    "        prob *= ((1-p)*numpy.exp(-(y[k]-(a[0]+a[1]*x[k]))**2/(2*sigma**2)) + p*numpy.exp(-(y[k]-(5+a[0]+a[1]*x[k]))**2/(2*sigma**2)))\n",
    "    return prob\n"
   ]
  },
  {
   "cell_type": "code",
   "execution_count": 206,
   "metadata": {
    "collapsed": false
   },
   "outputs": [
    {
     "data": {
      "text/plain": [
       "<matplotlib.text.Text at 0x110af5ba8>"
      ]
     },
     "execution_count": 206,
     "metadata": {},
     "output_type": "execute_result"
    },
    {
     "name": "stderr",
     "output_type": "stream",
     "text": [
      "/Users/mbuchove/Programs/Anaconda3/anaconda/lib/python3.5/site-packages/matplotlib/collections.py:590: FutureWarning: elementwise comparison failed; returning scalar instead, but in the future will perform elementwise comparison\n",
      "  if self._edgecolors == str('face'):\n"
     ]
    },
    {
     "data": {
      "image/png": "[encoded data removed]",
      "text/plain": [
       "<matplotlib.figure.Figure at 0x1109c3860>"
      ]
     },
     "metadata": {},
     "output_type": "display_data"
    }
   ],
   "source": [
    "a0 = numpy.arange(-2.0, 14.0, 0.05)\n",
    "a1 = numpy.arange(-1.1, 1.4, 0.05)\n",
    "z = numpy.array([[-negative_posterior([i,j], x_data, y_data, sigma_meas, p_err) for i in a0] for j in a1])\n",
    "contour_plot = pyplot.contourf(a0, a1, z)\n",
    "pyplot.colorbar()\n",
    "pyplot.xlabel('$a_0$', fontsize=20)\n",
    "pyplot.ylabel('$a_1$', fontsize=20)\n",
    "pyplot.title('Posterior probability (unnormalized)', fontsize=15)"
   ]
  },
  {
   "cell_type": "markdown",
   "metadata": {
    "collapsed": false
   },
   "source": [
    "<h3>i)</h3>"
   ]
  },
  {
   "cell_type": "code",
   "execution_count": 164,
   "metadata": {
    "collapsed": false
   },
   "outputs": [
    {
     "name": "stdout",
     "output_type": "stream",
     "text": [
      "Optimization terminated successfully.\n",
      "         Current function value: -0.007710\n",
      "         Iterations: 63\n",
      "         Function evaluations: 120\n",
      "[ 4.0351957  -0.09477656]\n"
     ]
    }
   ],
   "source": [
    "guess = [ [ 0.1, 0.1 ] ]\n",
    "a = [ optimize.fmin(negative_posterior, guess[0], args=(x_data, y_data, sigma_meas, p_err)) ]\n",
    "print(a_i)\n",
    "y = [ a[0][0]*numpy.ones(len(x)) + a[0][1]*x_data ]"
   ]
  },
  {
   "cell_type": "markdown",
   "metadata": {},
   "source": [
    "<h3>ii)</h3>"
   ]
  },
  {
   "cell_type": "code",
   "execution_count": 167,
   "metadata": {
    "collapsed": false
   },
   "outputs": [],
   "source": [
    "def chi_square(a, x, y):\n",
    "    residuals = numpy.zeros(len(x))\n",
    "    for k in range(0, len(x)):\n",
    "        residuals[k] = (y[k]-(a[0]+a[1]*x[k]))\n",
    "    return numpy.sum(residuals**2)    "
   ]
  },
  {
   "cell_type": "code",
   "execution_count": 169,
   "metadata": {
    "collapsed": false
   },
   "outputs": [
    {
     "name": "stdout",
     "output_type": "stream",
     "text": [
      "Optimization terminated successfully.\n",
      "         Current function value: 2.513964\n",
      "         Iterations: 69\n",
      "         Function evaluations: 132\n",
      "[ 9.03701413 -0.09599332]\n"
     ]
    }
   ],
   "source": [
    "guess.append(optimize.fmin(chi_square, guess[0], args=(x_data, y_data)))\n",
    "print(guess[1])"
   ]
  },
  {
   "cell_type": "code",
   "execution_count": 170,
   "metadata": {
    "collapsed": false
   },
   "outputs": [
    {
     "name": "stdout",
     "output_type": "stream",
     "text": [
      "Optimization terminated successfully.\n",
      "         Current function value: -0.097612\n",
      "         Iterations: 23\n",
      "         Function evaluations: 46\n",
      "[ 9.03756534 -0.09613447]\n"
     ]
    }
   ],
   "source": [
    "a.append(optimize.fmin(negative_posterior, guess_ii, args=(x_data, y_data, sigma_meas, p_err)))\n",
    "print(a[1])\n",
    "y.append(a[1][0]*numpy.ones(len(x)) + a[1][1]*x_data)"
   ]
  },
  {
   "cell_type": "markdown",
   "metadata": {},
   "source": [
    "<h3>iii)</h3>\n",
    "The points here are near the visible maxes on the 2D contour plot that have not been found yet"
   ]
  },
  {
   "cell_type": "code",
   "execution_count": 171,
   "metadata": {
    "collapsed": false
   },
   "outputs": [
    {
     "name": "stdout",
     "output_type": "stream",
     "text": [
      "Optimization terminated successfully.\n",
      "         Current function value: -0.093569\n",
      "         Iterations: 37\n",
      "         Function evaluations: 70\n",
      "[ 1.45648089  0.79107683]\n"
     ]
    }
   ],
   "source": [
    "guess[2] = [ 1.9, 0.75 ]\n",
    "a.append(optimize.fmin(negative_posterior, guess[2], args=(x_data, y_data, sigma_meas, p_err)))\n",
    "print(a[2])\n",
    "y.append(a[2][0]*numpy.ones(len(x)) + a[2][1]*x_data)"
   ]
  },
  {
   "cell_type": "code",
   "execution_count": 175,
   "metadata": {
    "collapsed": false
   },
   "outputs": [
    {
     "name": "stdout",
     "output_type": "stream",
     "text": [
      "Optimization terminated successfully.\n",
      "         Current function value: -0.041649\n",
      "         Iterations: 34\n",
      "         Function evaluations: 68\n",
      "[ 11.13123764  -0.65995464]\n"
     ]
    }
   ],
   "source": [
    "guess[3] = [ 11.0, -0.6 ]\n",
    "a.append( optimize.fmin(negative_posterior, guess[3], args=(x_data, y_data, sigma_meas, p_err)) )\n",
    "print(a[3])\n",
    "y.append( a[3][0]*numpy.ones(len(x)) + a[3][1]*x_data )"
   ]
  },
  {
   "cell_type": "markdown",
   "metadata": {},
   "source": [
    "Plot results"
   ]
  },
  {
   "cell_type": "code",
   "execution_count": 194,
   "metadata": {
    "collapsed": false
   },
   "outputs": [
    {
     "data": {
      "text/plain": [
       "<matplotlib.legend.Legend at 0x10f2d7c18>"
      ]
     },
     "execution_count": 194,
     "metadata": {},
     "output_type": "execute_result"
    },
    {
     "data": {
      "image/png": "[encoded data removed]",
      "text/plain": [
       "<matplotlib.figure.Figure at 0x10df916d8>"
      ]
     },
     "metadata": {},
     "output_type": "display_data"
    }
   ],
   "source": [
    "pyplot.title(\"y vs x\")\n",
    "pyplot.xlabel(\"x\")\n",
    "pyplot.ylabel(\"y\")\n",
    "plots = [ pyplot.plot(x_data, y_data, 'bo', label=\"Measured\") ]\n",
    "plots = [ pyplot.plot(x_data, y_data - 5, 'mo', label=\"Measured (error)\") ]\n",
    "plots.append( pyplot.plot(x_data, y[0], 'ro-', label=\"Guess i\") )\n",
    "plots.append( pyplot.plot(x_data, y[1], 'go-', label=\"Guess ii\") )\n",
    "plots.append( pyplot.plot(x_data, y[2], 'yo-', label=\"Guess iii\") )\n",
    "plots.append( pyplot.plot(x_data, y[3], 'co-', label=\"Guess iv\") )\n",
    "pyplot.axis([2.0, 10.0, 1.0, 10.0])\n",
    "pyplot.legend(plots, loc='center left', bbox_to_anchor=(1., 0.75))\n"
   ]
  },
  {
   "cell_type": "code",
   "execution_count": 190,
   "metadata": {
    "collapsed": false
   },
   "outputs": [
    {
     "data": {
      "text/plain": [
       "<matplotlib.text.Text at 0x10eba2828>"
      ]
     },
     "execution_count": 190,
     "metadata": {},
     "output_type": "execute_result"
    },
    {
     "name": "stderr",
     "output_type": "stream",
     "text": [
      "/Users/mbuchove/Programs/Anaconda3/anaconda/lib/python3.5/site-packages/matplotlib/collections.py:590: FutureWarning: elementwise comparison failed; returning scalar instead, but in the future will perform elementwise comparison\n",
      "  if self._edgecolors == str('face'):\n"
     ]
    },
    {
     "data": {
      "image/png": "[encoded data removed]",
      "text/plain": [
       "<matplotlib.figure.Figure at 0x10d4b2198>"
      ]
     },
     "metadata": {},
     "output_type": "display_data"
    }
   ],
   "source": [
    "l = len(a)\n",
    "params_x = []*l\n",
    "params_y = []*l\n",
    "for i in range(0, l):\n",
    "    params_x.append( a[i][0] )\n",
    "    params_y.append( a[i][1] )\n",
    "    \n",
    "pyplot.contourf(a0, a1, z)\n",
    "pyplot.plot(params_x, params_y, 'ko')\n",
    "\n",
    "pyplot.xlabel('$a_0$', fontsize=20)\n",
    "pyplot.ylabel('$a_1$', fontsize=20)\n",
    "pyplot.title(\"Fit param locations\")\n"
   ]
  },
  {
   "cell_type": "markdown",
   "metadata": {},
   "source": [
    "<h3>Results</h3>\n",
    "We can see that given the proper first guesses, we get the parameters that match the local maxima in the contour plot. The lines of fit y vs x look like lines of best fit that correspond to different sets of 3 points. The sets of points choose for each x, either the measured y, or the measured y before the added error was added, assuming there was one. "
   ]
  }
 ],
 "metadata": {
  "kernelspec": {
   "display_name": "Python 3",
   "language": "python",
   "name": "python3"
  },
  "language_info": {
   "codemirror_mode": {
    "name": "ipython",
    "version": 3
   },
   "file_extension": ".py",
   "mimetype": "text/x-python",
   "name": "python",
   "nbconvert_exporter": "python",
   "pygments_lexer": "ipython3",
   "version": "3.5.1"
  }
 },
 "nbformat": 4,
 "nbformat_minor": 0
}
