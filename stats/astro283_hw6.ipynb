{
 "cells": [
  {
   "cell_type": "markdown",
   "metadata": {},
   "source": [
    "<h1> Homework Set 6</h1>\n",
    "Matt Buchovecky  \n",
    "Astro 283 / Fitz "
   ]
  },
  {
   "cell_type": "code",
   "execution_count": 1,
   "metadata": {
    "collapsed": true
   },
   "outputs": [],
   "source": [
    "import numpy as np\n",
    "from scipy import optimize, special \n",
    "from matplotlib import pyplot as plt\n",
    "from astropy.io import fits\n",
    "%matplotlib inline"
   ]
  },
  {
   "cell_type": "markdown",
   "metadata": {},
   "source": [
    "<h2> Problem 1"
   ]
  },
  {
   "cell_type": "code",
   "execution_count": 2,
   "metadata": {
    "collapsed": false
   },
   "outputs": [],
   "source": [
    "infile = open(\"./samplevals_PA.txt\", 'r')\n",
    "v_arr = [ ]\n",
    "\n",
    "for line in iter(infile):\n",
    "    line = line.split()\n",
    "    try:\n",
    "        float(line[0])\n",
    "        v_arr.append(float(line[0]))\n",
    "    except ValueError:\n",
    "        continue\n",
    "    \n",
    "infile.close()\n"
   ]
  },
  {
   "cell_type": "code",
   "execution_count": 3,
   "metadata": {
    "collapsed": false
   },
   "outputs": [
    {
     "name": "stdout",
     "output_type": "stream",
     "text": [
      "[3.268234568833195, 4.559128104426302, 9.952412352739938, 10.653534538036835, 5.838784012707487, 0.537382849676793, 7.700844168450949, 3.5868235601282272, 0.8893756846959922, 2.1763985114475304, 10.691842822083164, 8.391122773785431, 4.501693277379227, 2.622576726010284, 1.5392386446856254, 1.5437725138306102, 1.7699013063829039, 11.47863549609901, 5.125085938794893, 4.766521181897709, 0.9314251647394078, 6.176257938434682, 3.7687951140516374, 3.333455779322836, 4.433195145151503, 3.8722000665260325, 3.261930122936174, 7.579279779356263, 6.1002757807229635, 8.661302055006214, 11.053300867227067, 3.7037028069928812, 5.017700076928644, 8.181742162092064, 4.439296750219612, 3.6709851434633456, 9.373635083780874, 6.661202242753072, 18.255547975785536, 2.404939312768206, 4.613846612388805, 7.840872690360568, 1.467958348163112, 3.6470546198578258, 4.738737096390033, 6.022129175231994, 6.245327787763655, 7.194089565522965, 8.956268828916492, 8.431682218236459]\n"
     ]
    }
   ],
   "source": [
    "print(v_arr)"
   ]
  },
  {
   "cell_type": "code",
   "execution_count": 4,
   "metadata": {
    "collapsed": false
   },
   "outputs": [
    {
     "ename": "NameError",
     "evalue": "name 'pyplot' is not defined",
     "output_type": "error",
     "traceback": [
      "\u001b[0;31m---------------------------------------------------------------------------\u001b[0m",
      "\u001b[0;31mNameError\u001b[0m                                 Traceback (most recent call last)",
      "\u001b[0;32m<ipython-input-4-f639675adb30>\u001b[0m in \u001b[0;36m<module>\u001b[0;34m()\u001b[0m\n\u001b[0;32m----> 1\u001b[0;31m \u001b[0mpyplot\u001b[0m\u001b[0;34m.\u001b[0m\u001b[0mhist\u001b[0m\u001b[0;34m(\u001b[0m\u001b[0mv_arr\u001b[0m\u001b[0;34m)\u001b[0m\u001b[0;34m\u001b[0m\u001b[0m\n\u001b[0m",
      "\u001b[0;31mNameError\u001b[0m: name 'pyplot' is not defined"
     ]
    }
   ],
   "source": [
    "pyplot.hist(v_arr)"
   ]
  },
  {
   "cell_type": "code",
   "execution_count": null,
   "metadata": {
    "collapsed": true
   },
   "outputs": [],
   "source": [
    "def Rice_dist(x, alpha, beta):\n",
    "    \"\"\"the pdf of the Rice distribution\"\"\"\n",
    "    return (1/alpha)*np.exp((x+beta)/(-alpha))*special.iv(0, 2*np.sqrt(x*beta)/alpha)"
   ]
  },
  {
   "cell_type": "code",
   "execution_count": null,
   "metadata": {
    "collapsed": true
   },
   "outputs": [],
   "source": [
    "def Rice_dist_n(x, alpha, beta):\n",
    "    condlist = [ x>0 ]\n",
    "    choicelist = [ (1/alpha)*np.exp((x+beta)/(-alpha))*special.iv(0, 2*np.sqrt(x*beta)/alpha) ]\n",
    "    return np.select(condlist, choicelist, default=0.0)\n",
    "        "
   ]
  },
  {
   "cell_type": "code",
   "execution_count": null,
   "metadata": {
    "collapsed": true
   },
   "outputs": [],
   "source": [
    "def neg_likelihood(params, value_array, function):\n",
    "    \"\"\"the opposite of the likelihood function for a set of independent values for a given \\\\\n",
    "    function\"\"\"\n",
    "    l = -1\n",
    "    for x in value_array:\n",
    "        l *= function(x, *params)\n",
    "    return l\n"
   ]
  },
  {
   "cell_type": "code",
   "execution_count": null,
   "metadata": {
    "collapsed": false
   },
   "outputs": [],
   "source": [
    "# perform the optimization \n",
    "guess = (2, 3)\n",
    "opt = optimize.fmin(neg_likelihood, guess, args=(v_arr, Rice_dist))\n",
    "print(opt)"
   ]
  },
  {
   "cell_type": "code",
   "execution_count": null,
   "metadata": {
    "collapsed": false
   },
   "outputs": [],
   "source": [
    "# plot the Rice distribution with optimal values against normed histogram\n",
    "r = np.arange(0., 20., 0.1)\n",
    "plt.plot(r, Rice_dist(r, opt[0], opt[1]))\n",
    "plt.hist(v_arr, normed=True)\n"
   ]
  },
  {
   "cell_type": "code",
   "execution_count": null,
   "metadata": {
    "collapsed": false
   },
   "outputs": [],
   "source": [
    "# define a mesh grid for parameter space plot \n",
    "alpha_range = np.linspace(1., 5., 100)\n",
    "beta_range = np.linspace(1., 10., 100)\n",
    "alpha_arr, beta_arr = np.meshgrid(alpha_range, beta_range)\n",
    "#alpha_rav = alpha_rav.ravel()\n",
    "#beta_rav = beta_rav.ravel()\n"
   ]
  },
  {
   "cell_type": "code",
   "execution_count": null,
   "metadata": {
    "collapsed": false
   },
   "outputs": [],
   "source": [
    "# positive likelihood values for Rice distribution! \n",
    "Rice_arr = -neg_likelihood((alpha_arr, beta_arr), v_arr, Rice_dist_n)\n"
   ]
  },
  {
   "cell_type": "code",
   "execution_count": null,
   "metadata": {
    "collapsed": false
   },
   "outputs": [],
   "source": [
    "pyplot.imshow(Rice_arr)\n"
   ]
  },
  {
   "cell_type": "markdown",
   "metadata": {},
   "source": [
    "<h2> Problem 2 </h2>"
   ]
  },
  {
   "cell_type": "code",
   "execution_count": null,
   "metadata": {
    "collapsed": false
   },
   "outputs": [],
   "source": [
    "model_fits = fits.open(\"hw6prob2_model.fits\")\n",
    "psf_fits = fits.open(\"hw6prob2_psf.fits\")\n",
    "print(model_fits.info())\n",
    "print(psf_fits.info())\n",
    "\n",
    "model_data = model_fits[0].data\n",
    "psf_data = psf_fits[0].data\n",
    "\n",
    "model_fits.close()\n",
    "psf_fits.close()\n"
   ]
  },
  {
   "cell_type": "code",
   "execution_count": null,
   "metadata": {
    "collapsed": false
   },
   "outputs": [],
   "source": [
    "plt.imshow(psf_data)\n",
    "plt.colorbar()"
   ]
  },
  {
   "cell_type": "code",
   "execution_count": null,
   "metadata": {
    "collapsed": false
   },
   "outputs": [],
   "source": [
    "for s in (0, 31, 47, 63, 70, 95, 127):\n",
    "    plt.figure()\n",
    "    plt.imshow(model_data[:][s][:])\n",
    "    pyplot.colorbar()"
   ]
  },
  {
   "cell_type": "code",
   "execution_count": null,
   "metadata": {
    "collapsed": false
   },
   "outputs": [],
   "source": [
    "import mpl_toolkits\n"
   ]
  },
  {
   "cell_type": "code",
   "execution_count": null,
   "metadata": {
    "collapsed": false
   },
   "outputs": [],
   "source": [
    "mpl_toolkits.mplot3d.Axes3D.contour(model_data)"
   ]
  },
  {
   "cell_type": "code",
   "execution_count": null,
   "metadata": {
    "collapsed": false
   },
   "outputs": [],
   "source": [
    "from mpl_toolkits.mplot3d import Axes3D\n",
    "Axes3D.contour3D(model_data)"
   ]
  },
  {
   "cell_type": "code",
   "execution_count": 7,
   "metadata": {
    "collapsed": false
   },
   "outputs": [],
   "source": [
    "\n",
    "def cool_turkey_fft(arr, N, s, inverse=False, recursCall=False):\n",
    "    \n",
    "    s = int(s)\n",
    "    if inverse:\n",
    "        sign = -1\n",
    "    else:\n",
    "        sign = 1\n",
    "    ARR = np.zeros(N, dtype=complex)\n",
    "    if N == 1:\n",
    "        ARR[0] = arr[0]\n",
    "    else:\n",
    "        #ARR[0:int(N/2)] = cool_turkey_fft(arr[0::2])\n",
    "        #ARR[int(N/2)] = cool_turkey_fft(arr[1::2])\n",
    "        N2 = int(N/2)\n",
    "        ARR[0:N2] = cool_turkey_fft(arr[0::2*s], N2, s, inverse, recursCall=False)\n",
    "        ARR[N2:] = cool_turkey_fft(arr[1::2*s], N2, s, inverse, recursCall=False)\n",
    "        #ARReven = cool_turkey_fft(arr[0::2*s], N/2, s)\n",
    "        #ARRodd = cool_turkey_fft(arr[s::2*s], N/2, s)\n",
    "        for k in range(0, N2):\n",
    "            orig = ARR[k]\n",
    "            ARR[k] = orig + np.exp(-sign*2*np.pi*(1j)*k/N)*ARR[k+N2]\n",
    "            ARR[k+N2] = orig - np.exp(-sign*2*np.pi*(1j)*k/N)*ARR[k+N2]\n",
    "    return ARR\n",
    "    "
   ]
  },
  {
   "cell_type": "code",
   "execution_count": 9,
   "metadata": {
    "collapsed": false
   },
   "outputs": [],
   "source": [
    "x = np.linspace(0, 2*np.pi, 128, dtype=complex)\n",
    "sinar = np.sin(3*x)\n"
   ]
  },
  {
   "cell_type": "code",
   "execution_count": 10,
   "metadata": {
    "collapsed": false,
    "scrolled": false
   },
   "outputs": [],
   "source": [
    "sinar_ctfft = cool_turkey_fft(sinar, 128, 1)\n",
    "sinar_fft_np = np.fft.fft(sinar)\n"
   ]
  },
  {
   "cell_type": "code",
   "execution_count": 12,
   "metadata": {
    "collapsed": false
   },
   "outputs": [
    {
     "name": "stderr",
     "output_type": "stream",
     "text": [
      "/Users/mbuchove/Programs/Anaconda3/anaconda/lib/python3.5/site-packages/numpy/core/numeric.py:474: ComplexWarning: Casting complex values to real discards the imaginary part\n",
      "  return array(a, dtype, copy=False, order=order)\n"
     ]
    },
    {
     "data": {
      "text/plain": [
       "[<matplotlib.lines.Line2D at 0x107a19fd0>]"
      ]
     },
     "execution_count": 12,
     "metadata": {},
     "output_type": "execute_result"
    },
    {
     "data": {
      "image/png": "[encoded data removed]",
      "text/plain": [
       "<matplotlib.figure.Figure at 0x107968160>"
      ]
     },
     "metadata": {},
     "output_type": "display_data"
    }
   ],
   "source": [
    "plt.plot(sinar_ctfft)"
   ]
  },
  {
   "cell_type": "code",
   "execution_count": null,
   "metadata": {
    "collapsed": false
   },
   "outputs": [],
   "source": [
    "print((1j)*(1j))\n",
    "print(sinar)\n",
    "print(sinar[1::2*1])\n",
    "np.complex256"
   ]
  }
 ],
 "metadata": {
  "kernelspec": {
   "display_name": "Python 3",
   "language": "python",
   "name": "python3"
  },
  "language_info": {
   "codemirror_mode": {
    "name": "ipython",
    "version": 3
   },
   "file_extension": ".py",
   "mimetype": "text/x-python",
   "name": "python",
   "nbconvert_exporter": "python",
   "pygments_lexer": "ipython3",
   "version": "3.5.1"
  }
 },
 "nbformat": 4,
 "nbformat_minor": 0
}
