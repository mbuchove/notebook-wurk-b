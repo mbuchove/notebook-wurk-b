{
 "cells": [
  {
   "cell_type": "markdown",
   "metadata": {},
   "source": [
    "<h1> Homework 2 </h1>\n",
    "Matt Buchovecky"
   ]
  },
  {
   "cell_type": "code",
   "execution_count": 93,
   "metadata": {
    "collapsed": false
   },
   "outputs": [],
   "source": [
    "from scipy import random, optimize, std\n",
    "from matplotlib import pyplot\n",
    "%matplotlib inline\n",
    "import numpy\n"
   ]
  },
  {
   "cell_type": "markdown",
   "metadata": {},
   "source": [
    "Initialize"
   ]
  },
  {
   "cell_type": "code",
   "execution_count": 114,
   "metadata": {
    "collapsed": false
   },
   "outputs": [],
   "source": [
    "x_data = [ 3.0, 8.0, 9.0 ]\n",
    "y_data = [ 8.95041659264, 7.06087129958, 9.17988634079 ]\n",
    "\n",
    "sigma_meas = 1.0 # standard deviation of measurements \n",
    "p_error = 0.30 # probability of experimental mistake occurring\n",
    "add_inc = 5.0 # additive increase error \n",
    "\n",
    "def lin_min(a, x, y):\n",
    "    return numpy.sum((numpy.asarray(y) - ( a[0]*numpy.ones(len(y)) + a[1]*numpy.asarray(x) ))**2)\n"
   ]
  },
  {
   "cell_type": "code",
   "execution_count": 102,
   "metadata": {
    "collapsed": false
   },
   "outputs": [
    {
     "name": "stdout",
     "output_type": "stream",
     "text": [
      "Optimization terminated successfully.\n",
      "         Current function value: 2.513964\n",
      "         Iterations: 69\n",
      "         Function evaluations: 132\n"
     ]
    },
    {
     "data": {
      "text/plain": [
       "array([ 9.03702713, -0.09599509])"
      ]
     },
     "execution_count": 102,
     "metadata": {},
     "output_type": "execute_result"
    }
   ],
   "source": [
    "guess_a = [ 0.1, 0.1 ]\n",
    "optimize.fmin(lin_min, guess_a, args=(x_data, y_data))\n"
   ]
  },
  {
   "cell_type": "code",
   "execution_count": 107,
   "metadata": {
    "collapsed": false
   },
   "outputs": [
    {
     "name": "stdout",
     "output_type": "stream",
     "text": [
      "Optimization terminated successfully.\n",
      "         Current function value: 2.513964\n",
      "         Iterations: 50\n",
      "         Function evaluations: 94\n",
      "[ 9.03701413 -0.09599332]\n"
     ]
    }
   ],
   "source": [
    "guess_b = [ 1., 1. ]\n",
    "print(optimize.fmin(lin_min, guess_b, args=(x_data, y_data)))\n"
   ]
  },
  {
   "cell_type": "code",
   "execution_count": 110,
   "metadata": {
    "collapsed": false
   },
   "outputs": [
    {
     "name": "stdout",
     "output_type": "stream",
     "text": [
      "Optimization terminated successfully.\n",
      "         Current function value: 2.513964\n",
      "         Iterations: 51\n",
      "         Function evaluations: 95\n"
     ]
    },
    {
     "data": {
      "text/plain": [
       "array([ 9.03708985, -0.09600336])"
      ]
     },
     "execution_count": 110,
     "metadata": {},
     "output_type": "execute_result"
    }
   ],
   "source": [
    "guess_c = [ 5., 1. ]\n",
    "optimize.fmin(lin_min, guess_c, args=(x_data, y_data))\n"
   ]
  },
  {
   "cell_type": "markdown",
   "metadata": {},
   "source": [
    "Simulate Larger dataset "
   ]
  },
  {
   "cell_type": "code",
   "execution_count": 121,
   "metadata": {
    "collapsed": false
   },
   "outputs": [],
   "source": [
    "num_trials = 1000\n",
    "x_n = arange(0, num_trials)\n",
    "y_n = zeros(num_trials)\n",
    "\n",
    "n = 0\n",
    "while n < num_trials:\n",
    "    y_n[n] = scipy.random.normal(x_n[n], sigma_meas)\n",
    "    uni_rand = random.rand()\n",
    "    if uni_rand < p_error:\n",
    "        y_n[n] = y_n[n] + add_inc \n",
    "    n = n + 1\n",
    "   "
   ]
  },
  {
   "cell_type": "code",
   "execution_count": 124,
   "metadata": {
    "collapsed": false
   },
   "outputs": [
    {
     "data": {
      "text/plain": [
       "<matplotlib.text.Text at 0x10746afd0>"
      ]
     },
     "execution_count": 124,
     "metadata": {},
     "output_type": "execute_result"
    },
    {
     "data": {
      "image/png": "[encoded data removed]",
      "text/plain": [
       "<matplotlib.figure.Figure at 0x108089dd8>"
      ]
     },
     "metadata": {},
     "output_type": "display_data"
    }
   ],
   "source": [
    "pyplot.title(\"y vs x \")\n",
    "pyplot.plot(x_n, y_n)\n",
    "pyplot.xlabel(\"x\")\n",
    "pyplot.ylabel(\"y\")\n"
   ]
  },
  {
   "cell_type": "code",
   "execution_count": 123,
   "metadata": {
    "collapsed": false
   },
   "outputs": [
    {
     "name": "stdout",
     "output_type": "stream",
     "text": [
      "Optimization terminated successfully.\n",
      "         Current function value: 6190.608107\n",
      "         Iterations: 35\n",
      "         Function evaluations: 69\n"
     ]
    },
    {
     "data": {
      "text/plain": [
       "array([ 1.43835192,  0.99982332])"
      ]
     },
     "execution_count": 123,
     "metadata": {},
     "output_type": "execute_result"
    }
   ],
   "source": [
    "guess_sim = [ p_error*add_inc, 1. ]\n",
    "optimize.fmin(lin_min, guess_sim, args=(x_n, y_n))\n"
   ]
  },
  {
   "cell_type": "markdown",
   "metadata": {},
   "source": [
    "# truss me daddi"
   ]
  },
  {
   "cell_type": "code",
   "execution_count": null,
   "metadata": {
    "collapsed": true
   },
   "outputs": [],
   "source": []
  }
 ],
 "metadata": {
  "kernelspec": {
   "display_name": "Python 3",
   "language": "python",
   "name": "python3"
  },
  "language_info": {
   "codemirror_mode": {
    "name": "ipython",
    "version": 3
   },
   "file_extension": ".py",
   "mimetype": "text/x-python",
   "name": "python",
   "nbconvert_exporter": "python",
   "pygments_lexer": "ipython3",
   "version": "3.5.1"
  }
 },
 "nbformat": 4,
 "nbformat_minor": 0
}
