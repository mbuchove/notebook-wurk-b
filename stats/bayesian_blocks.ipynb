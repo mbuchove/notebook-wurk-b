{
 "cells": [
  {
   "cell_type": "code",
   "execution_count": 1,
   "metadata": {
    "collapsed": false
   },
   "outputs": [
    {
     "name": "stdout",
     "output_type": "stream",
     "text": [
      "Populating the interactive namespace from numpy and matplotlib\n"
     ]
    }
   ],
   "source": [
    "# plot figures inline with matplotlib\n",
    "%pylab inline"
   ]
  },
  {
   "cell_type": "code",
   "execution_count": 2,
   "metadata": {
    "collapsed": false
   },
   "outputs": [],
   "source": [
    "# Define our test distribution: a mix of Cauchy-distributed variables\n",
    "import numpy as np\n",
    "from scipy import stats\n",
    "\n",
    "np.random.seed(0)\n",
    "x = np.concatenate([stats.cauchy(-5, 1.8).rvs(500),\n",
    "                    stats.cauchy(-4, 0.8).rvs(2000),\n",
    "                    stats.cauchy(-1, 0.3).rvs(500),\n",
    "                    stats.cauchy(2, 0.8).rvs(1000),\n",
    "                    stats.cauchy(4, 1.5).rvs(500)])\n",
    "\n",
    "# truncate values to a reasonable range\n",
    "x = x[(x > -15) & (x < 15)]"
   ]
  },
  {
   "cell_type": "code",
   "execution_count": 3,
   "metadata": {
    "collapsed": false
   },
   "outputs": [
    {
     "data": {
      "image/png": "[encoded data removed]",
      "text/plain": [
       "<matplotlib.figure.Figure at 0x105a18b38>"
      ]
     },
     "metadata": {},
     "output_type": "display_data"
    }
   ],
   "source": [
    "# Histogram the result\n",
    "import pylab as pl\n",
    "H = pl.hist(x, normed=True)\n",
    "#pl.savefig('bayesblocks1.png')"
   ]
  },
  {
   "cell_type": "code",
   "execution_count": 4,
   "metadata": {
    "collapsed": false
   },
   "outputs": [
    {
     "data": {
      "image/png": "[encoded data removed]",
      "text/plain": [
       "<matplotlib.figure.Figure at 0x106e9db00>"
      ]
     },
     "metadata": {},
     "output_type": "display_data"
    }
   ],
   "source": [
    "\n",
    "# Histogram with more bins\n",
    "H = pl.hist(x, bins=100, normed=True)\n",
    "#pl.savefig('bayesblocks2.png')"
   ]
  },
  {
   "cell_type": "code",
   "execution_count": 5,
   "metadata": {
    "collapsed": false
   },
   "outputs": [],
   "source": [
    "def bayesian_blocks(t):\n",
    "    \"\"\"Bayesian Blocks Implementation\n",
    "\n",
    "    By Jake Vanderplas.  License: BSD\n",
    "    Based on algorithm outlined in http://adsabs.harvard.edu/abs/2012arXiv1207.5578S\n",
    "\n",
    "    Parameters\n",
    "    ----------\n",
    "    t : ndarray, length N\n",
    "        data to be histogrammed\n",
    "\n",
    "    Returns\n",
    "    -------\n",
    "    bins : ndarray\n",
    "        array containing the (N+1) bin edges\n",
    "\n",
    "    Notes\n",
    "    -----\n",
    "    This is an incomplete implementation: it may fail for some\n",
    "    datasets.  Alternate fitness functions and prior forms can\n",
    "    be found in the paper listed above.\n",
    "    \"\"\"\n",
    "    # copy and sort the array\n",
    "    t = np.sort(t)\n",
    "    N = t.size\n",
    "\n",
    "    # create length-(N + 1) array of cell edges\n",
    "    edges = np.concatenate([t[:1],\n",
    "                            0.5 * (t[1:] + t[:-1]),\n",
    "                            t[-1:]])\n",
    "    block_length = t[-1] - edges\n",
    "\n",
    "    # arrays needed for the iteration\n",
    "    nn_vec = np.ones(N)\n",
    "    best = np.zeros(N, dtype=float)\n",
    "    last = np.zeros(N, dtype=int)\n",
    "\n",
    "    #-----------------------------------------------------------------\n",
    "    # Start with first data cell; add one cell at each iteration\n",
    "    #-----------------------------------------------------------------\n",
    "    for K in range(N):\n",
    "        # Compute the width and count of the final bin for all possible\n",
    "        # locations of the K^th changepoint\n",
    "        width = block_length[:K + 1] - block_length[K + 1]\n",
    "        count_vec = np.cumsum(nn_vec[:K + 1][::-1])[::-1]\n",
    "\n",
    "        # evaluate fitness function for these possibilities\n",
    "        fit_vec = count_vec * (np.log(count_vec) - np.log(width))\n",
    "        fit_vec -= 4  # 4 comes from the prior on the number of changepoints\n",
    "        fit_vec[1:] += best[:K]\n",
    "\n",
    "        # find the max of the fitness: this is the K^th changepoint\n",
    "        i_max = np.argmax(fit_vec)\n",
    "        last[K] = i_max\n",
    "        best[K] = fit_vec[i_max]\n",
    "    \n",
    "    #-----------------------------------------------------------------\n",
    "    # Recover changepoints by iteratively peeling off the last block\n",
    "    #-----------------------------------------------------------------\n",
    "    change_points =  np.zeros(N, dtype=int)\n",
    "    i_cp = N\n",
    "    ind = N\n",
    "    while True:\n",
    "        i_cp -= 1\n",
    "        change_points[i_cp] = ind\n",
    "        if ind == 0:\n",
    "            break\n",
    "        ind = last[ind - 1]\n",
    "    change_points = change_points[i_cp:]\n",
    "\n",
    "    return edges[change_points]"
   ]
  },
  {
   "cell_type": "code",
   "execution_count": 6,
   "metadata": {
    "collapsed": false
   },
   "outputs": [
    {
     "name": "stdout",
     "output_type": "stream",
     "text": [
      "4323\n",
      "[-2.780238   -2.77859664 -2.77695173 -2.77672852 -2.77246834 -2.77066611\n",
      " -2.77018676 -2.76760782 -2.76676429 -2.762392   -2.76141795 -2.75645176\n",
      " -2.75607458 -2.75586991 -2.75310667]\n",
      "[-2.780238   -2.77859664 -2.77695173 -2.77672852 -2.77246834 -2.77066611\n",
      " -2.77018676 -2.76760782 -2.76676429 -2.762392   -2.76141795 -2.75645176\n",
      " -2.75607458 -2.75586991 -2.75310667 -2.7510195 ]\n",
      "[-2.780238   -2.77941732 -2.77777418 -2.77684012 -2.77459843 -2.77156722\n",
      " -2.77042643 -2.76889729 -2.76718606 -2.76457814 -2.76190497 -2.75893485\n",
      " -2.75626317 -2.75597225 -2.75448829 -2.75206309 -2.7510195 ]\n"
     ]
    }
   ],
   "source": [
    "x_sort = np.sort(x)\n",
    "print(len(x_sort))\n",
    "x_sub = x_sort[2000:2016]\n",
    "print(x_sub[:-1])\n",
    "edges2 = np.concatenate( [x_sub[:1], 0.5*(x_sub[1:] + x_sub[:-1]), x_sub[-1:]])\n",
    "print(x_sub)\n",
    "print(edges2)"
   ]
  },
  {
   "cell_type": "code",
   "execution_count": 7,
   "metadata": {
    "collapsed": false
   },
   "outputs": [
    {
     "name": "stdout",
     "output_type": "stream",
     "text": [
      "[ 0.02921849  0.02839782  0.02675468  0.02582062  0.02357893  0.02054772\n",
      "  0.01940693  0.01787779  0.01616656  0.01355864  0.01088547  0.00791535\n",
      "  0.00524367  0.00495275  0.00346879  0.00104359  0.        ]\n",
      "[ 0.00981156  0.00899088  0.00734775  0.00641369  0.004172    0.00114079]\n",
      "0.0194069311327\n",
      "[ 0.02921849  0.02839782  0.02675468  0.02582062  0.02357893  0.02054772\n",
      "  0.01940693]\n",
      "[-14.97136966  -9.97833787  -8.30032639  -7.20947227  -6.5664823\n",
      "  -5.61111739  -4.93909444  -4.63517611  -3.67195943  -3.30025458\n",
      "  -2.72032808  -1.31563551  -0.68004784  -0.32148883   0.48496711\n",
      "   1.39257178   2.36089893   3.10617066   4.68536101   6.16901031\n",
      "   9.11405688  11.53270207  14.5052249 ]\n"
     ]
    }
   ],
   "source": [
    "block_length2 = x_sub[-1] - edges2\n",
    "print(block_length2)\n",
    "K = 5 \n",
    "#K = len(block_length2)-3\n",
    "width = block_length2[:K + 1] - block_length2[K + 1]\n",
    "print(width)\n",
    "print(block_length2[K+1])\n",
    "print(block_length2[:K+2])\n",
    "print(bayesian_blocks(x))"
   ]
  },
  {
   "cell_type": "code",
   "execution_count": 8,
   "metadata": {
    "collapsed": false
   },
   "outputs": [
    {
     "name": "stdout",
     "output_type": "stream",
     "text": [
      "[ 1.  1.  1.  1.  1.  1.  1.  1.  1.  1.  1.  1.  1.  1.  1.  1.]\n",
      "[ 6.  5.  4.  3.  2.  1.]\n",
      "[ 6.  5.  4.  3.  2.  1.]\n"
     ]
    }
   ],
   "source": [
    "N = len(x_sub)\n",
    "nn_vec = np.ones(N)\n",
    "count_vec = np.cumsum(nn_vec[:K + 1][::-1])[::-1]\n",
    "print(nn_vec)\n",
    "print(count_vec)\n",
    "print(np.cumsum(nn_vec[:K+1][::-1])[::-1])"
   ]
  },
  {
   "cell_type": "code",
   "execution_count": 9,
   "metadata": {
    "collapsed": false
   },
   "outputs": [
    {
     "data": {
      "image/png": "[encoded data removed]",
      "text/plain": [
       "<matplotlib.figure.Figure at 0x1071dc8d0>"
      ]
     },
     "metadata": {},
     "output_type": "display_data"
    }
   ],
   "source": [
    "# plot a standard histogram in the background, with alpha transparency\n",
    "H1 = hist(x, bins=200, histtype='stepfilled', alpha=0.2, normed=True)\n",
    "# plot an adaptive-width histogram on top\n",
    "H2 = hist(x, bins=bayesian_blocks(x), color='black', histtype='step', normed=True)\n",
    "#pl.savefig('bayesblocks3.png')"
   ]
  },
  {
   "cell_type": "code",
   "execution_count": null,
   "metadata": {
    "collapsed": false
   },
   "outputs": [],
   "source": []
  },
  {
   "cell_type": "code",
   "execution_count": 10,
   "metadata": {
    "collapsed": false
   },
   "outputs": [
    {
     "data": {
      "text/plain": [
       "<matplotlib.text.Text at 0x106e31080>"
      ]
     },
     "execution_count": 10,
     "metadata": {},
     "output_type": "execute_result"
    },
    {
     "data": {
      "image/png": "[encoded data removed]",
      "text/plain": [
       "<matplotlib.figure.Figure at 0x1071b09b0>"
      ]
     },
     "metadata": {},
     "output_type": "display_data"
    }
   ],
   "source": [
    "time_bins = []\n",
    "f_vals = []\n",
    "for t in range(35):\n",
    "    time_bins.append(t)\n",
    "    f_vals.append(stats.poisson(5.).rvs(1)[0])\n",
    "for t in range(35, 100):\n",
    "    time_bins.append(t)\n",
    "    f_vals.append(stats.poisson(25.).rvs(1)[0])\n",
    "\n",
    "    \n",
    "plt.bar(time_bins, f_vals)\n",
    "plt.xlabel('time')\n",
    "plt.ylabel('counts')\n",
    "plt.title(\"flux over time\")"
   ]
  },
  {
   "cell_type": "code",
   "execution_count": 11,
   "metadata": {
    "collapsed": false
   },
   "outputs": [
    {
     "name": "stdout",
     "output_type": "stream",
     "text": [
      "[  1.   2.   2.  36.]\n"
     ]
    },
    {
     "name": "stderr",
     "output_type": "stream",
     "text": [
      "/Users/mbuchove/Programs/Anaconda3/anaconda/lib/python3.5/site-packages/ipykernel/__main__.py:48: RuntimeWarning: divide by zero encountered in log\n"
     ]
    }
   ],
   "source": [
    "bayes_blocks = bayesian_blocks(f_vals)\n",
    "print(bayes_blocks)"
   ]
  },
  {
   "cell_type": "code",
   "execution_count": 12,
   "metadata": {
    "collapsed": false
   },
   "outputs": [
    {
     "data": {
      "text/plain": [
       "array([-14.97136966,  -9.97833787,  -8.30032639,  -7.20947227,\n",
       "        -6.5664823 ,  -5.61111739,  -4.93909444,  -4.63517611,\n",
       "        -3.67195943,  -3.30025458,  -2.72032808,  -1.31563551,\n",
       "        -0.68004784,  -0.32148883,   0.48496711,   1.39257178,\n",
       "         2.36089893,   3.10617066,   4.68536101,   6.16901031,\n",
       "         9.11405688,  11.53270207,  14.5052249 ])"
      ]
     },
     "execution_count": 12,
     "metadata": {},
     "output_type": "execute_result"
    }
   ],
   "source": [
    "bayesian_blocks(x)"
   ]
  }
 ],
 "metadata": {
  "kernelspec": {
   "display_name": "Python 3",
   "language": "python",
   "name": "python3"
  },
  "language_info": {
   "codemirror_mode": {
    "name": "ipython",
    "version": 3
   },
   "file_extension": ".py",
   "mimetype": "text/x-python",
   "name": "python",
   "nbconvert_exporter": "python",
   "pygments_lexer": "ipython3",
   "version": "3.5.1"
  }
 },
 "nbformat": 4,
 "nbformat_minor": 0
}
