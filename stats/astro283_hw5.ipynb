{
 "cells": [
  {
   "cell_type": "markdown",
   "metadata": {},
   "source": [
    "<h2>HW #5</h2>\n",
    "Matt Buchovecky\n",
    "Astro 283"
   ]
  },
  {
   "cell_type": "code",
   "execution_count": 77,
   "metadata": {
    "collapsed": false
   },
   "outputs": [],
   "source": [
    "# import modules\n",
    "import numpy as np\n",
    "from matplotlib import pyplot\n",
    "%matplotlib inline \n",
    "from scipy import optimize, stats, special\n"
   ]
  },
  {
   "cell_type": "markdown",
   "metadata": {},
   "source": [
    "<h2> Problem 1 </h2>"
   ]
  },
  {
   "cell_type": "markdown",
   "metadata": {},
   "source": [
    "$$p\\left(x\\mid \\alpha,\\beta\\right) = \\left\\{\n",
    "\\begin{array}{ll} \n",
    " \\alpha^{-1}\\exp{\\left(-\\frac{x+\\beta}{\\alpha}\\right)I_0\\left(\\frac{2\\sqrt{x\\beta}}{\\alpha}\\right)} & \\quad \\quad x\\geq 0 \\\\\n",
    "0 & \\quad \\quad x<0 \\\\\n",
    "\\end{array}\n",
    "\\right.\n",
    "$$"
   ]
  },
  {
   "cell_type": "code",
   "execution_count": 172,
   "metadata": {
    "collapsed": true
   },
   "outputs": [],
   "source": [
    "# define the pdf for the Rice distribution as a subclass of rv_continuous \n",
    "class Rice_dist(stats.rv_continuous):\n",
    "    \"Rice distribution class\"\n",
    "        \n",
    "    def _pdf(self, x, alpha, beta):\n",
    "        if x > 0:\n",
    "            return (1/alpha)*np.exp((x+beta)/(-alpha))*special.iv(0, 2*np.sqrt(x*beta)/alpha)\n",
    "        else:\n",
    "            return 0\n",
    "        "
   ]
  },
  {
   "cell_type": "code",
   "execution_count": 59,
   "metadata": {
    "collapsed": false
   },
   "outputs": [],
   "source": [
    "# create an instance of the Rice distribution and create a set of samples from that distribution \n",
    "rice_inst = Rice_dist(a=0.0, name='Rice name') # b=inf\n",
    "\n",
    "alpha, beta = (7., 47.)\n",
    "mean_x = alpha + beta \n",
    "variance_x = alpha**2 + 2*alpha*beta\n",
    "\n",
    "rice_trials_array = rice_inst.rvs(alpha=alpha, beta=beta, size=500)\n"
   ]
  },
  {
   "cell_type": "code",
   "execution_count": 61,
   "metadata": {
    "collapsed": false
   },
   "outputs": [
    {
     "data": {
      "text/plain": [
       "162.6114823390682"
      ]
     },
     "execution_count": 61,
     "metadata": {},
     "output_type": "execute_result"
    },
    {
     "data": {
      "image/png": "[encoded data removed]",
      "text/plain": [
       "<matplotlib.figure.Figure at 0x1099dac88>"
      ]
     },
     "metadata": {},
     "output_type": "display_data"
    }
   ],
   "source": [
    "# compare the histogram of samples to the Rice curve\n",
    "\n",
    "x = np.arange(rice_trials_array.min(), rice_trials_array.max(), 0.1)\n",
    "p = pyplot.plot(x, rice_inst._pdf(x, alpha, beta))\n",
    "h = pyplot.hist(rice_trials_array, normed=True)\n",
    "pyplot.xlabel('x')\n",
    "pyplot.ylabel('pdf')\n",
    "pyplot.title(\"pdf vs normed histogram of trials\")\n",
    "pyplot.xlim(rice_trials_array.min(), rice_trials_array.max())\n",
    "rice_trials_array.max()"
   ]
  },
  {
   "cell_type": "code",
   "execution_count": 18,
   "metadata": {
    "collapsed": false
   },
   "outputs": [],
   "source": [
    "# write the file, as the samples look good \n",
    "outfile = open(\"./buchovecky_matt_hw5_data.txt\", 'w')\n",
    "for trial in np.nditer(rice_trials_array):\n",
    "    outfile.write(str(trial)+'\\n')\n",
    "outfile.close()"
   ]
  },
  {
   "cell_type": "code",
   "execution_count": 11,
   "metadata": {
    "collapsed": false
   },
   "outputs": [
    {
     "name": "stdout",
     "output_type": "stream",
     "text": [
      "60.0\n",
      "59.99999999999999\n",
      "1100.0\n",
      "1100.00000004\n"
     ]
    }
   ],
   "source": [
    "# compare expectation value and variance to that for Rie distribution \n",
    "print(mean_x)\n",
    "print(rice_inst.expect(args=(alpha,beta)))\n",
    "print(variance_x)\n",
    "print(rice_inst.var(alpha=alpha, beta=beta))\n"
   ]
  },
  {
   "cell_type": "markdown",
   "metadata": {},
   "source": [
    "<h2> Problem 2 </h2>\n",
    "<h3> Comparing fit of second and third order polynomial models </h3>"
   ]
  },
  {
   "cell_type": "markdown",
   "metadata": {},
   "source": [
    "We wish to find if these data are better fit by a second or third order polynomial model. We use Monte Carlo integration to estimate the ratio\n",
    "\n",
    "\\begin{eqnarray}\n",
    "\\frac{P\\left(M_2\\mid\\{X_k,Y_k,\\sigma_k\\}\\right)}{P\\left(M_3\\mid\\{X_k,Y_k,\\sigma_k\\}\\right)} &=& \\frac{\\int p\\left(M_2,\\vec{a}\\mid\\{X_k,Y_k,\\sigma_k\\}\\right)d\\vec{a}}{\\int p\\left(M_3,\\vec{b}\\mid\\{X_k,Y_k,\\sigma_k\\}\\right) d\\vec{b}}\\\\\n",
    "&=& \\frac{\\int P\\left(\\{X_k,Y_k,\\sigma_k\\}\\mid M_2,\\vec{a}\\right)p\\left(M_2,\\vec{a}\\right) d\\vec{a}}{\\int P\\left(\\{X_k,Y_k,\\sigma_k\\}\\mid M_3,\\vec{b}\\right)p\\left(M_3,\\vec{b}\\right) d\\vec{b}} \\\\\n",
    "\\end{eqnarray}\n",
    "\n",
    "the first line marginalizes the probability, then the second line applies Baye's theorem, where the probability of the data $P\\left(\\{X_k,Y_k,\\sigma_k\\}\\right)$ is common to both and cancels. \\\\\n",
    "If we assume the priors are uniform, they are equal to the inverse of the volume in phase space \n",
    "\n",
    "\\begin{eqnarray}\n",
    "\\frac{p\\left(M_2,\\vec{a}\\right)}{p\\left(M_3,\\vec{b}\\right)} &=& \\frac{\\prod_{i=1}^3\\frac{1}{a_i^\\text{max}-a_i^\\text{min}}}{\\prod_{i=1}^4\\frac{1}{b_i^\\text{max}-b_i^\\text{min}}}\n",
    "\\end{eqnarray}\n",
    "\n",
    "The likelihood functions are those for independent and Gaussian distributed errors \n",
    "\n",
    "\\begin{eqnarray}\n",
    "P\\left(\\{X_k,Y_k,\\sigma_k\\}\\mid M_n,\\vec{c}\\right) &=& \\prod_{i=1}^N\\frac{1}{\\sqrt{2\\pi\\sigma^2_i}}\\exp\\left[-\\frac{(y_i-f_n(x_i,\\vec{c}))^2}{2\\sigma_i^2}\\right]\\\\\n",
    "&=& \\left(\\prod_{i=1}^N\\frac{1}{\\sqrt{2\\pi\\sigma^2_i}}\\right)\\exp\\left(-\\frac{\\chi_0^2}{2}\\right)\\exp\\left(-\\frac{\\chi^2-\\chi_0^2}{2}\\right)\n",
    "\\end{eqnarray}\n",
    "\n",
    "where $\\vec{c}$ is just a generalized set of parameters, $\\vec{a}$ and $\\vec{b}$, $n$ is the order of the polynomial model, and $N$ is the number of data points, and the $f$ functions are just the polynomial models: \n",
    "\\begin{eqnarray}\n",
    "f_2(x_i,\\vec{a}) &=& a_2x^2_i+a_1x_i+a_0 \\\\\n",
    "f_3(x_i,\\vec{b}) &=& b_3x^3_i+b_2x^2_i+b_1x_i+b_0\n",
    "\\end{eqnarray}\n"
   ]
  },
  {
   "cell_type": "code",
   "execution_count": 93,
   "metadata": {
    "collapsed": false
   },
   "outputs": [
    {
     "name": "stdout",
     "output_type": "stream",
     "text": [
      "[1.0, 2.0, 3.0, 4.0, 5.0, 6.0, 7.0, 8.0, 9.0, 10.0]\n",
      "[3.46, 3.59, 4.19, 4.82, 7.02, 6.3, 6.11, 5.76, 8.47, 10.89]\n",
      "[0.99, 1.0, 0.95, 0.74, 1.03, 1.07, 1.0, 0.99, 0.86, 0.61]\n"
     ]
    }
   ],
   "source": [
    "# read in the data for part 2 \n",
    "\n",
    "infile = open(\"./hw5-data.txt\", 'r')\n",
    "x_arr = [ ]\n",
    "y_arr = [ ] \n",
    "sigma_arr = [ ] \n",
    "\n",
    "for line in iter(infile):\n",
    "    line = line.split()\n",
    "    try:\n",
    "        float(line[0]) and float(line[1]) and float(line[2])\n",
    "        x_arr.append(float(line[0]))\n",
    "        y_arr.append(float(line[1]))\n",
    "        sigma_arr.append(float(line[2]))\n",
    "    except ValueError:\n",
    "        continue\n",
    "    \n",
    "infile.close()\n",
    "\n",
    "print(x_arr)\n",
    "print(y_arr)\n",
    "print(sigma_arr)"
   ]
  },
  {
   "cell_type": "code",
   "execution_count": 248,
   "metadata": {
    "collapsed": true
   },
   "outputs": [],
   "source": [
    "# define functions for the models, chi square, and marginal probability \n",
    "\n",
    "def poly_2nd_ord(x, a0, a1, a2):\n",
    "    return a0 + a1*x + a2*x**2\n",
    "\n",
    "def poly_3rd_ord(x, a0, a1, a2, a3):\n",
    "    return a0 + a1*x + a2*x**2 + a3*pow(x,3)\n",
    "\n",
    "# define a general \n",
    "def polynomial_gen(x, params):\n",
    "    '''general polynomial function'''\n",
    "    order = len(params) + 1\n",
    "    sum = 0\n",
    "    for i in range(0, order):\n",
    "        sum = sum + params[i]*np.power(x, i)\n",
    "    return sum\n",
    "    \n",
    "def chi_square(function, params, x_vals, data_vals, sig_vals):\n",
    "    #check ndarray type \n",
    "    residuals = (data_vals - function(x_vals, *params))\n",
    "    chis = (residuals**2)/np.power(sig_vals,2)\n",
    "    chi_sum = np.sum(chis)\n",
    "    d_o_f = len(x_vals) - len(params)\n",
    "    #return (chi_sum, d_o_f)\n",
    "    return chi_sum\n",
    "    \n",
    "def gauss_vec_cov(vals, vals_0, cov):\n",
    "    if type(vals) is not np.matrix:\n",
    "        vals = np.matrix(vals).T\n",
    "    if type(vals_0) is not np.matrix:\n",
    "        vals_0 = np.matrix(vals_0).T\n",
    "    if type(cov) is not np.matrix:\n",
    "        cov = np.matrix(cov)\n",
    "    vec = np.matrix(vals - vals_0)\n",
    "    return 1/((2*np.pi)*np.sqrt(np.linalg.det(cov)))*np.exp(-0.5*vec.T*cov.I*vec)\n"
   ]
  },
  {
   "cell_type": "markdown",
   "metadata": {},
   "source": [
    "The gaussian function we sample from is centered around the best fit parameters, and is given by: \n",
    "\n",
    "\\begin{eqnarray}\n",
    "g_2\\left(\\vec{a},\\vec{a}_0,\\Sigma_2\\right) &=& \\frac{1}{\\sqrt{(2\\pi)^2\\det\\Sigma_2}}\\exp\\left[-\\frac{1}{2}(\\vec{a}-\\vec{b}_0)^T\\Sigma_2^{-1}(\\vec{a}-\\vec{a}_0)\\right]\\\\\n",
    "g_3\\left(\\vec{b},\\vec{b}_0,\\Sigma_3\\right) &=& \\frac{1}{\\sqrt{(2\\pi)^3\\det\\Sigma_3}}\\exp\\left[-\\frac{1}{2}(\\vec{b}-\\vec{b}_0)^T\\Sigma_3^{-1}(\\vec{b}-\\vec{b}_0)\\right]\n",
    "\\end{eqnarray}\n",
    "\n",
    "where $\\Sigma$ represents the covariance matrix from the best fit \n"
   ]
  },
  {
   "cell_type": "code",
   "execution_count": 113,
   "metadata": {
    "collapsed": false
   },
   "outputs": [
    {
     "name": "stdout",
     "output_type": "stream",
     "text": [
      "[ 3.83018512 -0.10862277  0.07553306]\n",
      "[[ 1.7791795  -0.65229982  0.04950895]\n",
      " [-0.65229982  0.28293943 -0.02305879]\n",
      " [ 0.04950895 -0.02305879  0.0019584 ]]\n",
      "[ 1.01734443  2.301409   -0.43900777  0.03060818]\n",
      "[[  3.23529256e+00  -2.16035481e+00   3.98285107e-01  -2.16270291e-02]\n",
      " [ -2.16035481e+00   1.65745100e+00  -3.27671089e-01   1.85299564e-02]\n",
      " [  3.98285107e-01  -3.27671089e-01   6.78784239e-02  -3.95613762e-03]\n",
      " [ -2.16270291e-02   1.85299564e-02  -3.95613762e-03   2.35336322e-04]]\n"
     ]
    }
   ],
   "source": [
    "# find the optimal fits for the models \n",
    "\n",
    "guess_2 = (1, 1, 1)\n",
    "p_opt_2, p_cov_2 = optimize.curve_fit(poly_2nd_ord, x_arr, y_arr, guess_2, sigma_arr)\n",
    "\n",
    "guess_3 = (1, 1, 1, 1)\n",
    "p_opt_3, p_cov_3 = optimize.curve_fit(poly_3rd_ord, x_arr, y_arr, guess_3, sigma_arr)\n",
    "\n",
    "for lst in [p_opt_2, p_cov_2, p_opt_3, p_cov_3]:\n",
    "    print(lst)\n",
    "    "
   ]
  },
  {
   "cell_type": "markdown",
   "metadata": {},
   "source": [
    "The chi squared term tended to make the computation excessively large, too large for even 128-bit floats to handle. To \n",
    "make the numbers in the exponential smaller, we compare to the best fit parameters, rewriting: \n",
    "\n",
    "$$\\prod_{i=1}^N\\frac{1}{\\sqrt{2\\pi\\sigma^2_i}}\\exp\\left[-\\frac{(y_i-f_n(x_i,\\vec{c}))^2}{2\\sigma_i^2}\\right]\n",
    "= \\left(\\prod_{i=1}^N\\frac{1}{\\sqrt{2\\pi\\sigma^2_i}}\\right)\\exp\\left(-\\frac{\\chi_0^2}{2}\\right)\\exp\\left(-\\frac{\\chi^2-\\chi_0^2}{2}\\right)$$\n",
    "\n",
    "where the chi squared terms can be written as: \n",
    "\n",
    "\\begin{eqnarray}\n",
    "\\chi^2 &=& \\sum_{i=1}^N\\frac{(y_i-f_n(x_i,\\vec{c}))^2}{\\sigma_i^2}\\\\\n",
    "\\chi^2_0 &=& \\sum_{i=1}^N\\frac{(y_i-f_n(x_i,\\vec{c}_0))^2}{\\sigma_i^2}\n",
    "\\end{eqnarray}\n",
    "\n",
    "and $A_0$ is the set of best fit parameters. For the fitting functions, we have\n",
    "\n",
    "\n",
    "Plugging this all in, setting $a_i^\\text{max}=b_i^\\text{max}=4$, setting $a_i^\\text{min}=b_i^\\text{min}=-1$, and integrating $a_i,b_i$ from the max and min values, we get an estimate of the ratio written above.\n",
    "\n",
    "The integration is done using a Monte Carlo rejection method. From the result, we see that the quadratic fit is better.\n"
   ]
  },
  {
   "cell_type": "code",
   "execution_count": 241,
   "metadata": {
    "collapsed": false
   },
   "outputs": [],
   "source": [
    "# Monte Carlo integration, uniform sampling \n",
    "def MC_int_uni_sampl(func, p_opt, p_cov, N, s=3.0):\n",
    "    integral_sum = 0 \n",
    "    V = np.prod([2*s*np.sqrt(p_cov[i][i]) for i in range(0, len(p_opt))])\n",
    "    chisq_0 = chi_square(func, p_opt, x_arr, y_arr, sigma_arr)\n",
    "    for n in range(0, N):\n",
    "        param_rands = [ np.random.uniform(p_opt[i]-s*np.sqrt(p_cov[i][i]), p_opt[i]+s*np.sqrt(p_cov[i][i])) for i in range(0, len(p_opt)) ]\n",
    "        chisq = chi_square(func, param_rands, x_arr, y_arr, sigma_arr)\n",
    "        integral_sum += np.exp(-0.5*(chisq-chisq_0))\n",
    "    return V * integral_sum / N\n"
   ]
  },
  {
   "cell_type": "code",
   "execution_count": 242,
   "metadata": {
    "collapsed": true
   },
   "outputs": [],
   "source": [
    "# Monte Carlo integration sampling from a gaussian \n",
    "def MC_int_gaus_sampl(func, p_opt, p_cov, N, s=3.0):\n",
    "    n = 0 \n",
    "    int_sum = 0 \n",
    "    Mg = gauss_vec_cov(p_opt, p_opt, p_cov)\n",
    "    chisq_0 = chi_square(func, p_opt, x_arr, y_arr, sigma_arr)\n",
    "    while n < N:\n",
    "        u_rand = np.random.rand()\n",
    "        param_rands = [ np.random.uniform(p_opt[i]-s*np.sqrt(p_cov[i][i]), p_opt[i]+s*np.sqrt(p_cov[i][i])) for i in range(0, len(p_opt)) ]\n",
    "        f_rej = gauss_vec_cov(param_rands, p_opt, p_cov)\n",
    "        # f in rejection sampling -> g in mc integral\n",
    "        if u_rand < f_rej/Mg:\n",
    "            chisq = chi_square(func, param_rands, x_arr, y_arr, sigma_arr)\n",
    "            int_sum += np.exp(-0.5*(chisq-chisq_0))/f_rej\n",
    "            n += 1\n",
    "    return int_sum / N"
   ]
  },
  {
   "cell_type": "code",
   "execution_count": 247,
   "metadata": {
    "collapsed": false
   },
   "outputs": [
    {
     "name": "stdout",
     "output_type": "stream",
     "text": [
      "0.186439767834\n"
     ]
    }
   ],
   "source": [
    "# compute ratio from uniform sampling \n",
    "mc_int_2 = MC_int_uni_sampl(poly_2nd_ord, p_opt_2, p_cov_2, 10000, s=3.0)\n",
    "mc_int_3 = MC_int_uni_sampl(poly_3rd_ord, p_opt_3, p_cov_3, 10000, s=3.0)\n",
    "chisq_2 = chi_square(poly_2nd_ord, p_opt_2, x_arr, y_arr, sigma_arr)\n",
    "chisq_3 = chi_square(poly_3rd_ord, p_opt_3, x_arr, y_arr, sigma_arr)\n",
    "\n",
    "ratio_uni = mc_int_3 / mc_int_2 * np.exp(-0.5*(chisq_3-chisq_2))\n",
    "print(ratio_uni)"
   ]
  },
  {
   "cell_type": "code",
   "execution_count": null,
   "metadata": {
    "collapsed": true
   },
   "outputs": [],
   "source": [
    "#  compute ratio from gaussian \n",
    "mc_int_2 = MC_int_gaus_sampl(poly_2nd_ord, p_opt_2, p_cov_2, 10000, s=1.0)\n",
    "mc_int_3 = MC_int_gaus_sampl(poly_3rd_ord, p_opt_3, p_cov_3, 10000, s=1.0)\n",
    "chisq_2 = chi_square(poly_2nd_ord, param_rands, x_arr, y_arr, sigma_arr)\n",
    "chisq_3 = chi_square(poly_3rd_ord, param_rands, x_arr, y_arr, sigma_arr)\n",
    "\n",
    "ratio_uni = mc_int_3 / mc_int_2 * np.exp(-0.5*(chisq_3-chisq_2))\n",
    "print(ratio_uni)"
   ]
  },
  {
   "cell_type": "markdown",
   "metadata": {},
   "source": [
    "It looks like \n",
    "\n",
    "$$\n",
    "\\frac{P\\left(x^2\\mid\\{D\\}\\right)}{P\\left(x^3\\mid\\{D\\}\\right)} \\sim 10^5\n",
    "$$"
   ]
  },
  {
   "cell_type": "code",
   "execution_count": 220,
   "metadata": {
    "collapsed": false
   },
   "outputs": [
    {
     "name": "stdout",
     "output_type": "stream",
     "text": [
      "0.00985264807174\n"
     ]
    }
   ],
   "source": [
    "print(MC_int_uni_sampl(poly_2nd_ord, p_opt_2, p_cov_2, 10000, s=1.0))"
   ]
  },
  {
   "cell_type": "code",
   "execution_count": 237,
   "metadata": {
    "collapsed": false
   },
   "outputs": [
    {
     "name": "stdout",
     "output_type": "stream",
     "text": [
      "[[ 0.00706148]]\n"
     ]
    }
   ],
   "source": [
    "print(MC_int_gaus_sampl(poly_2nd_ord, p_opt_2, p_cov_2, 10000, s=1.0))"
   ]
  },
  {
   "cell_type": "code",
   "execution_count": 238,
   "metadata": {
    "collapsed": false
   },
   "outputs": [
    {
     "name": "stdout",
     "output_type": "stream",
     "text": [
      "0.000274095870303\n"
     ]
    }
   ],
   "source": [
    "print(MC_int_uni_sampl(poly_3rd_ord, p_opt_3, p_cov_3, 10000, s=1.0))"
   ]
  },
  {
   "cell_type": "code",
   "execution_count": 240,
   "metadata": {
    "collapsed": false
   },
   "outputs": [
    {
     "name": "stdout",
     "output_type": "stream",
     "text": [
      "[[  9.26384378e-05]]\n"
     ]
    }
   ],
   "source": [
    "print(MC_int_gaus_sampl(poly_3rd_ord, p_opt_3, p_cov_3, 1000, s=1.0))"
   ]
  },
  {
   "cell_type": "code",
   "execution_count": 190,
   "metadata": {
    "collapsed": false
   },
   "outputs": [
    {
     "name": "stdout",
     "output_type": "stream",
     "text": [
      "[[ 102.8429523]]\n"
     ]
    }
   ],
   "source": [
    "#print det of cov\n",
    "print()"
   ]
  },
  {
   "cell_type": "code",
   "execution_count": 107,
   "metadata": {
    "collapsed": false
   },
   "outputs": [
    {
     "name": "stdout",
     "output_type": "stream",
     "text": [
      "3\n",
      "2\n",
      "3\n",
      "4\n"
     ]
    }
   ],
   "source": [
    "a1 = 2\n",
    "a2 = 3 \n",
    "a3 = 4\n",
    "\n",
    "for num in [a1, a2, a3]:\n",
    "    if num != 3:\n",
    "        num = 3\n",
    "        \n",
    "print(num)\n",
    "print(a1)\n",
    "print(a2)\n",
    "print(a3)"
   ]
  },
  {
   "cell_type": "markdown",
   "metadata": {},
   "source": [
    "Compare fits"
   ]
  },
  {
   "cell_type": "code",
   "execution_count": 100,
   "metadata": {
    "collapsed": false
   },
   "outputs": [
    {
     "data": {
      "text/plain": [
       "<matplotlib.legend.Legend at 0x10998f8d0>"
      ]
     },
     "execution_count": 100,
     "metadata": {},
     "output_type": "execute_result"
    },
    {
     "name": "stderr",
     "output_type": "stream",
     "text": [
      "/Users/mbuchove/Programs/Anaconda3/anaconda/lib/python3.5/site-packages/matplotlib/collections.py:590: FutureWarning: elementwise comparison failed; returning scalar instead, but in the future will perform elementwise comparison\n",
      "  if self._edgecolors == str('face'):\n"
     ]
    },
    {
     "data": {
      "image/png": "[encoded data removed]",
      "text/plain": [
       "<matplotlib.figure.Figure at 0x108a22e48>"
      ]
     },
     "metadata": {},
     "output_type": "display_data"
    }
   ],
   "source": [
    "x_arr = np.asarray(x_arr)\n",
    "x_range = np.arange(x_arr.min()-1., x_arr.max()+1., 0.1)\n",
    "pyplot.errorbar(x_arr, y_arr, yerr=sigma_arr, fmt='bo', label='data')\n",
    "pyplot.plot(x_range, poly_2nd_ord(x_range, *p_opt_2), 'r-', label='quad fit')\n",
    "pyplot.plot(x_range, poly_3rd_ord(x_range, *p_opt_3), 'g-', label='cubic fit')\n",
    "pyplot.ylabel('y')\n",
    "pyplot.xlabel('x')\n",
    "pyplot.title(\"fits comparison\")\n",
    "pyplot.legend(loc='center left', bbox_to_anchor=(1., 0.5))\n"
   ]
  },
  {
   "cell_type": "code",
   "execution_count": null,
   "metadata": {
    "collapsed": true
   },
   "outputs": [],
   "source": [
    "def rand_rejection(f, g_rand, a, b):\n",
    "    u_rand = np.random.uniform(0, 1)\n",
    "    M = 5.\n",
    "    "
   ]
  },
  {
   "cell_type": "code",
   "execution_count": 173,
   "metadata": {
    "collapsed": false
   },
   "outputs": [
    {
     "data": {
      "text/plain": [
       "<matplotlib.legend.Legend at 0x10e2f6320>"
      ]
     },
     "execution_count": 173,
     "metadata": {},
     "output_type": "execute_result"
    },
    {
     "data": {
      "image/png": "[encoded data removed]",
      "text/plain": [
       "<matplotlib.figure.Figure at 0x104985b00>"
      ]
     },
     "metadata": {},
     "output_type": "display_data"
    }
   ],
   "source": [
    "f = pyplot.plot(x, rice_inst._pdf(x, alpha, beta), label='f')\n",
    "g = pyplot.plot(x, stats.norm.pdf(x, center, sigma), label='g')\n",
    "pyplot.xlabel('x')\n",
    "pyplot.ylabel('pdf')\n",
    "pyplot.title(\"pdf vs normed histogram of trials\")\n",
    "pyplot.xlim(rice_trials_array.min(), rice_trials_array.max())\n",
    "pyplot.legend(loc='center left', bbox_to_anchor=(1., 0.5))\n"
   ]
  },
  {
   "cell_type": "code",
   "execution_count": null,
   "metadata": {
    "collapsed": false
   },
   "outputs": [],
   "source": [
    "num_points = 1000\n",
    "n = 0\n",
    "guess = 45.\n",
    "sigma = 30.\n",
    "center = optimize.fmin(lambda x: -rice_inst._pdf(x,alpha,beta), guess)\n",
    "M = optimize.fmin(lambda x: -rice_inst._pdf(x, alpha, beta)/stats.norm.pdf(x, center, sigma), center)\n",
    "print(M)\n",
    "while n < num_points:\n",
    "    u_rand = np.random.uniform(0, 1)\n",
    "    x_rand = np.random.normal(center, sigma)\n",
    "    g_x = stats.norm.pdf(x_rand, center, sigma)\n",
    "    n = n + 1\n",
    "    "
   ]
  },
  {
   "cell_type": "code",
   "execution_count": 177,
   "metadata": {
    "collapsed": true
   },
   "outputs": [],
   "source": [
    "optimize.fmin?"
   ]
  }
 ],
 "metadata": {
  "kernelspec": {
   "display_name": "Python 3",
   "language": "python",
   "name": "python3"
  },
  "language_info": {
   "codemirror_mode": {
    "name": "ipython",
    "version": 3
   },
   "file_extension": ".py",
   "mimetype": "text/x-python",
   "name": "python",
   "nbconvert_exporter": "python",
   "pygments_lexer": "ipython3",
   "version": "3.5.1"
  }
 },
 "nbformat": 4,
 "nbformat_minor": 0
}
