{
 "cells": [
  {
   "cell_type": "markdown",
   "metadata": {},
   "source": [
    "<h2>HW #5</h2>\n",
    "Matt Buchovecky\n",
    "Astro 283"
   ]
  },
  {
   "cell_type": "code",
   "execution_count": 1,
   "metadata": {
    "collapsed": false
   },
   "outputs": [],
   "source": [
    "import numpy as np\n",
    "from matplotlib import pyplot\n",
    "%matplotlib inline \n",
    "from scipy import stats, special\n"
   ]
  },
  {
   "cell_type": "code",
   "execution_count": 2,
   "metadata": {
    "collapsed": true
   },
   "outputs": [],
   "source": [
    "stats.distributions.rv_continuous?"
   ]
  },
  {
   "cell_type": "markdown",
   "metadata": {},
   "source": [
    "$$p\\left(x\\mid \\alpha,\\beta\\right) = \\alpha^{-1}\\exp{\\left(-\\frac{x+\\beta}{\\alpha}\\right)I_0\\left(\\frac{2\\sqrt{x\\beta}}{\\alpha}\\right)}$$"
   ]
  },
  {
   "cell_type": "code",
   "execution_count": 15,
   "metadata": {
    "collapsed": true
   },
   "outputs": [],
   "source": [
    "class Rice_dist(stats.rv_continuous):\n",
    "    \"Rice distribution class\"\n",
    "        \n",
    "    def _pdf(self, x, alpha, beta):\n",
    "        return (1/alpha)*np.exp((x+beta)/(-alpha))*special.iv(0, 2*np.sqrt(x*beta)/alpha)\n"
   ]
  },
  {
   "cell_type": "code",
   "execution_count": 19,
   "metadata": {
    "collapsed": false
   },
   "outputs": [],
   "source": [
    "rice_inst = Rice_dist(a=0.0, name='Rice name') # b=inf\n",
    "\n",
    "alpha, beta = (10., 50.)\n",
    "mean_x = alpha + beta \n",
    "variance_x = alpha**2 + 2*alpha*beta\n"
   ]
  },
  {
   "cell_type": "code",
   "execution_count": 20,
   "metadata": {
    "collapsed": false
   },
   "outputs": [],
   "source": [
    "rice_trials_array = rice_inst.rvs(alpha=5., beta=3., size=50)\n"
   ]
  },
  {
   "cell_type": "code",
   "execution_count": 21,
   "metadata": {
    "collapsed": false
   },
   "outputs": [
    {
     "name": "stdout",
     "output_type": "stream",
     "text": [
      "[  2.99950543   7.36865139   1.76181328   0.62835449   3.54162715\n",
      "   2.15785226   1.98198886   0.06156182   1.2025298    3.61212873\n",
      "   5.2266897    2.67280169   4.25543107   2.59961672   7.40365606\n",
      "  11.56413083   2.52899218   8.45458651   2.90494796   9.44896755\n",
      "  11.53901518   0.42262566   5.74178312   5.03687254   7.38897493\n",
      "  10.4091645    9.94661202   4.15561319   0.79329958  61.29512954\n",
      "   4.55322269   1.02489908  14.00160995   0.48147548  30.1863318\n",
      "   2.59346048  39.54144104   0.3645961    7.42377736   2.80804675\n",
      "  14.29151985   1.13626526   0.53742579   6.99970625  11.91585482\n",
      "   9.92476603   7.15621006   1.30956957  18.25064334   6.56786182]\n"
     ]
    }
   ],
   "source": [
    "pyplot.\n",
    "print(rice_trials_array)"
   ]
  }
 ],
 "metadata": {
  "kernelspec": {
   "display_name": "Python 3",
   "language": "python",
   "name": "python3"
  }
 },
 "nbformat": 4,
 "nbformat_minor": 0
}
