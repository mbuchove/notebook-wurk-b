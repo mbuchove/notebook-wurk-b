{
 "cells": [
  {
   "cell_type": "markdown",
   "metadata": {},
   "source": [
    "<h2>HW #5</h2>\n",
    "Matt Buchovecky\n",
    "Astro 283"
   ]
  },
  {
   "cell_type": "code",
   "execution_count": 1,
   "metadata": {
    "collapsed": false
   },
   "outputs": [],
   "source": [
    "import numpy as np\n",
    "from matplotlib import pyplot\n",
    "%matplotlib inline \n",
    "from scipy import stats, special\n"
   ]
  },
  {
   "cell_type": "markdown",
   "metadata": {},
   "source": [
    "<h2> Problem 1 </h2>"
   ]
  },
  {
   "cell_type": "markdown",
   "metadata": {},
   "source": [
    "$$p\\left(x\\mid \\alpha,\\beta\\right) = \\left\\{\n",
    "\\begin{array}{ll} \n",
    " \\alpha^{-1}\\exp{\\left(-\\frac{x+\\beta}{\\alpha}\\right)I_0\\left(\\frac{2\\sqrt{x\\beta}}{\\alpha}\\right)} & \\quad \\quad x\\geq 0 \\\\\n",
    "0 & \\quad \\quad x<0 \\\\\n",
    "\\end{array}\n",
    "\\right.\n",
    "$$"
   ]
  },
  {
   "cell_type": "code",
   "execution_count": 2,
   "metadata": {
    "collapsed": true
   },
   "outputs": [],
   "source": [
    "class Rice_dist(stats.rv_continuous):\n",
    "    \"Rice distribution class\"\n",
    "        \n",
    "    def _pdf(self, x, alpha, beta):\n",
    "        return (1/alpha)*np.exp((x+beta)/(-alpha))*special.iv(0, 2*np.sqrt(x*beta)/alpha)\n"
   ]
  },
  {
   "cell_type": "code",
   "execution_count": 3,
   "metadata": {
    "collapsed": false
   },
   "outputs": [],
   "source": [
    "rice_inst = Rice_dist(a=0.0, name='Rice name') # b=inf\n",
    "\n",
    "alpha, beta = (10., 50.)\n",
    "mean_x = alpha + beta \n",
    "variance_x = alpha**2 + 2*alpha*beta\n",
    "\n"
   ]
  },
  {
   "cell_type": "code",
   "execution_count": 4,
   "metadata": {
    "collapsed": false
   },
   "outputs": [],
   "source": [
    "rice_trials_array = rice_inst.rvs(alpha=alpha, beta=beta, size=50)\n"
   ]
  },
  {
   "cell_type": "code",
   "execution_count": 9,
   "metadata": {
    "collapsed": false
   },
   "outputs": [
    {
     "data": {
      "text/plain": [
       "<matplotlib.text.Text at 0x1079cf978>"
      ]
     },
     "execution_count": 9,
     "metadata": {},
     "output_type": "execute_result"
    },
    {
     "data": {
      "image/png": "[encoded data removed]",
      "text/plain": [
       "<matplotlib.figure.Figure at 0x10798dac8>"
      ]
     },
     "metadata": {},
     "output_type": "display_data"
    }
   ],
   "source": [
    "x = np.arange(0., 250., 0.1)\n",
    "p = pyplot.plot(x, rice_inst._pdf(x, alpha, beta))\n",
    "h = pyplot.hist(rice_inst.rvs(alpha=alpha, beta=beta, size=500), normed=True)\n",
    "pyplot.xlabel('x')\n",
    "pyplot.ylabel('pdf')\n",
    "pyplot.title(\"pdf vs normed histogram of trials\")"
   ]
  },
  {
   "cell_type": "code",
   "execution_count": 18,
   "metadata": {
    "collapsed": false
   },
   "outputs": [],
   "source": [
    "outfile = open(\"./buchovecky_matt_hw5_data.txt\", 'w')\n",
    "for trial in np.nditer(rice_trials_array):\n",
    "    outfile.write(str(trial)+'\\n')\n",
    "outfile.close()"
   ]
  },
  {
   "cell_type": "code",
   "execution_count": 11,
   "metadata": {
    "collapsed": false
   },
   "outputs": [
    {
     "name": "stdout",
     "output_type": "stream",
     "text": [
      "60.0\n",
      "59.99999999999999\n",
      "1100.0\n",
      "1100.00000004\n"
     ]
    }
   ],
   "source": [
    "print(mean_x)\n",
    "print(rice_inst.expect(args=(alpha,beta)))\n",
    "print(variance_x)\n",
    "print(rice_inst.var(alpha=alpha, beta=beta))\n"
   ]
  },
  {
   "cell_type": "markdown",
   "metadata": {},
   "source": [
    "<h2> Problem 2 </h2>"
   ]
  },
  {
   "cell_type": "code",
   "execution_count": 21,
   "metadata": {
    "collapsed": false
   },
   "outputs": [
    {
     "name": "stdout",
     "output_type": "stream",
     "text": [
      "[1.0, 2.0, 3.0, 4.0, 5.0, 6.0, 7.0, 8.0, 9.0, 10.0]\n",
      "[3.46, 3.59, 4.19, 4.82, 7.02, 6.3, 6.11, 5.76, 8.47, 10.89]\n",
      "[0.99, 1.0, 0.95, 0.74, 1.03, 1.07, 1.0, 0.99, 0.86, 0.61]\n"
     ]
    }
   ],
   "source": [
    "infile = open(\"./hw5-data.txt\", 'r')\n",
    "x_arr = [ ]\n",
    "y_arr = [ ] \n",
    "sigma_arr = [ ] \n",
    "\n",
    "for line in iter(infile):\n",
    "    line = line.split()\n",
    "    try:\n",
    "        float(line[0]) and float(line[1]) and float(line[2])\n",
    "        x_arr.append(float(line[0]))\n",
    "        y_arr.append(float(line[1]))\n",
    "        sigma_arr.append(float(line[2]))\n",
    "    except ValueError:\n",
    "        continue\n",
    "    \n",
    "infile.close()\n",
    "\n",
    "print(x_arr)\n",
    "print(y_arr)\n",
    "print(sigma_arr)"
   ]
  },
  {
   "cell_type": "code",
   "execution_count": 22,
   "metadata": {
    "collapsed": true
   },
   "outputs": [],
   "source": [
    "def poly_2nd_ord(x, a0, a1, a2):\n",
    "    return a0 + a1*x + a2*x**2\n",
    "\n",
    "def poly_3rd_ord(x, a0, a1, a2, a3):\n",
    "    return a0 + a1*x + a2*x**2 + a3*pow(x,3)\n"
   ]
  },
  {
   "cell_type": "code",
   "execution_count": null,
   "metadata": {
    "collapsed": true
   },
   "outputs": [],
   "source": []
  }
 ],
 "metadata": {
  "kernelspec": {
   "display_name": "Python 3",
   "language": "python",
   "name": "python3"
  },
  "language_info": {
   "codemirror_mode": {
    "name": "ipython",
    "version": 3
   },
   "file_extension": ".py",
   "mimetype": "text/x-python",
   "name": "python",
   "nbconvert_exporter": "python",
   "pygments_lexer": "ipython3",
   "version": "3.5.1"
  }
 },
 "nbformat": 4,
 "nbformat_minor": 0
}
