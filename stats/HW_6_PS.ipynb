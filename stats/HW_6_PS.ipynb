{
 "cells": [
  {
   "cell_type": "markdown",
   "metadata": {},
   "source": [
    "<h1>Astro 283 Homework 6</h1>\n",
    "Bijan Pourhamzeh\n"
   ]
  },
  {
   "cell_type": "code",
   "execution_count": 2,
   "metadata": {
    "collapsed": true
   },
   "outputs": [],
   "source": [
    "%matplotlib inline\n",
    "\n",
    "import numpy as np\n",
    "import matplotlib.pyplot as plt\n",
    "from scipy.special import iv\n",
    "from scipy.optimize import fmin\n",
    "from csv import reader\n",
    "from astropy.io import fits\n",
    "\n",
    "from __future__ import print_function"
   ]
  },
  {
   "cell_type": "markdown",
   "metadata": {},
   "source": [
    "<h3> Problem 1 </h3>"
   ]
  },
  {
   "cell_type": "code",
   "execution_count": 37,
   "metadata": {
    "collapsed": false
   },
   "outputs": [
    {
     "name": "stdout",
     "output_type": "stream",
     "text": [
      "[  7.893145   12.87092    17.9159      0.4349276   0.3306195   2.932549\n",
      "  23.8691      3.448594    7.779337    0.3736466   3.784709    2.782\n",
      "  17.8508      2.528774    2.853153   23.90128    13.02464     0.6660353\n",
      "   1.794565   18.14342     1.376215    2.798997    6.412296   29.86244\n",
      "   7.839873    6.570388    0.2057757   3.163097   11.91203    12.5479\n",
      "   1.469301   12.02533     0.7435214   1.707394    1.048436    7.447414\n",
      "   1.359778    6.859517    6.13546     2.64491    29.92344    12.15828\n",
      "   7.446064    0.8170959   2.124207    2.968172    6.390549    0.6565358\n",
      "   7.063244    2.490683 ]\n"
     ]
    }
   ],
   "source": [
    "#Read in student samples\n",
    "\n",
    "samples = reader(open('rice.dat', 'rt'))\n",
    "x_dat = []\n",
    "for sam in samples:\n",
    "    x_dat.append(float(sam[0]))\n",
    "    \n",
    "x_dat = np.array(x_dat)\n",
    "print(x_dat)"
   ]
  },
  {
   "cell_type": "code",
   "execution_count": 35,
   "metadata": {
    "collapsed": false
   },
   "outputs": [],
   "source": [
    "def rice_likelihood(params, x):\n",
    "    return 1/params[0]*np.exp(-(x+params[1])/params[0])*iv(0,2*np.sqrt(x*params[1])/params[0])\n",
    "\n",
    "neg_RL = lambda params, x: -1*np.prod(rice_likelihood(params,x))"
   ]
  },
  {
   "cell_type": "code",
   "execution_count": 41,
   "metadata": {
    "collapsed": false
   },
   "outputs": [
    {
     "name": "stdout",
     "output_type": "stream",
     "text": [
      "Optimization terminated successfully.\n",
      "         Current function value: -0.000000\n",
      "         Iterations: 29\n",
      "         Function evaluations: 55\n",
      "[  7.22612374e+00   7.86827536e-04]\n"
     ]
    }
   ],
   "source": [
    "initial = np.array([5,0])\n",
    "opt_r = fmin(neg_RL, initial, args=(x_dat,))\n",
    "\n",
    "print(opt_r)"
   ]
  },
  {
   "cell_type": "code",
   "execution_count": 42,
   "metadata": {
    "collapsed": false
   },
   "outputs": [
    {
     "data": {
      "text/plain": [
       "[<matplotlib.lines.Line2D at 0x7f09100b2278>]"
      ]
     },
     "execution_count": 42,
     "metadata": {},
     "output_type": "execute_result"
    },
    {
     "data": {
      "image/png": "[encoded data removed]",
      "text/plain": [
       "<matplotlib.figure.Figure at 0x7f0910156278>"
      ]
     },
     "metadata": {},
     "output_type": "display_data"
    }
   ],
   "source": [
    "plt.hist(x_dat, normed=True)\n",
    "\n",
    "x_vals = np.arange(0,30,.01)\n",
    "plt.plot(x_vals, rice_likelihood(opt_r,x_vals), 'r-')"
   ]
  },
  {
   "cell_type": "code",
   "execution_count": 40,
   "metadata": {
    "collapsed": false
   },
   "outputs": [
    {
     "data": {
      "text/plain": [
       "<matplotlib.colorbar.Colorbar at 0x7f090fe80438>"
      ]
     },
     "execution_count": 40,
     "metadata": {},
     "output_type": "execute_result"
    },
    {
     "data": {
      "image/png": "[encoded data removed]",
      "text/plain": [
       "<matplotlib.figure.Figure at 0x7f090ff61780>"
      ]
     },
     "metadata": {},
     "output_type": "display_data"
    }
   ],
   "source": [
    "alp = np.linspace(2,11,100)\n",
    "bet = np.linspace(0,5,100)\n",
    "prob = np.array([[neg_RL((a,b),x_dat) for a in alp] for b in bet])\n",
    "plt.contourf(alp, bet, prob)\n",
    "plt.colorbar()"
   ]
  },
  {
   "cell_type": "code",
   "execution_count": null,
   "metadata": {
    "collapsed": true
   },
   "outputs": [],
   "source": []
  },
  {
   "cell_type": "code",
   "execution_count": null,
   "metadata": {
    "collapsed": true
   },
   "outputs": [],
   "source": []
  },
  {
   "cell_type": "code",
   "execution_count": null,
   "metadata": {
    "collapsed": true
   },
   "outputs": [],
   "source": []
  },
  {
   "cell_type": "markdown",
   "metadata": {},
   "source": [
    "<h3>Problem 2</h3>"
   ]
  },
  {
   "cell_type": "code",
   "execution_count": 6,
   "metadata": {
    "collapsed": false
   },
   "outputs": [
    {
     "name": "stdout",
     "output_type": "stream",
     "text": [
      "(128L, 128L, 128L)\n"
     ]
    },
    {
     "data": {
      "text/plain": [
       "<matplotlib.colorbar.Colorbar at 0x1a77d1d0>"
      ]
     },
     "execution_count": 6,
     "metadata": {},
     "output_type": "execute_result"
    },
    {
     "data": {
      "image/png": "[encoded data removed]",
      "text/plain": [
       "<matplotlib.figure.Figure at 0x3e6b208>"
      ]
     },
     "metadata": {},
     "output_type": "display_data"
    }
   ],
   "source": [
    "model_file = fits.open('../../hw6prob2_model.fits')\n",
    "model_data = model_file[0].data\n",
    "print(model_data.shape)\n",
    "\n",
    "psf_file = fits.open('../../hw6prob2_psf.fits')\n",
    "psf_data = psf_file[0].data\n",
    "plt.contourf(psf_data)\n",
    "plt.colorbar()"
   ]
  },
  {
   "cell_type": "code",
   "execution_count": 7,
   "metadata": {
    "collapsed": false
   },
   "outputs": [
    {
     "name": "stdout",
     "output_type": "stream",
     "text": [
      "(128L, 128L)\n"
     ]
    },
    {
     "data": {
      "text/plain": [
       "<matplotlib.colorbar.Colorbar at 0x1abffef0>"
      ]
     },
     "execution_count": 7,
     "metadata": {},
     "output_type": "execute_result"
    },
    {
     "data": {
      "image/png": "[encoded data removed]",
      "text/plain": [
       "<matplotlib.figure.Figure at 0x1a3fdbe0>"
      ]
     },
     "metadata": {},
     "output_type": "display_data"
    }
   ],
   "source": [
    "model_int = np.sum(model_data, axis=0)\n",
    "print(model_int.shape)\n",
    "plt.contourf(model_int)\n",
    "plt.colorbar()"
   ]
  },
  {
   "cell_type": "code",
   "execution_count": 18,
   "metadata": {
    "collapsed": false
   },
   "outputs": [],
   "source": [
    "#from timeit import timeit\n",
    "\n",
    "def my_fft_1d(a, inverse=False):\n",
    "    '''Computes a fast fourier transform of a 1d array, a. \n",
    "    Returns a complex array of the same size. Uses the Cooley-Tukey algorithm'''\n",
    "    \n",
    "    n = len(a)\n",
    "    out = [0]*n\n",
    "    \n",
    "    if inverse:\n",
    "        s = -1\n",
    "    else:\n",
    "        s = 1\n",
    "        \n",
    "    if n == 1:\n",
    "        out[0] = a[0]\n",
    "    else:\n",
    "        out[0:int(n/2)] = my_fft_1d(a[0::2])\n",
    "        out[int(n/2):] = my_fft_1d(a[1::2])\n",
    "        for k in range(0,int(n/2)):\n",
    "            t = out[k]\n",
    "            out[k] = t + np.exp(-s*2*np.pi*1j*k/n)*out[k+int(n/2)]\n",
    "            out[k+int(n/2)] = t - np.exp(-s*2*np.pi*1j*k/n)*out[k+int(n/2)]\n",
    "    return out"
   ]
  },
  {
   "cell_type": "code",
   "execution_count": 53,
   "metadata": {
    "collapsed": false
   },
   "outputs": [],
   "source": [
    "def my_fft_2d(a, inverse=False):\n",
    "    '''Computes a fast fourier transform of a 2d array, a. \n",
    "    Returns a complex array of the same size. Uses the Cooley-Tukey algorithm'''\n",
    "    \n",
    "    a = np.array(a)\n",
    "    \n",
    "    n1, n2 = a.shape\n",
    "    if n1 != n2:\n",
    "        print('Input must be a square array! Shape is', (n1,n2))\n",
    "        return None\n",
    "    N = n1\n",
    "    N2 = int(N/2)\n",
    "    out = np.zeros((N,N), dtype=complex)\n",
    "    \n",
    "    if inverse:\n",
    "        s = -1\n",
    "    else:\n",
    "        s = 1\n",
    "        \n",
    "    if N == 1:\n",
    "        out[0,0] = a[0,0]\n",
    "    else:\n",
    "        out[0:N2,0:N2] = my_fft_2d(a[0::2,0::2])\n",
    "        out[N2:,0:N2] = my_fft_2d(a[1::2,0::2])\n",
    "        out[0:N2,N2:] = my_fft_2d(a[0::2,1::2])\n",
    "        out[N2:,N2:] = my_fft_2d(a[1::2,1::2])\n",
    "        for k1 in range(0,N2):\n",
    "            for k2 in range(0,N2):\n",
    "                t = out[k1,k2]\n",
    "                tw1 = np.exp(-s*2*np.pi*1j*k1/N)\n",
    "                tw2 = np.exp(-s*2*np.pi*1j*k2/N)\n",
    "                out[k1,k2] = t + tw1*out[k1+N2,k2] + tw2*out[k1,k2+N2] + tw1*tw2*out[k1+N2,k2+N2]\n",
    "                out[k1+N2,k2] = t - tw1*out[k1+N2,k2] + tw2*out[k1,k2+N2] - tw1*tw2*out[k1+N2,k2+N2]\n",
    "                out[k1,k2+N2] = t + tw1*out[k1+N2,k2] - tw2*out[k1,k2+N2] - tw1*tw2*out[k1+N2,k2+N2]\n",
    "                out[k1+N2,k2+N2] = t - tw1*out[k1+N2,k2] - tw2*out[k1,k2+N2] + tw1*tw2*out[k1+N2,k2+N2]\n",
    "    return out"
   ]
  },
  {
   "cell_type": "code",
   "execution_count": 54,
   "metadata": {
    "collapsed": false
   },
   "outputs": [],
   "source": [
    "model_int_f = my_fft_2d(model_int)\n",
    "psf_data_f = my_fft_2d(psf_data)"
   ]
  },
  {
   "cell_type": "code",
   "execution_count": 57,
   "metadata": {
    "collapsed": false
   },
   "outputs": [
    {
     "data": {
      "text/plain": [
       "array([[-0.13674950 +5.51188598e-02j, -0.14258245 -2.57377153e-01j,\n",
       "        -1.63765101 -4.37186583e-01j,  1.29830525 +1.68876583e-01j],\n",
       "       [-0.00479613 -5.60695270e-02j,  0.45414875 +1.14215542e-01j,\n",
       "         1.80079465 +2.36865210e-01j, -1.39619939 +2.87287805e-01j],\n",
       "       [ 0.24326638 +6.12379084e-02j, -0.45152287 -6.63278777e-02j,\n",
       "         1.87502747 +0.00000000e+00j, -1.31056799 -2.48125650e-02j],\n",
       "       [-0.06072156 +1.75018487e-01j,  0.04974912 -1.32128870e-01j,\n",
       "        -1.81241147 -1.80240312e-06j, -0.27520405 -7.33979798e-01j]])"
      ]
     },
     "execution_count": 57,
     "metadata": {},
     "output_type": "execute_result"
    }
   ],
   "source": []
  },
  {
   "cell_type": "code",
   "execution_count": 52,
   "metadata": {
    "collapsed": false
   },
   "outputs": [],
   "source": [
    "a=np.zeros((2,2),dtype=complex)"
   ]
  },
  {
   "cell_type": "code",
   "execution_count": null,
   "metadata": {
    "collapsed": true
   },
   "outputs": [],
   "source": []
  }
 ],
 "metadata": {
  "kernelspec": {
   "display_name": "Python 2",
   "language": "python",
   "name": "python2"
  },
  "language_info": {
   "codemirror_mode": {
    "name": "ipython",
    "version": 2
   },
   "file_extension": ".py",
   "mimetype": "text/x-python",
   "name": "python",
   "nbconvert_exporter": "python",
   "pygments_lexer": "ipython2",
   "version": "2.7.11"
  }
 },
 "nbformat": 4,
 "nbformat_minor": 0
}
