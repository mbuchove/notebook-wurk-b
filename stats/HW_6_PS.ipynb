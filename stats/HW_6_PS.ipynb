{
 "cells": [
  {
   "cell_type": "markdown",
   "metadata": {},
   "source": [
    "<h1>Astro 283 Homework 6</h1>\n",
    "Bijan Pourhamzeh\n"
   ]
  },
  {
   "cell_type": "code",
   "execution_count": 14,
   "metadata": {
    "collapsed": true
   },
   "outputs": [],
   "source": [
    "%matplotlib inline\n",
    "\n",
    "import numpy as np\n",
    "import matplotlib.pyplot as plt\n",
    "from scipy.special import iv\n",
    "from scipy.optimize import fmin\n",
    "from csv import reader\n",
    "from __future__ import print_function"
   ]
  },
  {
   "cell_type": "markdown",
   "metadata": {},
   "source": [
    "<h3> Problem 1 </h3>"
   ]
  },
  {
   "cell_type": "code",
   "execution_count": 37,
   "metadata": {
    "collapsed": false
   },
   "outputs": [
    {
     "name": "stdout",
     "output_type": "stream",
     "text": [
      "[  7.893145   12.87092    17.9159      0.4349276   0.3306195   2.932549\n",
      "  23.8691      3.448594    7.779337    0.3736466   3.784709    2.782\n",
      "  17.8508      2.528774    2.853153   23.90128    13.02464     0.6660353\n",
      "   1.794565   18.14342     1.376215    2.798997    6.412296   29.86244\n",
      "   7.839873    6.570388    0.2057757   3.163097   11.91203    12.5479\n",
      "   1.469301   12.02533     0.7435214   1.707394    1.048436    7.447414\n",
      "   1.359778    6.859517    6.13546     2.64491    29.92344    12.15828\n",
      "   7.446064    0.8170959   2.124207    2.968172    6.390549    0.6565358\n",
      "   7.063244    2.490683 ]\n"
     ]
    }
   ],
   "source": [
    "#Read in student samples\n",
    "\n",
    "samples = reader(open('rice.dat', 'rt'))\n",
    "x_dat = []\n",
    "for sam in samples:\n",
    "    x_dat.append(float(sam[0]))\n",
    "    \n",
    "x_dat = np.array(x_dat)\n",
    "print(x_dat)"
   ]
  },
  {
   "cell_type": "code",
   "execution_count": 35,
   "metadata": {
    "collapsed": false
   },
   "outputs": [],
   "source": [
    "def rice_likelihood(params, x):\n",
    "    return 1/params[0]*np.exp(-(x+params[1])/params[0])*iv(0,2*np.sqrt(x*params[1])/params[0])\n",
    "\n",
    "neg_RL = lambda params, x: -1*np.prod(rice_likelihood(params,x))"
   ]
  },
  {
   "cell_type": "code",
   "execution_count": 41,
   "metadata": {
    "collapsed": false
   },
   "outputs": [
    {
     "name": "stdout",
     "output_type": "stream",
     "text": [
      "Optimization terminated successfully.\n",
      "         Current function value: -0.000000\n",
      "         Iterations: 29\n",
      "         Function evaluations: 55\n",
      "[  7.22612374e+00   7.86827536e-04]\n"
     ]
    }
   ],
   "source": [
    "initial = np.array([5,0])\n",
    "opt = fmin(neg_RL, initial, args=(x_dat,))\n",
    "\n",
    "print(opt)"
   ]
  },
  {
   "cell_type": "code",
   "execution_count": 42,
   "metadata": {
    "collapsed": false
   },
   "outputs": [
    {
     "data": {
      "text/plain": [
       "[<matplotlib.lines.Line2D at 0x7f09100b2278>]"
      ]
     },
     "execution_count": 42,
     "metadata": {},
     "output_type": "execute_result"
    },
    {
     "data": {
      "image/png": "[encoded data removed]",
      "text/plain": [
       "<matplotlib.figure.Figure at 0x7f0910156278>"
      ]
     },
     "metadata": {},
     "output_type": "display_data"
    }
   ],
   "source": [
    "plt.hist(x_dat, normed=True)\n",
    "\n",
    "x_vals = np.arange(0,30,.01)\n",
    "plt.plot(x_vals, rice_likelihood(opt,x_vals), 'r-')"
   ]
  },
  {
   "cell_type": "code",
   "execution_count": 40,
   "metadata": {
    "collapsed": false
   },
   "outputs": [
    {
     "data": {
      "text/plain": [
       "<matplotlib.colorbar.Colorbar at 0x7f090fe80438>"
      ]
     },
     "execution_count": 40,
     "metadata": {},
     "output_type": "execute_result"
    },
    {
     "data": {
      "image/png": "[encoded data removed]",
      "text/plain": [
       "<matplotlib.figure.Figure at 0x7f090ff61780>"
      ]
     },
     "metadata": {},
     "output_type": "display_data"
    }
   ],
   "source": [
    "alp = np.linspace(2,11,100)\n",
    "bet = np.linspace(0,5,100)\n",
    "prob = np.array([[neg_RL((a,b),x_dat) for a in alp] for b in bet])\n",
    "plt.contourf(alp, bet, prob)\n",
    "plt.colorbar()"
   ]
  },
  {
   "cell_type": "code",
   "execution_count": null,
   "metadata": {
    "collapsed": true
   },
   "outputs": [],
   "source": []
  },
  {
   "cell_type": "code",
   "execution_count": null,
   "metadata": {
    "collapsed": true
   },
   "outputs": [],
   "source": []
  },
  {
   "cell_type": "code",
   "execution_count": null,
   "metadata": {
    "collapsed": true
   },
   "outputs": [],
   "source": []
  },
  {
   "cell_type": "markdown",
   "metadata": {},
   "source": [
    "<h3>Problem 2</h3>"
   ]
  },
  {
   "cell_type": "code",
   "execution_count": null,
   "metadata": {
    "collapsed": true
   },
   "outputs": [],
   "source": []
  }
 ],
 "metadata": {
  "kernelspec": {
   "display_name": "Python 3",
   "language": "python",
   "name": "python3"
  },
  "language_info": {
   "codemirror_mode": {
    "name": "ipython",
    "version": 3
   },
   "file_extension": ".py",
   "mimetype": "text/x-python",
   "name": "python",
   "nbconvert_exporter": "python",
   "pygments_lexer": "ipython3",
   "version": "3.5.1"
  }
 },
 "nbformat": 4,
 "nbformat_minor": 0
}
