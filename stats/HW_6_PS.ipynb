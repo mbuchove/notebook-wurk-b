{
 "cells": [
  {
   "cell_type": "markdown",
   "metadata": {},
   "source": [
    "<h1>Astro 283 Homework 6</h1>\n",
    "Bijan Pourhamzeh\n"
   ]
  },
  {
   "cell_type": "code",
   "execution_count": 2,
   "metadata": {
    "collapsed": true
   },
   "outputs": [],
   "source": [
    "%matplotlib inline\n",
    "\n",
    "import numpy as np\n",
    "import matplotlib.pyplot as plt\n",
    "from scipy.special import iv\n",
    "from scipy.optimize import fmin\n",
    "from csv import reader\n",
    "from astropy.io import fits\n",
    "\n",
    "from __future__ import print_function"
   ]
  },
  {
   "cell_type": "markdown",
   "metadata": {},
   "source": [
    "<h3> Problem 1 </h3>\n",
    "\n",
    "To estimate the values of $(\\alpha,\\beta)$, we maximize the posterior function $p(\\alpha,\\beta\\mid\\{D\\})$ with respect to $\\alpha$ and $\\beta$. From Baye's rule, and assuming the prior $p(\\alpha,\\beta)$ is uniform, this is equivalent to maximizing the likelihood function since\n",
    "\n",
    "$$\n",
    "p(\\alpha,\\beta\\mid\\{D\\}) \\propto p(\\{D\\}\\mid\\alpha,\\beta) = \\prod_i p(x_i\\mid\\alpha,\\beta)\n",
    "$$\n",
    "\n",
    "where\n",
    "\n",
    "$$\n",
    "p(x_i\\mid \\alpha,\\beta) = \\left\\{\n",
    "\\begin{array}{ll}\n",
    "\\alpha^{-1}\\exp\\left(-\\frac{x_i+\\beta}{\\alpha}\\right)I_0\\left(\\frac{2\\sqrt{x_i\\beta}}{\\alpha}\\right) & \\quad x_i\\geq 0\\\\\n",
    "0 & \\quad\\text{otherwise}\n",
    "\\end{array}\n",
    "\\right.\n",
    "$$\n",
    "\n",
    "Using <code>scipy.optimize.fmin</code>, we find that the parameters which maximize the posterior function are\n",
    "\n",
    "\\begin{eqnarray}\n",
    "\\alpha &\\approx& 7.23\\\\\n",
    "\\beta &\\approx& 7.87\\times 10^{-4}\n",
    "\\end{eqnarray}\n",
    "\n",
    "To compare this fit to one of a Gaussian that has a variance equal to the mean, we evaluate the ratio\n",
    "\n",
    "\\begin{eqnarray}\n",
    "\\frac{P(R\\mid\\{D\\})}{P(G\\mid\\{D\\})} &=& \\frac{\\int p(\\alpha,\\beta,R\\mid\\{D\\}) d\\alpha d\\beta}{\\int p(\\mu,G\\mid\\{D\\})d\\mu}\\\\\n",
    "&=& \\frac{\\int p(\\{D\\}\\mid\\alpha,\\beta,R)p(\\alpha,\\beta) d\\alpha d\\beta}{\\int p(\\{D\\}\\mid\\mu,G)p(\\mu) d\\mu}\\\\\n",
    "&=& \\frac{\\mu^\\text{max}-\\mu^\\text{min}}{(\\alpha^\\text{max}-\\alpha^\\text{min})(\\beta^\\text{max}-\\beta^\\text{min})}\\frac{\\int p(\\{D\\}\\mid\\alpha,\\beta,R) d\\alpha d\\beta}{\\int p(\\{D\\}\\mid\\mu,G) d\\mu}\n",
    "\\end{eqnarray}"
   ]
  },
  {
   "cell_type": "code",
   "execution_count": 44,
   "metadata": {
    "collapsed": false
   },
   "outputs": [],
   "source": [
    "#Read in student samples\n",
    "\n",
    "samples = reader(open('rice.dat', 'rt'))\n",
    "x_dat = []\n",
    "for sam in samples:\n",
    "    x_dat.append(float(sam[0]))\n",
    "    \n",
    "x_dat = np.array(x_dat)\n",
    "#print(x_dat)"
   ]
  },
  {
   "cell_type": "code",
   "execution_count": 45,
   "metadata": {
    "collapsed": false
   },
   "outputs": [],
   "source": [
    "def rice_likelihood(params, x):\n",
    "    '''Returns p(x|\\alpha,\\beta) defined above'''\n",
    "    \n",
    "    return 1/params[0]*np.exp(-(x+params[1])/params[0])*iv(0,2*np.sqrt(x*params[1])/params[0])\n",
    "\n",
    "#Negative likelihood so we can use fmin\n",
    "neg_RL = lambda params, x: -1*np.prod(rice_likelihood(params,x))"
   ]
  },
  {
   "cell_type": "code",
   "execution_count": 46,
   "metadata": {
    "collapsed": false
   },
   "outputs": [
    {
     "name": "stdout",
     "output_type": "stream",
     "text": [
      "Optimization terminated successfully.\n",
      "         Current function value: -0.000000\n",
      "         Iterations: 29\n",
      "         Function evaluations: 55\n",
      "[  7.22612374e+00   7.86827536e-04]\n"
     ]
    }
   ],
   "source": [
    "#Optimize!\n",
    "\n",
    "initial = np.array([5,0])\n",
    "opt_r = fmin(neg_RL, initial, args=(x_dat,))\n",
    "\n",
    "print(opt_r)"
   ]
  },
  {
   "cell_type": "code",
   "execution_count": 47,
   "metadata": {
    "collapsed": false
   },
   "outputs": [
    {
     "data": {
      "text/plain": [
       "<matplotlib.text.Text at 0x7f16545394a8>"
      ]
     },
     "execution_count": 47,
     "metadata": {},
     "output_type": "execute_result"
    },
    {
     "data": {
      "image/png": "[encoded data removed]",
      "text/plain": [
       "<matplotlib.figure.Figure at 0x7f1654585c88>"
      ]
     },
     "metadata": {},
     "output_type": "display_data"
    }
   ],
   "source": [
    "#Plot to see how it looks. Meh....\n",
    "\n",
    "plt.hist(x_dat, normed=True)\n",
    "x_vals = np.arange(0,30,.01)\n",
    "plt.plot(x_vals, rice_likelihood(opt_r,x_vals), 'r-')\n",
    "plt.title('Best fit Rice distribution and sampled points')"
   ]
  },
  {
   "cell_type": "code",
   "execution_count": 49,
   "metadata": {
    "collapsed": false
   },
   "outputs": [
    {
     "data": {
      "text/plain": [
       "<matplotlib.text.Text at 0x7f1654416278>"
      ]
     },
     "execution_count": 49,
     "metadata": {},
     "output_type": "execute_result"
    },
    {
     "data": {
      "image/png": "[encoded data removed]",
      "text/plain": [
       "<matplotlib.figure.Figure at 0x7f1654446828>"
      ]
     },
     "metadata": {},
     "output_type": "display_data"
    }
   ],
   "source": [
    "#Contour plot of posterior function, unnormalized\n",
    "\n",
    "alp = np.linspace(2,11,100)\n",
    "bet = np.linspace(0,5,100)\n",
    "prob = np.array([[neg_RL((a,b),x_dat) for a in alp] for b in bet])\n",
    "plt.contourf(alp, bet, prob)\n",
    "plt.colorbar()\n",
    "plt.xlabel('alpha')\n",
    "plt.ylabel('beta')\n",
    "plt.title('Unnormalized posterior for Rice estimate')"
   ]
  },
  {
   "cell_type": "code",
   "execution_count": null,
   "metadata": {
    "collapsed": true
   },
   "outputs": [],
   "source": []
  },
  {
   "cell_type": "code",
   "execution_count": null,
   "metadata": {
    "collapsed": true
   },
   "outputs": [],
   "source": []
  },
  {
   "cell_type": "code",
   "execution_count": null,
   "metadata": {
    "collapsed": true
   },
   "outputs": [],
   "source": []
  },
  {
   "cell_type": "markdown",
   "metadata": {},
   "source": [
    "<h3>Problem 2</h3>"
   ]
  },
  {
   "cell_type": "code",
   "execution_count": 55,
   "metadata": {
    "collapsed": false
   },
   "outputs": [
    {
     "name": "stdout",
     "output_type": "stream",
     "text": [
      "(128, 128, 128)\n"
     ]
    },
    {
     "data": {
      "text/plain": [
       "<matplotlib.colorbar.Colorbar at 0x7f1654931d68>"
      ]
     },
     "execution_count": 55,
     "metadata": {},
     "output_type": "execute_result"
    },
    {
     "data": {
      "image/png": "[encoded data removed]",
      "text/plain": [
       "<matplotlib.figure.Figure at 0x7f16544bc668>"
      ]
     },
     "metadata": {},
     "output_type": "display_data"
    }
   ],
   "source": [
    "model_file = fits.open('../../hw6prob2_model.fits')\n",
    "model_data = model_file[0].data\n",
    "print(model_data.shape)\n",
    "\n",
    "psf_file = fits.open('../../hw6prob2_psf.fits')\n",
    "psf_data = psf_file[0].data\n",
    "plt.contourf(psf_data)\n",
    "plt.colorbar()"
   ]
  },
  {
   "cell_type": "code",
   "execution_count": 56,
   "metadata": {
    "collapsed": false
   },
   "outputs": [
    {
     "name": "stdout",
     "output_type": "stream",
     "text": [
      "(128, 128)\n"
     ]
    },
    {
     "data": {
      "text/plain": [
       "<matplotlib.colorbar.Colorbar at 0x7f16533195f8>"
      ]
     },
     "execution_count": 56,
     "metadata": {},
     "output_type": "execute_result"
    },
    {
     "data": {
      "image/png": "[encoded data removed]",
      "text/plain": [
       "<matplotlib.figure.Figure at 0x7f1654534710>"
      ]
     },
     "metadata": {},
     "output_type": "display_data"
    }
   ],
   "source": [
    "model_int = np.sum(model_data, axis=0)\n",
    "print(model_int.shape)\n",
    "plt.contourf(model_int)\n",
    "plt.colorbar()"
   ]
  },
  {
   "cell_type": "code",
   "execution_count": 57,
   "metadata": {
    "collapsed": true
   },
   "outputs": [],
   "source": [
    "def zero_pad_2d(a, num):\n",
    "    '''take an 2d array and pad with zeros around edges\n",
    "    output is an array with size (num, num)'''\n",
    "    \n",
    "    a = np.asarray(a)\n",
    "    size = a.shape\n",
    "    \n",
    "    out = np.zeros((num,num))\n",
    "    \n",
    "    out[int((num-size[0])/2):int((num+size[0])/2),int((num-size[1])/2):int((num+size[1])/2)] = a\n",
    "    \n",
    "    return out"
   ]
  },
  {
   "cell_type": "code",
   "execution_count": 36,
   "metadata": {
    "collapsed": false
   },
   "outputs": [],
   "source": [
    "#from timeit import timeit\n",
    "\n",
    "def my_fft_1d(a, inverse=False, first_iter=True):\n",
    "    '''Computes a fast fourier transform of a 1d array, a. \n",
    "    Returns a complex array of the same size. Uses the Cooley-Tukey algorithm'''\n",
    "    \n",
    "    n = len(a)\n",
    "    out = np.zeros(n, dtype=complex)\n",
    "    \n",
    "    overall_factor = 1\n",
    "    if inverse:\n",
    "        s = -1\n",
    "        if first_iter:\n",
    "            overall_factor = float(1/n)\n",
    "    else:\n",
    "        s = 1\n",
    "        \n",
    "    if n == 1:\n",
    "        out[0] = a[0]\n",
    "    else:\n",
    "        out[0:int(n/2)] = my_fft_1d(a[0::2], inverse, first_iter=False)\n",
    "        out[int(n/2):] = my_fft_1d(a[1::2], inverse, first_iter=False)\n",
    "        for k in range(0,int(n/2)):\n",
    "            t = out[k]\n",
    "            out[k] = t + np.exp(-s*2*np.pi*1j*k/n)*out[k+int(n/2)]\n",
    "            out[k+int(n/2)] = t - np.exp(-s*2*np.pi*1j*k/n)*out[k+int(n/2)]\n",
    "    return overall_factor*out"
   ]
  },
  {
   "cell_type": "code",
   "execution_count": 37,
   "metadata": {
    "collapsed": true
   },
   "outputs": [],
   "source": [
    "def my_fft_2d(a, inverse=False):\n",
    "    '''Computes 2d FFT using my_fft_1d'''\n",
    "    \n",
    "    a = np.asarray(a)\n",
    "    n1, n2 = a.shape\n",
    "    if n1 != n2:\n",
    "        print('Input must be a square array! Shape is', (n1,n2))\n",
    "        return None\n",
    "    N = n1\n",
    "    out = np.zeros((N,N), dtype=complex)\n",
    "    \n",
    "    #FFT columns\n",
    "    for i in range(0,N):\n",
    "        out[:,i] = my_fft_1d(a[:,i], inverse, first_iter=True)\n",
    "            \n",
    "    #FFT rows\n",
    "    for j in range(0,N):\n",
    "        out[j,:] = my_fft_1d(out[j,:], inverse, first_iter=True)\n",
    "        \n",
    "    return out"
   ]
  },
  {
   "cell_type": "code",
   "execution_count": 68,
   "metadata": {
    "collapsed": false
   },
   "outputs": [
    {
     "name": "stderr",
     "output_type": "stream",
     "text": [
      "/home/bijan/anaconda3/lib/python3.5/site-packages/numpy/ma/core.py:2720: ComplexWarning: Casting complex values to real discards the imaginary part\n",
      "  _data = np.array(data, dtype=dtype, copy=copy, subok=True, ndmin=ndmin)\n"
     ]
    },
    {
     "data": {
      "text/plain": [
       "<matplotlib.contour.QuadContourSet at 0x7f16530623c8>"
      ]
     },
     "execution_count": 68,
     "metadata": {},
     "output_type": "execute_result"
    },
    {
     "data": {
      "image/png": "[encoded data removed]",
      "text/plain": [
       "<matplotlib.figure.Figure at 0x7f165310d400>"
      ]
     },
     "metadata": {},
     "output_type": "display_data"
    }
   ],
   "source": [
    "#Zero pad data\n",
    "model_int_p = zero_pad_2d(model_int, 256)\n",
    "psf_data_p = zero_pad_2d(psf_data, 256)\n",
    "#plt.contourf(model_int)\n",
    "\n",
    "#FFT padded data\n",
    "model_int_f = my_fft_2d(model_int_p)\n",
    "psf_data_f = my_fft_2d(psf_data_p)\n",
    "\n",
    "#Do convolution in Fourier space, i.e. element-wise multiplication\n",
    "conv_f = model_int_f*psf_data_f\n",
    "\n",
    "#Inverse FFT back\n",
    "conv = my_fft_2d(conv_f, inverse=True)\n",
    "plt.contourf(conv)"
   ]
  },
  {
   "cell_type": "code",
   "execution_count": 67,
   "metadata": {
    "collapsed": false
   },
   "outputs": [
    {
     "name": "stderr",
     "output_type": "stream",
     "text": [
      "/home/bijan/anaconda3/lib/python3.5/site-packages/numpy/ma/core.py:2720: ComplexWarning: Casting complex values to real discards the imaginary part\n",
      "  _data = np.array(data, dtype=dtype, copy=copy, subok=True, ndmin=ndmin)\n"
     ]
    },
    {
     "data": {
      "text/plain": [
       "<matplotlib.contour.QuadContourSet at 0x7f165314c320>"
      ]
     },
     "execution_count": 67,
     "metadata": {},
     "output_type": "execute_result"
    },
    {
     "data": {
      "image/png": "[encoded data removed]",
      "text/plain": [
       "<matplotlib.figure.Figure at 0x7f16531a3a58>"
      ]
     },
     "metadata": {},
     "output_type": "display_data"
    }
   ],
   "source": [
    "#Zero pad data\n",
    "model_int = zero_pad_2d(model_int, 256)\n",
    "psf_data = zero_pad_2d(psf_data, 256)\n",
    "#plt.contourf(model_int)\n",
    "#FFT padded data\n",
    "model_int_f = np.fft.fft2(model_int)\n",
    "psf_data_f = np.fft.fft2(psf_data)\n",
    "\n",
    "#Do convolution in Fourier space\n",
    "conv_f = model_int_f*psf_data_f\n",
    "#plt.contourf(conv_f)\n",
    "\n",
    "#Inverse FFT back\n",
    "conv = np.fft.ifft2(conv_f)\n",
    "plt.contourf(conv)"
   ]
  },
  {
   "cell_type": "code",
   "execution_count": 60,
   "metadata": {
    "collapsed": false
   },
   "outputs": [
    {
     "data": {
      "text/plain": [
       "(256, 256)"
      ]
     },
     "execution_count": 60,
     "metadata": {},
     "output_type": "execute_result"
    }
   ],
   "source": [
    "#Plot convolution\n",
    "conv.shape\n",
    "#plt.contourf(conv)\n",
    "#plt.colorbar()"
   ]
  },
  {
   "cell_type": "code",
   "execution_count": 41,
   "metadata": {
    "collapsed": false
   },
   "outputs": [
    {
     "name": "stdout",
     "output_type": "stream",
     "text": [
      "[[ -7.24515190e-17 -5.74870673e-19j  -1.23227208e-16 +2.78907008e-17j\n",
      "   -1.55908129e-16 -3.83098616e-17j ...,  -6.86053856e-17 -8.23126295e-17j\n",
      "   -1.39436958e-16 +4.82357692e-17j   1.33389076e-17 +8.14616422e-17j]\n",
      " [  2.79754495e-17 +2.12788655e-17j   2.01227923e-16 -6.21735492e-17j\n",
      "   -1.24900090e-16 -1.62490187e-17j ...,   2.77555756e-17 -8.35355836e-17j\n",
      "   -3.19189120e-16 -1.81050841e-17j  -3.52427111e-17 +3.28187503e-17j]\n",
      " [ -1.02193094e-16 -8.41610941e-17j   1.52655666e-16 +6.26425237e-17j\n",
      "   -3.88578059e-16 -1.20579434e-16j ...,  -2.49800181e-16 -1.33510149e-16j\n",
      "   -6.38378239e-16 -5.07234967e-17j  -3.36019069e-16 +1.27481957e-16j]\n",
      " ..., \n",
      " [ -2.86526810e-17 -1.34451114e-17j  -1.66533454e-16 -1.49324417e-17j\n",
      "    4.44089210e-16 -3.45509015e-16j ...,  -8.32667268e-17 +5.10069070e-17j\n",
      "    4.02455846e-16 +2.43593664e-16j   2.91407510e-16 +1.74842205e-16j]\n",
      " [ -1.00509225e-16 -3.93687924e-17j  -2.84494650e-16 +3.97717848e-17j\n",
      "    0.00000000e+00 +4.24676636e-17j ...,  -6.93889390e-17 -6.09168862e-17j\n",
      "    1.04083409e-16 +3.54178035e-17j   1.08091976e-16 +4.62224184e-17j]\n",
      " [  2.37170931e-17 -3.05425986e-17j   5.67164836e-17 +3.64294599e-17j\n",
      "    8.19041954e-17 -7.58445470e-17j ...,  -7.67910727e-17 -9.05228931e-18j\n",
      "   -1.40814991e-16 -9.01526343e-18j   1.05751873e-16 +4.82484061e-17j]]\n"
     ]
    }
   ],
   "source": [
    "t1 = np.linspace(0,2*np.pi,128)\n",
    "t2 = np.linspace(0,2*np.pi,128)\n",
    "t1, t2 = np.meshgrid(t1, t2)\n",
    "a = np.sin(3*t1)*np.sin(7*t2)\n",
    "a.shape\n",
    "\n",
    "test = my_fft_2d(a)\n",
    "test_1 = np.fft.fft2(a)\n",
    "\n",
    "itest = my_fft_2d(test, inverse=True)\n",
    "itest_1 = np.fft.ifft2(test_1)\n",
    "\n",
    "print(itest-itest_1)"
   ]
  },
  {
   "cell_type": "code",
   "execution_count": 52,
   "metadata": {
    "collapsed": false
   },
   "outputs": [],
   "source": [
    "a=np.zeros((2,2),dtype=complex)"
   ]
  },
  {
   "cell_type": "code",
   "execution_count": 35,
   "metadata": {
    "collapsed": false
   },
   "outputs": [
    {
     "name": "stdout",
     "output_type": "stream",
     "text": [
      "[ -2.08166817e-17 +5.81132364e-17j   3.88578059e-16 +2.98907600e-18j\n",
      "  -3.88578059e-16 +1.16374426e-16j   0.00000000e+00 -9.10262924e-17j\n",
      "   3.33066907e-16 -1.73941613e-16j   7.77156117e-16 -9.18573221e-16j\n",
      "   0.00000000e+00 -1.00978755e-16j   1.11022302e-16 -7.67568448e-16j\n",
      "  -2.22044605e-16 +4.82898554e-16j   1.11022302e-16 +5.24286951e-17j\n",
      "  -1.11022302e-16 +6.52837661e-16j   3.33066907e-16 -8.40873985e-17j\n",
      "   1.11022302e-16 -6.52333859e-17j  -3.33066907e-16 -2.61511594e-16j\n",
      "   2.22044605e-16 -6.08632749e-17j  -2.22044605e-16 -6.60449273e-16j\n",
      "   4.44089210e-16 -4.15713945e-16j  -2.22044605e-16 -5.24744377e-16j\n",
      "   7.77156117e-16 +1.29063226e-16j   4.44089210e-16 -1.76724646e-16j\n",
      "   0.00000000e+00 -1.96074696e-16j  -8.53483950e-16 +1.88292447e-16j\n",
      "   5.41233725e-16 +9.70145662e-17j   5.55111512e-17 +5.76544888e-16j\n",
      "   7.77156117e-16 +4.61921060e-17j   3.33066907e-16 +2.36743064e-16j\n",
      "   9.99200722e-16 -4.09328102e-16j   3.33066907e-16 +2.10381912e-16j\n",
      "   2.22044605e-16 +3.45896078e-16j   1.11022302e-16 +8.19654812e-16j\n",
      "   2.22044605e-16 +6.92006714e-16j   3.33066907e-16 +1.03849553e-15j\n",
      "  -2.22044605e-16 -8.31493454e-16j   4.44089210e-16 -3.88191068e-16j\n",
      "  -2.22044605e-16 -1.20461750e-15j   1.11022302e-16 -6.51341975e-16j\n",
      "   3.33066907e-16 -2.62846191e-16j   7.77156117e-16 +1.03070487e-16j\n",
      "   0.00000000e+00 -1.92485419e-16j   5.55111512e-16 -7.28116959e-17j\n",
      "  -3.33066907e-16 -1.48540791e-16j   8.32667268e-17 -9.84922473e-17j\n",
      "  -7.63278329e-16 -1.44267776e-16j  -2.77555756e-17 +1.89998911e-16j\n",
      "   1.11022302e-16 +2.01914029e-16j   6.10622664e-16 +7.15553134e-17j\n",
      "  -1.11022302e-16 +4.28328745e-16j   3.33066907e-16 +5.45183542e-16j\n",
      "  -1.11022302e-16 +4.62551479e-16j  -3.33066907e-16 -8.42369430e-17j\n",
      "  -4.44089210e-16 +7.53339568e-16j  -2.22044605e-16 +1.00490193e-16j\n",
      "   3.33066907e-16 +2.38070571e-16j  -2.22044605e-16 -6.49044230e-16j\n",
      "   3.33066907e-16 +3.13818991e-16j   0.00000000e+00 -2.65068644e-16j\n",
      "   5.55111512e-16 +5.77017490e-16j   0.00000000e+00 +1.36996465e-16j\n",
      "   4.44089210e-16 +7.43558278e-16j   4.44089210e-16 +2.00840932e-16j\n",
      "   3.88578059e-16 -1.25948708e-16j  -2.22044605e-16 -4.51048404e-17j\n",
      "   7.21644966e-16 -1.47599449e-16j   1.94289029e-16 -1.17480825e-16j\n",
      "   1.38777878e-17 -5.29090660e-17j  -4.44089210e-16 +2.03363108e-17j\n",
      "   3.88578059e-16 -1.47303542e-16j   0.00000000e+00 +7.55071613e-17j\n",
      "  -3.33066907e-16 +2.14636445e-16j  -7.77156117e-16 +9.68805921e-16j\n",
      "   0.00000000e+00 +1.21065850e-16j  -1.11022302e-16 +7.86743786e-16j\n",
      "   2.22044605e-16 -5.16302168e-16j   1.11022302e-16 -8.63491830e-17j\n",
      "   1.11022302e-16 -6.79429968e-16j  -3.33066907e-16 +8.24460552e-17j\n",
      "  -1.11022302e-16 +4.57889166e-17j   5.55111512e-16 +2.38088767e-16j\n",
      "  -2.22044605e-16 +5.01590275e-17j   2.22044605e-16 +6.71818356e-16j\n",
      "  -4.44089210e-16 +3.61442172e-16j   2.22044605e-16 +4.74456345e-16j\n",
      "  -7.77156117e-16 -1.48492530e-16j  -4.16333634e-16 +1.56342261e-16j\n",
      "   0.00000000e+00 +1.36992211e-16j   8.67361738e-16 -2.57531487e-16j\n",
      "  -5.27355937e-16 -9.72744631e-17j  -5.55111512e-17 -6.16944864e-16j\n",
      "  -6.66133815e-16 -9.31904526e-18j  -3.33066907e-16 -2.07346145e-16j\n",
      "  -9.99200722e-16 +4.78850317e-16j  -1.11022302e-16 -1.78196147e-16j\n",
      "  -2.22044605e-16 -3.20237737e-16j  -1.11022302e-16 -7.90168573e-16j\n",
      "   0.00000000e+00 -6.40260916e-16j  -1.11022302e-16 -1.02929485e-15j\n",
      "   0.00000000e+00 +8.36697624e-16j  -4.44089210e-16 +3.88965049e-16j\n",
      "   2.22044605e-16 +1.21011758e-15j  -1.11022302e-16 +6.25414503e-16j\n",
      "  -3.33066907e-16 +2.92265321e-16j  -9.99200722e-16 -6.34629672e-17j\n",
      "   0.00000000e+00 +1.96092640e-16j  -5.55111512e-16 +9.37217578e-17j\n",
      "   3.33066907e-16 +1.01259389e-16j  -1.24900090e-16 +5.41634185e-17j\n",
      "   7.66747776e-16 +6.21643175e-17j   2.77555756e-17 -2.40212511e-16j\n",
      "  -1.11022302e-16 -2.42175180e-16j  -6.10622664e-16 -9.49781403e-17j\n",
      "   1.11022302e-16 -4.59849674e-16j  -3.33066907e-16 -5.65039482e-16j\n",
      "   3.33066907e-16 -4.25626941e-16j   3.33066907e-16 +1.37807662e-16j\n",
      "   4.44089210e-16 -7.45461516e-16j   2.22044605e-16 -6.60432603e-17j\n",
      "  -1.11022302e-16 -2.06018639e-16j   2.22044605e-16 +6.83223400e-16j\n",
      "  -3.33066907e-16 -2.96803672e-16j   0.00000000e+00 +2.90042868e-16j\n",
      "  -7.77156117e-16 -5.33205535e-16j  -2.22044605e-16 -8.50481404e-17j\n",
      "  -6.66133815e-16 -6.99731654e-16j  -6.66133815e-16 -1.87737126e-16j\n",
      "  -4.99600361e-16 +1.23851473e-16j   1.11022302e-16 +1.04063109e-17j\n",
      "  -6.66133815e-16 +1.29956307e-16j  -2.63677968e-16 +9.28543960e-17j]\n"
     ]
    }
   ],
   "source": [
    "t = np.linspace(0,2*np.pi,128)\n",
    "a1 = np.sin(3*t)\n",
    "test1 = my_fft_1d(a1)\n",
    "test11 = np.fft.fft(a1)\n",
    "\n",
    "itest1 = my_fft_1d(test1, inverse=True)\n",
    "itest11 = np.fft.ifft(test11)\n",
    "print(itest1-itest11)"
   ]
  },
  {
   "cell_type": "code",
   "execution_count": 66,
   "metadata": {
    "collapsed": false
   },
   "outputs": [
    {
     "data": {
      "text/plain": [
       "array([[ 1,  4],\n",
       "       [ 9, 16]])"
      ]
     },
     "execution_count": 66,
     "metadata": {},
     "output_type": "execute_result"
    }
   ],
   "source": [
    "np.multiply(np.array([[1,2],[3,4]]),np.array([[1,2],[3,4]]))"
   ]
  },
  {
   "cell_type": "markdown",
   "metadata": {},
   "source": []
  }
 ],
 "metadata": {
  "kernelspec": {
   "display_name": "Python 3",
   "language": "python",
   "name": "python3"
  },
  "language_info": {
   "codemirror_mode": {
    "name": "ipython",
    "version": 3
   },
   "file_extension": ".py",
   "mimetype": "text/x-python",
   "name": "python",
   "nbconvert_exporter": "python",
   "pygments_lexer": "ipython3",
   "version": "3.5.1"
  }
 },
 "nbformat": 4,
 "nbformat_minor": 0
}
