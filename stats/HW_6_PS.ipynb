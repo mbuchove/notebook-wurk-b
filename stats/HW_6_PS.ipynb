{
 "cells": [
  {
   "cell_type": "markdown",
   "metadata": {},
   "source": [
    "<h1>Astro 283 Homework 6</h1>\n",
    "Bijan Pourhamzeh\n"
   ]
  },
  {
   "cell_type": "code",
   "execution_count": 1,
   "metadata": {
    "collapsed": true
   },
   "outputs": [],
   "source": [
    "%matplotlib inline\n",
    "\n",
    "import numpy as np\n",
    "import matplotlib.pyplot as plt\n",
    "from scipy.special import iv\n",
    "from scipy.optimize import fmin\n",
    "from csv import reader\n",
    "from astropy.io import fits\n",
    "\n",
    "from __future__ import print_function"
   ]
  },
  {
   "cell_type": "markdown",
   "metadata": {},
   "source": [
    "<h3> Problem 1 </h3>\n",
    "\n",
    "To estimate the values of $(\\alpha,\\beta)$, we maximize the posterior function $p(\\alpha,\\beta\\mid\\{D\\})$ with respect to $\\alpha$ and $\\beta$. From Baye's rule, and assuming the prior $p(\\alpha,\\beta)$ is uniform, this is equivalent to maximizing the likelihood function since\n",
    "\n",
    "$$\n",
    "p(\\alpha,\\beta\\mid\\{D\\}) \\propto p(\\{D\\}\\mid\\alpha,\\beta) = \\prod_i p(x_i\\mid\\alpha,\\beta)\n",
    "$$\n",
    "\n",
    "where\n",
    "\n",
    "$$\n",
    "p(x_i\\mid \\alpha,\\beta) = \\left\\{\n",
    "\\begin{array}{ll}\n",
    "\\alpha^{-1}\\exp\\left(-\\frac{x_i+\\beta}{\\alpha}\\right)I_0\\left(\\frac{2\\sqrt{x_i\\beta}}{\\alpha}\\right) & \\quad x_i\\geq 0\\\\\n",
    "0 & \\quad\\text{otherwise}\n",
    "\\end{array}\n",
    "\\right.\n",
    "$$\n",
    "\n",
    "Using <code>scipy.optimize.fmin</code>, we find that the parameters which maximize the posterior function are\n",
    "\n",
    "\\begin{eqnarray}\n",
    "\\alpha &\\approx& 7.23\\\\\n",
    "\\beta &\\approx& 7.87\\times 10^{-4}\n",
    "\\end{eqnarray}\n",
    "\n",
    "To compare this fit to one of a Gaussian that has a variance equal to the mean, we evaluate the ratio\n",
    "\n",
    "\\begin{eqnarray}\n",
    "\\frac{P(R\\mid\\{D\\})}{P(G\\mid\\{D\\})} &=& \\frac{\\int p(\\alpha,\\beta,R\\mid\\{D\\}) d\\alpha d\\beta}{\\int p(\\mu,G\\mid\\{D\\})d\\mu}\\\\\n",
    "&=& \\frac{\\int p(\\{D\\}\\mid\\alpha,\\beta,R)p(\\alpha,\\beta) d\\alpha d\\beta}{\\int p(\\{D\\}\\mid\\mu,G)p(\\mu) d\\mu}\\\\\n",
    "&=& \\frac{\\mu^\\text{max}-\\mu^\\text{min}}{(\\alpha^\\text{max}-\\alpha^\\text{min})(\\beta^\\text{max}-\\beta^\\text{min})}\\frac{\\int p(\\{D\\}\\mid\\alpha,\\beta,R) d\\alpha d\\beta}{\\int p(\\{D\\}\\mid\\mu,G) d\\mu}\\\\\n",
    "&\\approx& \\frac{\\mu^\\text{max}-\\mu^\\text{min}}{(\\alpha^\\text{max}-\\alpha^\\text{min})(\\beta^\\text{max}-\\beta^\\text{min})}\\frac{p(\\{D\\}\\mid\\alpha_0,\\beta_0,R)}{p(\\{D\\}\\mid\\mu_0,G)}\\frac{\\int f(\\alpha,\\beta,R) d\\alpha d\\beta}{\\int g(\\mu,G) d\\mu}\n",
    "\\end{eqnarray}\n",
    "\n",
    "where we make the approximation that the likelihoods can be approximated by the likelihoods at the best fit values times some functions $f,g$ which are functions of the parameters, best-fit values, and errors associated with the fit. We can assume that $f,g$ are approximately Gaussian, which means the integrals will be proportional to the errors, $\\delta\\alpha,\\delta\\beta,\\delta\\mu$. This gives us\n",
    "\n",
    "$$\n",
    "\\frac{P(R\\mid\\{D\\})}{P(G\\mid\\{D\\})} \\sim \\frac{\\delta\\alpha\\delta\\beta}{(\\alpha^\\text{max}-\\alpha^\\text{min})(\\beta^\\text{max}-\\beta^\\text{min})}\\frac{\\mu^\\text{max}-\\mu^\\text{min}}{\\delta\\mu}\\frac{p(\\{D\\}\\mid\\alpha_0,\\beta_0,R)}{p(\\{D\\}\\mid\\mu_0,G)}\n",
    "$$\n",
    "\n",
    "We can evaluate the last factor numerically, which comes to\n",
    "\n",
    "$$\n",
    "\\frac{p(\\{D\\}\\mid\\alpha_0,\\beta_0,R)}{p(\\{D\\}\\mid\\mu_0,G)} \\sim 10^{51}\n",
    "$$\n",
    "\n",
    "The factors in front we assume are not close to this order of magnitude, so we can say that \n",
    "\n",
    "$$\n",
    "\\frac{P(R\\mid\\{D\\})}{P(G\\mid\\{D\\})} \\gg 1\n",
    "$$\n",
    "\n",
    "and therefore the Rice distribution is a much better fit than the Poisson-like Gaussian."
   ]
  },
  {
   "cell_type": "code",
   "execution_count": 2,
   "metadata": {
    "collapsed": false
   },
   "outputs": [],
   "source": [
    "#Read in student samples\n",
    "\n",
    "samples = reader(open('rice.dat', 'rt'))\n",
    "x_dat = []\n",
    "for sam in samples:\n",
    "    x_dat.append(float(sam[0]))\n",
    "    \n",
    "x_dat = np.array(x_dat)\n",
    "#print(x_dat)"
   ]
  },
  {
   "cell_type": "code",
   "execution_count": 3,
   "metadata": {
    "collapsed": false
   },
   "outputs": [],
   "source": [
    "def rice_likelihood(params, x):\n",
    "    '''Returns p(x|\\alpha,\\beta) defined above'''\n",
    "    \n",
    "    return 1/params[0]*np.exp(-(x+params[1])/params[0])*iv(0,2*np.sqrt(x*params[1])/params[0])\n",
    "\n",
    "#Negative likelihood so we can use fmin\n",
    "neg_RL = lambda params, x: -1*np.prod(rice_likelihood(params,x))\n",
    "\n",
    "def gaussian_(mu, x):\n",
    "    '''Returns a gaussian with variance equal to its mean'''\n",
    "    \n",
    "    return 1/np.sqrt(2*np.pi*mu)*np.exp(-0.5*(x-mu)**2/mu)\n",
    "\n",
    "neg_G = lambda mu, x: -1*np.prod(gaussian_(mu,x))"
   ]
  },
  {
   "cell_type": "code",
   "execution_count": 4,
   "metadata": {
    "collapsed": false
   },
   "outputs": [
    {
     "name": "stdout",
     "output_type": "stream",
     "text": [
      "Optimization terminated successfully.\n",
      "         Current function value: -0.000000\n",
      "         Iterations: 29\n",
      "         Function evaluations: 55\n",
      "Optimization terminated successfully.\n",
      "         Current function value: -0.000000\n",
      "         Iterations: 17\n",
      "         Function evaluations: 34\n",
      "[  7.22612374e+00   7.86827536e-04]\n",
      "[ 9.99631102]\n"
     ]
    }
   ],
   "source": [
    "#Optimize!\n",
    "\n",
    "initial_r = np.array([5,0])\n",
    "opt_r = fmin(neg_RL, initial_r, args=(x_dat,))\n",
    "\n",
    "initial_g = np.array([np.mean(x_dat)])\n",
    "opt_g = fmin(neg_G, initial_g, args=(x_dat,))\n",
    "\n",
    "print(opt_r)\n",
    "print(opt_g)"
   ]
  },
  {
   "cell_type": "code",
   "execution_count": 5,
   "metadata": {
    "collapsed": false
   },
   "outputs": [
    {
     "data": {
      "text/plain": [
       "<matplotlib.text.Text at 0x7f4951dff1d0>"
      ]
     },
     "execution_count": 5,
     "metadata": {},
     "output_type": "execute_result"
    },
    {
     "data": {
      "image/png": "[encoded data removed]",
      "text/plain": [
       "<matplotlib.figure.Figure at 0x7f4953e43cc0>"
      ]
     },
     "metadata": {},
     "output_type": "display_data"
    }
   ],
   "source": [
    "#Plot to see how it looks. Meh....\n",
    "\n",
    "plt.hist(x_dat, normed=True)\n",
    "x_vals = np.arange(0,30,.01)\n",
    "plt.plot(x_vals, rice_likelihood(opt_r,x_vals), 'r-')\n",
    "plt.plot(x_vals, gaussian_(opt_g,x_vals), 'g-')\n",
    "plt.title('Best fit Rice/Gaussian distribution and sampled points')"
   ]
  },
  {
   "cell_type": "code",
   "execution_count": 6,
   "metadata": {
    "collapsed": false
   },
   "outputs": [
    {
     "data": {
      "text/plain": [
       "<matplotlib.text.Text at 0x7f4951d609e8>"
      ]
     },
     "execution_count": 6,
     "metadata": {},
     "output_type": "execute_result"
    },
    {
     "data": {
      "image/png": "[encoded data removed]",
      "text/plain": [
       "<matplotlib.figure.Figure at 0x7f4953e43c18>"
      ]
     },
     "metadata": {},
     "output_type": "display_data"
    }
   ],
   "source": [
    "#Contour plot of posterior function, unnormalized\n",
    "\n",
    "alp = np.linspace(2,11,100)\n",
    "bet = np.linspace(0,5,100)\n",
    "prob = np.array([[neg_RL((a,b),x_dat) for a in alp] for b in bet])\n",
    "plt.contourf(alp, bet, prob)\n",
    "plt.colorbar()\n",
    "plt.xlabel('alpha')\n",
    "plt.ylabel('beta')\n",
    "plt.title('Unnormalized posterior for Rice estimate')"
   ]
  },
  {
   "cell_type": "code",
   "execution_count": 7,
   "metadata": {
    "collapsed": false
   },
   "outputs": [
    {
     "name": "stdout",
     "output_type": "stream",
     "text": [
      "1.9151801022e+51\n"
     ]
    }
   ],
   "source": [
    "#Ratio of Rice likelihood at best fit parameter to Gaussian at best fit\n",
    "\n",
    "third_factor = neg_RL(opt_r,x_dat)/neg_G(opt_g,x_dat)\n",
    "print(third_factor)"
   ]
  },
  {
   "cell_type": "markdown",
   "metadata": {},
   "source": [
    "<h3>Problem 2</h3>\n",
    "\n",
    "Given the 3d galaxy model, we obtain an image by integrating along the first axis to obtain a perfect scene. Since the axes are pixels, integation just amounts to summing along the first index. We want to convolve the point spread function (PSF) with this image. We do this in the following steps:\n",
    "\n",
    "1. Zero-pad the arrays by inserting them in the center of a (256, 256) array of zeros. \n",
    "\n",
    "2. Perform an FFT on each of the arrays.\n",
    "\n",
    "3. Do the convolution on the fourier transformed arrays. This is jst element-wise multiplication.\n",
    "\n",
    "4. Inverse FFT back.\n",
    "\n",
    "5. Do an FFT shift to recenter the resulting image. Nice!\n",
    "\n",
    "The results are shown below. The FFT method written below follows a version of the Cooley-Tukey FFT algorithm, which was described in class. I checked that it gives the same result as the numpy FFT method."
   ]
  },
  {
   "cell_type": "code",
   "execution_count": 8,
   "metadata": {
    "collapsed": false
   },
   "outputs": [
    {
     "data": {
      "text/plain": [
       "<matplotlib.text.Text at 0x7f4951c358d0>"
      ]
     },
     "execution_count": 8,
     "metadata": {},
     "output_type": "execute_result"
    },
    {
     "data": {
      "image/png": "[encoded data removed]",
      "text/plain": [
       "<matplotlib.figure.Figure at 0x7f4951d53358>"
      ]
     },
     "metadata": {},
     "output_type": "display_data"
    }
   ],
   "source": [
    "#Read in FITS file and plot PSF\n",
    "\n",
    "model_file = fits.open('../../hw6prob2_model.fits')\n",
    "model_data = model_file[0].data\n",
    "#print(model_data.shape)\n",
    "\n",
    "psf_file = fits.open('../../hw6prob2_psf.fits')\n",
    "psf_data = psf_file[0].data\n",
    "plt.contourf(psf_data)\n",
    "plt.colorbar()\n",
    "plt.title('Point spread function (PSF)')\n",
    "plt.xlabel('[pix]')\n",
    "plt.ylabel('[pix]')"
   ]
  },
  {
   "cell_type": "code",
   "execution_count": 9,
   "metadata": {
    "collapsed": false
   },
   "outputs": [
    {
     "data": {
      "text/plain": [
       "<matplotlib.text.Text at 0x7f4950bed438>"
      ]
     },
     "execution_count": 9,
     "metadata": {},
     "output_type": "execute_result"
    },
    {
     "data": {
      "image/png": "[encoded data removed]",
      "text/plain": [
       "<matplotlib.figure.Figure at 0x7f4951d48828>"
      ]
     },
     "metadata": {},
     "output_type": "display_data"
    }
   ],
   "source": [
    "#Integrate model along the slow axis. \n",
    "\n",
    "model_int = np.sum(model_data, axis=0)\n",
    "#print(model_int.shape)\n",
    "plt.contourf(model_int)\n",
    "plt.colorbar()\n",
    "plt.title('Integrated model')\n",
    "plt.xlabel('[pix]')\n",
    "plt.ylabel('[pix]')"
   ]
  },
  {
   "cell_type": "code",
   "execution_count": 10,
   "metadata": {
    "collapsed": true
   },
   "outputs": [],
   "source": [
    "def zero_pad_2d(a, num):\n",
    "    '''take an 2d array and pad with zeros around edges\n",
    "    output is an array with size (num, num)'''\n",
    "    \n",
    "    a = np.asarray(a)\n",
    "    size = a.shape\n",
    "    \n",
    "    out = np.zeros((num,num))\n",
    "    \n",
    "    out[int((num-size[0])/2):int((num+size[0])/2),int((num-size[1])/2):int((num+size[1])/2)] = a\n",
    "    \n",
    "    return out"
   ]
  },
  {
   "cell_type": "code",
   "execution_count": 11,
   "metadata": {
    "collapsed": false
   },
   "outputs": [],
   "source": [
    "#from timeit import timeit\n",
    "\n",
    "def my_fft_1d(a, inverse=False, first_iter=True):\n",
    "    '''Computes a fast fourier transform of a 1d array, a. \n",
    "    Returns a complex array of the same size. Uses the Cooley-Tukey algorithm'''\n",
    "    \n",
    "    n = len(a)\n",
    "    out = np.zeros(n, dtype=complex)\n",
    "    \n",
    "    overall_factor = 1\n",
    "    if inverse:\n",
    "        s = -1\n",
    "        if first_iter:\n",
    "            overall_factor = float(1/n)\n",
    "    else:\n",
    "        s = 1\n",
    "        \n",
    "    if n == 1:\n",
    "        out[0] = a[0]\n",
    "    else:\n",
    "        out[0:int(n/2)] = my_fft_1d(a[0::2], inverse, first_iter=False)\n",
    "        out[int(n/2):] = my_fft_1d(a[1::2], inverse, first_iter=False)\n",
    "        for k in range(0,int(n/2)):\n",
    "            t = out[k]\n",
    "            out[k] = t + np.exp(-s*2*np.pi*1j*k/n)*out[k+int(n/2)]\n",
    "            out[k+int(n/2)] = t - np.exp(-s*2*np.pi*1j*k/n)*out[k+int(n/2)]\n",
    "    return overall_factor*out"
   ]
  },
  {
   "cell_type": "code",
   "execution_count": 12,
   "metadata": {
    "collapsed": true
   },
   "outputs": [],
   "source": [
    "def my_fft_2d(a, inverse=False):\n",
    "    '''Computes 2d FFT using my_fft_1d'''\n",
    "    \n",
    "    a = np.asarray(a)\n",
    "    n1, n2 = a.shape\n",
    "    if n1 != n2:\n",
    "        print('Input must be a square array! Shape is', (n1,n2))\n",
    "        return None\n",
    "    N = n1\n",
    "    out = np.zeros((N,N), dtype=complex)\n",
    "    \n",
    "    #FFT columns\n",
    "    for i in range(0,N):\n",
    "        out[:,i] = my_fft_1d(a[:,i], inverse, first_iter=True)\n",
    "            \n",
    "    #FFT rows\n",
    "    for j in range(0,N):\n",
    "        out[j,:] = my_fft_1d(out[j,:], inverse, first_iter=True)\n",
    "        \n",
    "    return out"
   ]
  },
  {
   "cell_type": "code",
   "execution_count": 16,
   "metadata": {
    "collapsed": false
   },
   "outputs": [
    {
     "data": {
      "text/plain": [
       "<matplotlib.text.Text at 0x7f4950a68470>"
      ]
     },
     "execution_count": 16,
     "metadata": {},
     "output_type": "execute_result"
    },
    {
     "data": {
      "image/png": "[encoded data removed]",
      "text/plain": [
       "<matplotlib.figure.Figure at 0x7f4950a3fe48>"
      ]
     },
     "metadata": {},
     "output_type": "display_data"
    }
   ],
   "source": [
    "#Zero pad data\n",
    "model_int_p = zero_pad_2d(model_int, 256)\n",
    "psf_data_p = zero_pad_2d(psf_data, 256)\n",
    "\n",
    "#FFT padded data\n",
    "model_int_f = my_fft_2d(model_int_p)\n",
    "psf_data_f = my_fft_2d(psf_data_p)\n",
    "\n",
    "#Do convolution in Fourier space, i.e. element-wise multiplication\n",
    "conv_f = model_int_f*psf_data_f\n",
    "\n",
    "#Inverse FFT back\n",
    "conv = my_fft_2d(conv_f, inverse=True)\n",
    "\n",
    "#Plot result\n",
    "plt.contourf(np.real(np.fft.fftshift(conv)))\n",
    "plt.colorbar()\n",
    "plt.title('Galaxy image convolved with PSF')\n",
    "plt.xlabel('[pix]')\n",
    "plt.ylabel('[pix]')"
   ]
  }
 ],
 "metadata": {
  "kernelspec": {
   "display_name": "Python 3",
   "language": "python",
   "name": "python3"
  },
  "language_info": {
   "codemirror_mode": {
    "name": "ipython",
    "version": 3
   },
   "file_extension": ".py",
   "mimetype": "text/x-python",
   "name": "python",
   "nbconvert_exporter": "python",
   "pygments_lexer": "ipython3",
   "version": "3.5.1"
  }
 },
 "nbformat": 4,
 "nbformat_minor": 0
}
