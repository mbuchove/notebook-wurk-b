{
 "cells": [
  {
   "cell_type": "code",
   "execution_count": 5,
   "metadata": {
    "collapsed": true
   },
   "outputs": [],
   "source": [
    "import copy"
   ]
  },
  {
   "cell_type": "code",
   "execution_count": 1,
   "metadata": {
    "collapsed": false
   },
   "outputs": [
    {
     "name": "stdout",
     "output_type": "stream",
     "text": [
      "23\n"
     ]
    }
   ],
   "source": [
    "def answer(x):\n",
    "    totalrabbits = 0\n",
    "    for famsize in x:\n",
    "        totalrabbits += famsize\n",
    "    return totalrabbits\n",
    "\n",
    "testarray = [5, 10, 8]\n",
    "print(answer(testarray))"
   ]
  },
  {
   "cell_type": "code",
   "execution_count": 6,
   "metadata": {
    "collapsed": true
   },
   "outputs": [],
   "source": [
    "def answer(population, x, y, strength):\n",
    "    # flip axes for matrix indexing\n",
    "    if population[y][x] > strength:\n",
    "        return population\n",
    "    else: # do urrything\n",
    "        #newpopulation = list(population)\n",
    "        #newpopulation = population[:]\n",
    "        #newpopulation = []\n",
    "        #newpopulation.extend(population)\n",
    "        newpopulation = copy.deepcopy(population)\n",
    "        xmax = len(population[0])\n",
    "        ymax = len(population)\n",
    "        newlyinfected = [(x,y)]\n",
    "        while len(newlyinfected) > 0:\n",
    "            tempinfected = []\n",
    "            for infected in newlyinfected:\n",
    "                xi, yi = infected\n",
    "                if xi - 1 >= 0: # x-1 > 0 \n",
    "                    if newpopulation[yi][xi-1] <= strength and newpopulation[yi][xi-1]>-1:\n",
    "                        newpopulation[yi][xi-1] = -1\n",
    "                        tempinfected.append((xi-1,yi))\n",
    "                if xi + 1 < xmax:\n",
    "                    if newpopulation[yi][xi+1] <= strength and newpopulation[yi][xi+1]>-1:\n",
    "                        newpopulation[yi][xi+1] = -1\n",
    "                        tempinfected.append((xi+1,yi))\n",
    "                if yi - 1 >= 0: # x-1 > 0 \n",
    "                    if newpopulation[yi-1][xi] <= strength and newpopulation[yi-1][xi]>-1:\n",
    "                        newpopulation[yi-1][xi] = -1\n",
    "                        tempinfected.append((xi,yi-1))\n",
    "                if yi + 1 < xmax:\n",
    "                    if newpopulation[yi+1][xi] <= strength and newpopulation[yi+1][xi]>-1:\n",
    "                        newpopulation[yi+1][xi] = -1\n",
    "                        tempinfected.append((xi,yi+1))\n",
    "            newlyinfected = tempinfected\n",
    "        return newpopulation\n",
    "      "
   ]
  },
  {
   "cell_type": "code",
   "execution_count": 7,
   "metadata": {
    "collapsed": false
   },
   "outputs": [
    {
     "name": "stdout",
     "output_type": "stream",
     "text": [
      "[[-1, -1, 3], [-1, 3, 4], [3, 2, 1]]\n",
      "[[1, 2, 3], [2, 3, 4], [3, 2, 1]]\n"
     ]
    }
   ],
   "source": [
    "population = [[1, 2, 3], [2, 3, 4], [3, 2, 1]]\n",
    "x = 0 \n",
    "y = 0 \n",
    "strength = 2\n",
    "\n",
    "print(answer(population, x, y, strength))\n",
    "print(population)\n"
   ]
  }
 ],
 "metadata": {
  "kernelspec": {
   "display_name": "Python 3",
   "language": "python",
   "name": "python3"
  },
  "language_info": {
   "codemirror_mode": {
    "name": "ipython",
    "version": 3
   },
   "file_extension": ".py",
   "mimetype": "text/x-python",
   "name": "python",
   "nbconvert_exporter": "python",
   "pygments_lexer": "ipython3",
   "version": "3.5.1"
  }
 },
 "nbformat": 4,
 "nbformat_minor": 0
}
