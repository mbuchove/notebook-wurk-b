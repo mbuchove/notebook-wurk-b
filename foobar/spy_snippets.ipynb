{
 "cells": [
  {
   "cell_type": "code",
   "execution_count": 38,
   "metadata": {
    "collapsed": true
   },
   "outputs": [],
   "source": [
    "def answer(document, searchTerms):\n",
    "    \"\"\"returns the shortest substring of document that includes all the search terms\n",
    "    document - a string containing only lowercase letters, between 1 and 500 characters, \n",
    "    searchTerms - will be a list of lowercase strings\"\"\"\n",
    "    \n",
    "    wordlist = document.split()\n",
    "    doc_length = len(wordlist)\n",
    "    \n",
    "    candidates = []\n",
    "    short_substr = (0, doc_length)\n",
    "    \n",
    "    for i in range(doc_length):\n",
    "        if wordlist[i] in searchTerms:\n",
    "            new_candidate = (i, list(searchTerms))\n",
    "            candidates.append(new_candidate)\n",
    "            for candidate in candidates:\n",
    "                if wordlist[i] in candidate[1]:\n",
    "                    candidate[1].remove(wordlist[i])\n",
    "                if not candidate[1]:\n",
    "                    substr_len = i - candidate[0]\n",
    "                    if substr_len < short_substr[1] - short_substr[0]:\n",
    "                        short_substr = (candidate[0], i)\n",
    "    \n",
    "    \n",
    "    return ' '.join(wordlist[short_substr[0]:short_substr[1]+1])\n",
    "    "
   ]
  },
  {
   "cell_type": "code",
   "execution_count": 39,
   "metadata": {
    "collapsed": false
   },
   "outputs": [
    {
     "name": "stdout",
     "output_type": "stream",
     "text": [
      "google employees can program\n"
     ]
    }
   ],
   "source": [
    "document1 = \"many google employees can program\"\n",
    "searchTerms1 = [\"google\", \"program\"]\n",
    "print(answer(document1, searchTerms1))"
   ]
  },
  {
   "cell_type": "code",
   "execution_count": 40,
   "metadata": {
    "collapsed": false
   },
   "outputs": [
    {
     "name": "stdout",
     "output_type": "stream",
     "text": [
      "c d a\n"
     ]
    }
   ],
   "source": [
    "document2 = \"a b c d a\"\n",
    "searchTerms2 = [\"a\", \"c\", \"d\"]\n",
    "print(answer(document2, searchTerms2))"
   ]
  },
  {
   "cell_type": "code",
   "execution_count": 18,
   "metadata": {
    "collapsed": false
   },
   "outputs": [
    {
     "name": "stdout",
     "output_type": "stream",
     "text": [
      "hi\n"
     ]
    }
   ],
   "source": [
    "emp = [1]\n",
    "if emp:\n",
    "    print('hi')"
   ]
  }
 ],
 "metadata": {
  "kernelspec": {
   "display_name": "Python 3",
   "language": "python",
   "name": "python3"
  },
  "language_info": {
   "codemirror_mode": {
    "name": "ipython",
    "version": 3
   },
   "file_extension": ".py",
   "mimetype": "text/x-python",
   "name": "python",
   "nbconvert_exporter": "python",
   "pygments_lexer": "ipython3",
   "version": "3.5.1"
  }
 },
 "nbformat": 4,
 "nbformat_minor": 0
}
