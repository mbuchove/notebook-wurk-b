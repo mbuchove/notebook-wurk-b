{
 "cells": [
  {
   "cell_type": "code",
   "execution_count": 20,
   "metadata": {
    "collapsed": true
   },
   "outputs": [],
   "source": [
    "from timeit import timeit"
   ]
  },
  {
   "cell_type": "code",
   "execution_count": 52,
   "metadata": {
    "collapsed": false
   },
   "outputs": [],
   "source": [
    "def answer(food, grid):\n",
    "    N = len(grid)\n",
    "    # make grid to store list of all possible food consumption values to arrive at room\n",
    "    paths_grid = [ [ [] ]*N ] * N\n",
    "    paths_grid[0][0] = [food,]\n",
    "    for row in range(N):\n",
    "        for col in range(N):\n",
    "            if col > 0:\n",
    "                paths_grid[row][col] = [x-grid[row][col] for x in paths_grid[row][col-1] if x-grid[row][col]>0]\n",
    "            if row > 0:\n",
    "                grid_temp = [x-grid[row][col] for x in paths_grid[row-1][col]]\n",
    "                paths_grid[row][col].extend([x for x in grid_temp if x>0 and x not in paths_grid[row][col]])\n",
    "            for x in range(len(paths_grid[row][col])):\n",
    "                paths_grid[row][col][x] = paths_grid[row][col][x] - grid[row][col]\n",
    "            #paths_grid[row][col] = [x-grid[row][col] for x in paths_grid[row][col] if x-grid[row][col]>=0]\n",
    "            if not paths_grid[row][col]:\n",
    "                break # don't need to keep going right if you can't even get here without exceeding food\n",
    "        # could check for null remainder of column too, but not valuable for a simple example like this\n",
    "    if paths_grid[N-1][N-1]:\n",
    "        return min(paths_grid[N-1][N-1])\n",
    "    else:\n",
    "        return -1\n",
    "        "
   ]
  },
  {
   "cell_type": "code",
   "execution_count": 19,
   "metadata": {
    "collapsed": false
   },
   "outputs": [
    {
     "name": "stdout",
     "output_type": "stream",
     "text": [
      "0\n",
      "1\n"
     ]
    }
   ],
   "source": [
    "f1 = 7 \n",
    "g1 = [[0, 2, 5], [1, 1, 3], [2, 1, 1]]\n",
    "print(answer(f1, g1))\n",
    "\n",
    "f2 = 12\n",
    "g2 = [[0, 2, 5], [1, 1, 3], [2, 1, 1]]\n",
    "print(answer(f2, g2))\n"
   ]
  },
  {
   "cell_type": "code",
   "execution_count": 23,
   "metadata": {
    "collapsed": true
   },
   "outputs": [],
   "source": [
    "import random"
   ]
  },
  {
   "cell_type": "code",
   "execution_count": 47,
   "metadata": {
    "collapsed": true
   },
   "outputs": [],
   "source": [
    "def rand_grid(N, n=10):\n",
    "    f = n * N**2\n",
    "    g = [ [0]*N ]*N\n",
    "    g = [ [random.randint(1, n) for x in group] for group in g ]\n",
    "    print(answer(f, g))\n"
   ]
  },
  {
   "cell_type": "code",
   "execution_count": 58,
   "metadata": {
    "collapsed": false
   },
   "outputs": [
    {
     "name": "stdout",
     "output_type": "stream",
     "text": [
      "3444\n"
     ]
    }
   ],
   "source": [
    "rand_grid(20)\n",
    "#%timeit answer(f3, g3)"
   ]
  },
  {
   "cell_type": "code",
   "execution_count": 30,
   "metadata": {
    "collapsed": true
   },
   "outputs": [],
   "source": [
    "random.randint?"
   ]
  },
  {
   "cell_type": "code",
   "execution_count": 44,
   "metadata": {
    "collapsed": false
   },
   "outputs": [
    {
     "name": "stdout",
     "output_type": "stream",
     "text": [
      "[[4, 9, 1, 4, 10, 1, 5, 1, 5, 9, 4, 8, 6, 9, 10, 8, 5, 4, 5, 7], [5, 10, 5, 8, 7, 3, 5, 5, 10, 6, 4, 9, 8, 10, 10, 5, 6, 8, 1, 8], [8, 1, 6, 8, 5, 3, 6, 3, 4, 6, 5, 5, 5, 5, 8, 6, 4, 8, 9, 10], [1, 7, 10, 8, 1, 5, 6, 4, 3, 1, 5, 8, 3, 6, 5, 3, 7, 3, 10, 10], [3, 7, 1, 10, 8, 9, 8, 6, 7, 5, 3, 4, 4, 1, 1, 2, 8, 9, 1, 7], [9, 4, 6, 6, 2, 9, 4, 6, 3, 9, 7, 10, 5, 6, 2, 8, 6, 5, 5, 7], [2, 6, 3, 6, 9, 7, 1, 5, 8, 4, 8, 9, 2, 5, 8, 5, 4, 6, 6, 1], [10, 2, 7, 2, 4, 10, 6, 6, 9, 4, 9, 1, 4, 2, 1, 9, 10, 5, 10, 5], [10, 6, 7, 3, 3, 8, 5, 7, 8, 1, 8, 1, 7, 2, 8, 3, 4, 6, 4, 3], [6, 9, 4, 10, 7, 6, 2, 2, 8, 9, 8, 9, 8, 4, 6, 6, 6, 6, 2, 7], [6, 3, 1, 7, 9, 6, 4, 3, 1, 6, 10, 7, 1, 8, 10, 3, 5, 10, 8, 7], [4, 9, 5, 7, 3, 8, 8, 4, 3, 5, 3, 10, 4, 7, 7, 8, 4, 10, 9, 1], [8, 7, 8, 4, 6, 1, 1, 1, 9, 5, 4, 1, 7, 8, 3, 1, 3, 5, 7, 8], [3, 1, 8, 6, 4, 2, 2, 9, 1, 8, 1, 10, 10, 9, 3, 3, 4, 7, 5, 5], [5, 10, 5, 5, 3, 1, 5, 1, 1, 7, 5, 9, 3, 7, 7, 10, 3, 6, 4, 6], [5, 5, 10, 9, 10, 3, 3, 4, 6, 1, 8, 2, 1, 2, 3, 2, 7, 1, 9, 3], [6, 4, 9, 3, 3, 7, 7, 3, 9, 6, 5, 7, 1, 9, 8, 2, 2, 4, 6, 4], [3, 7, 8, 2, 6, 1, 10, 5, 10, 4, 6, 3, 1, 7, 7, 2, 1, 4, 2, 1], [10, 1, 4, 10, 8, 7, 8, 4, 10, 7, 7, 3, 9, 2, 3, 8, 6, 9, 8, 7], [5, 6, 6, 10, 2, 6, 5, 3, 7, 1, 5, 8, 7, 1, 3, 4, 1, 9, 5, 9]]\n",
      "[[5, 10, 2, 5, 11, 2, 6, 2, 6, 10, 5, 9, 7, 10, 11, 9, 6, 5, 6, 8], [6, 11, 6, 9, 8, 4, 6, 6, 11, 7, 5, 10, 9, 11, 11, 6, 7, 9, 2, 9], [9, 2, 7, 9, 6, 4, 7, 4, 5, 7, 6, 6, 6, 6, 9, 7, 5, 9, 10, 11], [2, 8, 11, 9, 2, 6, 7, 5, 4, 2, 6, 9, 4, 7, 6, 4, 8, 4, 11, 11], [4, 8, 2, 11, 9, 10, 9, 7, 8, 6, 4, 5, 5, 2, 2, 3, 9, 10, 2, 8], [10, 5, 7, 7, 3, 10, 5, 7, 4, 10, 8, 11, 6, 7, 3, 9, 7, 6, 6, 8], [3, 7, 4, 7, 10, 8, 2, 6, 9, 5, 9, 10, 3, 6, 9, 6, 5, 7, 7, 2], [11, 3, 8, 3, 5, 11, 7, 7, 10, 5, 10, 2, 5, 3, 2, 10, 11, 6, 11, 6], [11, 7, 8, 4, 4, 9, 6, 8, 9, 2, 9, 2, 8, 3, 9, 4, 5, 7, 5, 4], [7, 10, 5, 11, 8, 7, 3, 3, 9, 10, 9, 10, 9, 5, 7, 7, 7, 7, 3, 8], [7, 4, 2, 8, 10, 7, 5, 4, 2, 7, 11, 8, 2, 9, 11, 4, 6, 11, 9, 8], [5, 10, 6, 8, 4, 9, 9, 5, 4, 6, 4, 11, 5, 8, 8, 9, 5, 11, 10, 2], [9, 8, 9, 5, 7, 2, 2, 2, 10, 6, 5, 2, 8, 9, 4, 2, 4, 6, 8, 9], [4, 2, 9, 7, 5, 3, 3, 10, 2, 9, 2, 11, 11, 10, 4, 4, 5, 8, 6, 6], [6, 11, 6, 6, 4, 2, 6, 2, 2, 8, 6, 10, 4, 8, 8, 11, 4, 7, 5, 7], [6, 6, 11, 10, 11, 4, 4, 5, 7, 2, 9, 3, 2, 3, 4, 3, 8, 2, 10, 4], [7, 5, 10, 4, 4, 8, 8, 4, 10, 7, 6, 8, 2, 10, 9, 3, 3, 5, 7, 5], [4, 8, 9, 3, 7, 2, 11, 6, 11, 5, 7, 4, 2, 8, 8, 3, 2, 5, 3, 2], [11, 2, 5, 11, 9, 8, 9, 5, 11, 8, 8, 4, 10, 3, 4, 9, 7, 10, 9, 8], [6, 7, 7, 11, 3, 7, 6, 4, 8, 2, 6, 9, 8, 2, 4, 5, 2, 10, 6, 10]]\n"
     ]
    }
   ],
   "source": [
    "\n",
    "#for row in g3:\n",
    "#    for num in row:\n",
    "        #print(id(num))\n",
    "#        num = num + 1 \n",
    "        \n",
    "for row in range(N3):\n",
    "    for col in range(N3):\n",
    "        g3[row][col] = g3[row][col] + 1 \n",
    "\n",
    "\n"
   ]
  },
  {
   "cell_type": "code",
   "execution_count": null,
   "metadata": {
    "collapsed": false
   },
   "outputs": [],
   "source": [
    "test_grid = [ [ [] ]*5 ] * 5\n",
    "print(test_grid)\n",
    "test_list = [5, 3, 4]\n",
    "print([x+5 for x in test_list if x<5])\n",
    "emptylist = []\n",
    "if not emptylist:\n",
    "    print('hi')"
   ]
  }
 ],
 "metadata": {
  "kernelspec": {
   "display_name": "Python 2",
   "language": "python",
   "name": "python2"
  },
  "language_info": {
   "codemirror_mode": {
    "name": "ipython",
    "version": 2
   },
   "file_extension": ".py",
   "mimetype": "text/x-python",
   "name": "python",
   "nbconvert_exporter": "python",
   "pygments_lexer": "ipython2",
   "version": "2.7.11"
  }
 },
 "nbformat": 4,
 "nbformat_minor": 0
}
