{
 "cells": [
  {
   "cell_type": "code",
   "execution_count": 20,
   "metadata": {
    "collapsed": true
   },
   "outputs": [],
   "source": [
    "from timeit import timeit"
   ]
  },
  {
   "cell_type": "code",
   "execution_count": 17,
   "metadata": {
    "collapsed": false
   },
   "outputs": [],
   "source": [
    "def answer(food, grid):\n",
    "    N = len(grid)\n",
    "    # make grid to store list of all possible food consumption values to arrive at room\n",
    "    paths_grid = [ [ [] ]*N ] * N\n",
    "    paths_grid[0][0] = [food,]\n",
    "    for row in range(N):\n",
    "        for col in range(N):\n",
    "            if row > 0:\n",
    "                paths_grid[row][col].extend(paths_grid[row-1][col])\n",
    "            if col > 0:\n",
    "                paths_grid[row][col].extend(paths_grid[row][col-1])\n",
    "            paths_grid[row][col] = [x-grid[row][col] for x in paths_grid[row][col] if x-grid[row][col]>=0]\n",
    "            if not paths_grid[row][col]:\n",
    "                break # don't need to keep going right if you can't even get here without exceeding food\n",
    "        # could check for null remainder of column too, but not valuable for a simple example like this\n",
    "    if paths_grid[N-1][N-1]:\n",
    "        return min(paths_grid[N-1][N-1])\n",
    "    else:\n",
    "        return -1\n",
    "        "
   ]
  },
  {
   "cell_type": "code",
   "execution_count": 19,
   "metadata": {
    "collapsed": false
   },
   "outputs": [
    {
     "name": "stdout",
     "output_type": "stream",
     "text": [
      "0\n",
      "1\n"
     ]
    }
   ],
   "source": [
    "f1 = 7 \n",
    "g1 = [[0, 2, 5], [1, 1, 3], [2, 1, 1]]\n",
    "print(answer(f1, g1))\n",
    "\n",
    "f2 = 12\n",
    "g2 = [[0, 2, 5], [1, 1, 3], [2, 1, 1]]\n",
    "print(answer(f2, g2))\n"
   ]
  },
  {
   "cell_type": "code",
   "execution_count": 23,
   "metadata": {
    "collapsed": true
   },
   "outputs": [],
   "source": [
    "import random"
   ]
  },
  {
   "cell_type": "code",
   "execution_count": 39,
   "metadata": {
    "collapsed": false
   },
   "outputs": [
    {
     "name": "stdout",
     "output_type": "stream",
     "text": [
      "[[2, 6, 6, 9, 5, 3, 7, 10, 8, 1, 8, 5, 1, 5, 4, 3, 2, 4, 6, 4], [4, 8, 1, 2, 7, 7, 4, 6, 9, 6, 1, 9, 10, 7, 5, 10, 2, 3, 10, 6], [4, 3, 10, 3, 7, 7, 6, 9, 5, 2, 6, 4, 2, 1, 4, 3, 3, 10, 5, 6], [4, 1, 1, 9, 3, 7, 10, 6, 1, 6, 5, 6, 8, 1, 1, 6, 3, 5, 7, 5], [7, 7, 4, 3, 8, 2, 2, 8, 10, 5, 8, 5, 3, 9, 6, 7, 6, 6, 8, 6], [4, 9, 8, 8, 6, 3, 4, 3, 2, 8, 3, 2, 5, 5, 9, 9, 4, 10, 9, 3], [8, 6, 8, 2, 5, 2, 9, 9, 2, 9, 8, 6, 7, 9, 5, 7, 10, 3, 6, 8], [5, 9, 4, 2, 5, 5, 8, 1, 2, 7, 4, 4, 4, 2, 5, 2, 5, 7, 3, 2], [8, 3, 8, 7, 3, 2, 7, 10, 1, 4, 4, 7, 2, 4, 3, 1, 4, 3, 5, 1], [5, 6, 8, 8, 5, 8, 4, 2, 4, 7, 10, 1, 8, 4, 7, 3, 5, 8, 2, 8], [9, 3, 10, 4, 2, 6, 3, 3, 9, 5, 6, 10, 8, 10, 4, 1, 9, 4, 7, 4], [8, 2, 2, 1, 10, 2, 10, 7, 7, 6, 6, 3, 3, 5, 4, 1, 4, 9, 4, 3], [8, 2, 7, 8, 9, 6, 4, 3, 3, 1, 2, 3, 10, 8, 8, 7, 2, 8, 9, 6], [10, 5, 10, 5, 1, 8, 9, 10, 1, 5, 5, 2, 1, 4, 3, 10, 5, 2, 8, 1], [3, 10, 10, 1, 10, 8, 4, 5, 9, 6, 5, 1, 7, 9, 1, 8, 2, 5, 8, 10], [8, 10, 8, 4, 4, 5, 7, 7, 5, 5, 5, 9, 3, 4, 8, 9, 1, 4, 3, 6], [5, 3, 4, 3, 3, 2, 7, 5, 10, 6, 2, 1, 4, 2, 9, 2, 1, 1, 7, 8], [8, 1, 10, 4, 7, 1, 10, 5, 9, 10, 1, 7, 8, 3, 3, 6, 4, 9, 5, 10], [3, 8, 9, 1, 10, 6, 4, 6, 3, 8, 5, 10, 1, 7, 2, 5, 2, 9, 8, 5], [9, 6, 4, 9, 3, 6, 8, 7, 2, 9, 2, 1, 6, 7, 6, 7, 4, 10, 5, 10]]\n"
     ]
    }
   ],
   "source": [
    "f3 = 5000\n",
    "g3 = [ [0]*20 ]*20\n",
    "g3 = [ [random.randint(1, 10) for x in group] for group in g3 ]\n",
    "print(g3)\n"
   ]
  },
  {
   "cell_type": "code",
   "execution_count": null,
   "metadata": {
    "collapsed": false
   },
   "outputs": [],
   "source": [
    "print(answer(f3, g3))\n",
    "#%timeit answer(f3, g3)"
   ]
  },
  {
   "cell_type": "code",
   "execution_count": 30,
   "metadata": {
    "collapsed": true
   },
   "outputs": [],
   "source": [
    "random.randint?"
   ]
  },
  {
   "cell_type": "code",
   "execution_count": null,
   "metadata": {
    "collapsed": false
   },
   "outputs": [],
   "source": [
    "test_grid = [ [ [] ]*5 ] * 5\n",
    "print(test_grid)\n",
    "test_list = [5, 3, 4]\n",
    "print([x+5 for x in test_list if x<5])\n",
    "emptylist = []\n",
    "if not emptylist:\n",
    "    print('hi')"
   ]
  }
 ],
 "metadata": {
  "kernelspec": {
   "display_name": "Python 2",
   "language": "python",
   "name": "python2"
  },
  "language_info": {
   "codemirror_mode": {
    "name": "ipython",
    "version": 2
   },
   "file_extension": ".py",
   "mimetype": "text/x-python",
   "name": "python",
   "nbconvert_exporter": "python",
   "pygments_lexer": "ipython2",
   "version": "2.7.11"
  }
 },
 "nbformat": 4,
 "nbformat_minor": 0
}
