{
 "cells": [
  {
   "cell_type": "code",
   "execution_count": 67,
   "metadata": {
    "collapsed": false
   },
   "outputs": [],
   "source": [
    "def answer(food, grid):\n",
    "    N = len(grid)\n",
    "    # make grid to store list of all possible food consumption values to arrive at room\n",
    "    paths_grid = [ [ [] ]*N ] * N\n",
    "    paths_grid[0][0] = [food,]\n",
    "    for row in range(N):\n",
    "        for col in range(N):\n",
    "            if col > 0:\n",
    "                paths_grid[row][col] = [x-grid[row][col] for x in paths_grid[row][col-1] if x-grid[row][col]>0]\n",
    "            if row > 0:\n",
    "                grid_temp = [x-grid[row][col] for x in paths_grid[row-1][col]]\n",
    "                paths_grid[row][col].extend([x for x in grid_temp if x>0 and x not in paths_grid[row][col]])\n",
    "            for x in range(len(paths_grid[row][col])):\n",
    "                paths_grid[row][col][x] = paths_grid[row][col][x] - grid[row][col]\n",
    "            #paths_grid[row][col] = [x-grid[row][col] for x in paths_grid[row][col] if x-grid[row][col]>=0]\n",
    "            if not paths_grid[row][col]:\n",
    "                break # don't need to keep going right if you can't even get here without exceeding food\n",
    "        # could check for null remainder of column too, but not valuable for a simple example like this\n",
    "    if paths_grid[N-1][N-1]:\n",
    "        paths_grid[N-1][N-1].sort()\n",
    "        print(paths_grid[N-1][N-1])\n",
    "        return min(paths_grid[N-1][N-1])\n",
    "    else:\n",
    "        return -1\n",
    "        "
   ]
  },
  {
   "cell_type": "code",
   "execution_count": 20,
   "metadata": {
    "collapsed": true
   },
   "outputs": [],
   "source": [
    "from timeit import timeit"
   ]
  },
  {
   "cell_type": "code",
   "execution_count": 73,
   "metadata": {
    "collapsed": false
   },
   "outputs": [
    {
     "name": "stdout",
     "output_type": "stream",
     "text": [
      "[0]\n",
      "0\n",
      "[0, 1, 2, 3, 4, 5]\n",
      "0\n"
     ]
    }
   ],
   "source": [
    "f1 = 7 \n",
    "g1 = [[0, 2, 5], [1, 1, 3], [2, 1, 1]]\n",
    "print(answer(f1, g1))\n",
    "\n",
    "f2 = 12\n",
    "g2 = [[0, 2, 5], [1, 1, 3], [2, 1, 1]]\n",
    "print(answer(f2, g2))\n"
   ]
  },
  {
   "cell_type": "code",
   "execution_count": 23,
   "metadata": {
    "collapsed": true
   },
   "outputs": [],
   "source": [
    "import random"
   ]
  },
  {
   "cell_type": "code",
   "execution_count": 64,
   "metadata": {
    "collapsed": true
   },
   "outputs": [],
   "source": [
    "def rand_grid(N, n=10):\n",
    "    f = n * N**2\n",
    "    g = [ [0]*N ]*N\n",
    "    g = [ [random.randint(1, n) for x in group] for group in g ]\n",
    "    print(answer(f, g))\n"
   ]
  },
  {
   "cell_type": "code",
   "execution_count": 72,
   "metadata": {
    "collapsed": false
   },
   "outputs": [
    {
     "name": "stdout",
     "output_type": "stream",
     "text": [
      "[275, 276, 278, 279, 281, 282, 283, 284, 286, 287, 289, 290, 291, 292, 293, 294, 295, 296, 297, 298, 299, 300, 301, 302, 303, 304, 305, 306, 307, 308, 309, 310, 311, 312, 313, 314, 315, 316, 317, 318, 319, 320, 321, 322, 323, 324, 325, 326, 327, 328, 329, 330, 331, 332, 333, 334, 335, 336, 337, 338, 339, 340, 341, 342, 343, 344, 345, 346, 347, 349, 350, 352, 353, 354, 355, 357, 358, 360, 361]\n",
      "275\n"
     ]
    }
   ],
   "source": [
    "rand_grid(5, 20)\n",
    "#%timeit answer(f3, g3)"
   ]
  },
  {
   "cell_type": "code",
   "execution_count": 30,
   "metadata": {
    "collapsed": true
   },
   "outputs": [],
   "source": [
    "random.randint?"
   ]
  },
  {
   "cell_type": "code",
   "execution_count": 68,
   "metadata": {
    "collapsed": false
   },
   "outputs": [],
   "source": [
    "\n",
    "#for row in g3:\n",
    "#    for num in row:\n",
    "        #print(id(num))\n",
    "#        num = num + 1 \n",
    "        \n",
    "for row in range(N3):\n",
    "    for col in range(N3):\n",
    "        g3[row][col] = g3[row][col] + 1 \n",
    "\n",
    "\n"
   ]
  },
  {
   "cell_type": "code",
   "execution_count": null,
   "metadata": {
    "collapsed": false
   },
   "outputs": [],
   "source": [
    "test_grid = [ [ [] ]*5 ] * 5\n",
    "print(test_grid)\n",
    "test_list = [5, 3, 4]\n",
    "print([x+5 for x in test_list if x<5])\n",
    "emptylist = []\n",
    "if not emptylist:\n",
    "    print('hi')"
   ]
  }
 ],
 "metadata": {
  "kernelspec": {
   "display_name": "Python 2",
   "language": "python",
   "name": "python2"
  },
  "language_info": {
   "codemirror_mode": {
    "name": "ipython",
    "version": 2
   },
   "file_extension": ".py",
   "mimetype": "text/x-python",
   "name": "python",
   "nbconvert_exporter": "python",
   "pygments_lexer": "ipython2",
   "version": "2.7.11"
  }
 },
 "nbformat": 4,
 "nbformat_minor": 0
}
